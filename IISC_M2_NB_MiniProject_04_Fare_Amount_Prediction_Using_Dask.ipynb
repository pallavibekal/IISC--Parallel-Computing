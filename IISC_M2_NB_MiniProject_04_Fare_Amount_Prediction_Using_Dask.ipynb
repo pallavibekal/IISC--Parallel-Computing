{
  "nbformat": 4,
  "nbformat_minor": 0,
  "metadata": {
    "colab": {
      "name": "IISC-M2_NB_MiniProject_04_Fare_Amount_Prediction_Using_Dask.ipynb",
      "provenance": [],
      "collapsed_sections": [],
      "include_colab_link": true
    },
    "kernelspec": {
      "display_name": "Python 3",
      "language": "python",
      "name": "python3"
    },
    "language_info": {
      "codemirror_mode": {
        "name": "ipython",
        "version": 3
      },
      "file_extension": ".py",
      "mimetype": "text/x-python",
      "name": "python",
      "nbconvert_exporter": "python",
      "pygments_lexer": "ipython3",
      "version": "3.8.5"
    }
  },
  "cells": [
    {
      "cell_type": "markdown",
      "metadata": {
        "id": "view-in-github",
        "colab_type": "text"
      },
      "source": [
        "<a href=\"https://colab.research.google.com/github/pallavibekal/IISC--Parallel-Computing/blob/main/IISC_M2_NB_MiniProject_04_Fare_Amount_Prediction_Using_Dask.ipynb\" target=\"_parent\"><img src=\"https://colab.research.google.com/assets/colab-badge.svg\" alt=\"Open In Colab\"/></a>"
      ]
    },
    {
      "cell_type": "markdown",
      "metadata": {
        "id": "hawaiian-astronomy"
      },
      "source": [
        "# Advanced Certification Program in Computational Data Science\n",
        "## A program by IISc and TalentSprint\n",
        "### Mini-Project: Implementation of Linear Regression on a Large Dataset Using Dask Library"
      ]
    },
    {
      "cell_type": "markdown",
      "metadata": {
        "id": "latin-seventh"
      },
      "source": [
        "## Learning Objectives"
      ]
    },
    {
      "cell_type": "markdown",
      "metadata": {
        "id": "civil-joyce"
      },
      "source": [
        "At the end of the mini-project, you will be able to :\n",
        "\n",
        "- understand how dask handles large dataset over pandas dataframe \n",
        "- perform exploratory data analysis on a large dataset (2 Million rows) using dask\n",
        "- implement linear regression model using dask library and make predictions\n"
      ]
    },
    {
      "cell_type": "markdown",
      "metadata": {
        "id": "Cm1iYi7ZD7Yq"
      },
      "source": [
        "## Problem Statement"
      ]
    },
    {
      "cell_type": "markdown",
      "metadata": {
        "id": "wlU7vlOfD7uk"
      },
      "source": [
        " Predict the taxi fare amount in New York city using Dask-ML."
      ]
    },
    {
      "cell_type": "markdown",
      "metadata": {
        "id": "tGHv4isOD72Y"
      },
      "source": [
        "## Information"
      ]
    },
    {
      "cell_type": "markdown",
      "metadata": {
        "id": "bprA1vC_Fgjc"
      },
      "source": [
        "### Dask \n",
        "[Dask](https://dask.pydata.org/en/latest/) is an open source project that gives abstractions over NumPy Arrays, Pandas Dataframes and regular lists, allowing you to run operations on them in parallel, using multicore processing.\n",
        "\n",
        "We can summarize the basics of Dask as follows:\n",
        "\n",
        "* processes data that doesn’t fit into memory by breaking it into blocks and specifying task chains\n",
        "\n",
        "* parallelizes execution of tasks across cores and even nodes of a cluster\n",
        "\n",
        "* moves computation to the data rather than the other way around, to minimize communication overhead"
      ]
    },
    {
      "cell_type": "markdown",
      "metadata": {
        "id": "5YrOzD0RL5fc"
      },
      "source": [
        "### Dataset\n",
        "\n",
        "The dataset is based on the 2016 NYC Yellow Cab trip record data made available in Big Query on Google Cloud Platform. Its variables are as follows:\n",
        "![Dataset](https://drive.google.com/uc?export=view&id=1Biu7BEobFnJUxX7vZvgYfo4mi_Bz_ctl)\n",
        "\n",
        "\n"
      ]
    },
    {
      "cell_type": "markdown",
      "metadata": {
        "id": "ndQNKsjS7c04"
      },
      "source": [
        "## Grading = 10 Points"
      ]
    },
    {
      "cell_type": "code",
      "metadata": {
        "id": "NH3jusKBx2LN"
      },
      "source": [
        "#@title Install Dask dependencies and restart runtime\n",
        "!pip -qq install dask-ml\n",
        "!pip -qq install dask\n",
        "!pip -qq install dask[delayed]\n",
        "!pip -qq install dask[dataframe] --upgrade"
      ],
      "execution_count": null,
      "outputs": []
    },
    {
      "cell_type": "code",
      "metadata": {
        "id": "tJZzoOpmDust"
      },
      "source": [
        "#@title Install Dask dependencies and restart runtime\n",
        "!pip -qq install dask-ml\n",
        "!pip -qq install dask\n",
        "!pip -qq install dask[delayed]\n",
        "!pip -qq install dask[dataframe] --upgrade"
      ],
      "execution_count": null,
      "outputs": []
    },
    {
      "cell_type": "markdown",
      "metadata": {
        "id": "powerful-preservation"
      },
      "source": [
        "#### Importing Necessary Packages"
      ]
    },
    {
      "cell_type": "code",
      "metadata": {
        "id": "6tZDtdlmShI5"
      },
      "source": [
        "import warnings\n",
        "warnings.filterwarnings('ignore')\n",
        "import dask\n",
        "import dask.dataframe as dd\n",
        "import dask.array as da\n",
        "from dask_ml.linear_model import LinearRegression\n",
        "from dask_ml.model_selection import train_test_split\n",
        "from dask_ml.metrics import mean_squared_error, r2_score\n",
        "from dask.distributed import Client\n",
        "import time as time\n",
        "import numpy as np\n",
        "import pandas as pd\n",
        "import seaborn as sns\n",
        "import matplotlib.pyplot as plt\n",
        "\n",
        "from dask.distributed import Client, progress\n",
        "client = Client()"
      ],
      "execution_count": null,
      "outputs": []
    },
    {
      "cell_type": "code",
      "metadata": {
        "id": "anjQfD2Imqpg",
        "cellView": "form",
        "colab": {
          "base_uri": "https://localhost:8080/"
        },
        "outputId": "98dda3fb-4caf-40db-a874-1332217b94e3"
      },
      "source": [
        "#@title Download the data\n",
        "!wget https://cdn.iisc.talentsprint.com/CDS/MiniProjects/Dask_MP_dataset.csv"
      ],
      "execution_count": null,
      "outputs": [
        {
          "output_type": "stream",
          "name": "stdout",
          "text": [
            "--2021-09-11 05:29:15--  https://cdn.iisc.talentsprint.com/CDS/MiniProjects/Dask_MP_dataset.csv\n",
            "Resolving cdn.iisc.talentsprint.com (cdn.iisc.talentsprint.com)... 172.105.52.210\n",
            "Connecting to cdn.iisc.talentsprint.com (cdn.iisc.talentsprint.com)|172.105.52.210|:443... connected.\n",
            "HTTP request sent, awaiting response... 200 OK\n",
            "Length: 231900522 (221M) [application/octet-stream]\n",
            "Saving to: ‘Dask_MP_dataset.csv.1’\n",
            "\n",
            "Dask_MP_dataset.csv 100%[===================>] 221.16M  19.2MB/s    in 13s     \n",
            "\n",
            "2021-09-11 05:29:29 (16.6 MB/s) - ‘Dask_MP_dataset.csv.1’ saved [231900522/231900522]\n",
            "\n"
          ]
        }
      ]
    },
    {
      "cell_type": "markdown",
      "metadata": {
        "id": "-a0QVo9kyVdj"
      },
      "source": [
        "#### Exercise 1: Read the dataset using dask library and compare the time of execution with pandas library.\n",
        "\n",
        "**Hint:** pass `dtype` for passenger_count as `int64`"
      ]
    },
    {
      "cell_type": "code",
      "metadata": {
        "id": "AFyPyYzkyS0I",
        "colab": {
          "base_uri": "https://localhost:8080/"
        },
        "outputId": "77cc72c9-caad-4a07-b3df-e38196fe757b"
      },
      "source": [
        "%%time\n",
        "# YOUR CODE HERE\n",
        "df_dd = dd.read_csv('Dask_MP_dataset.csv')\n",
        "\n",
        "df_dd[\"passenger_count\"].astype('int64')\n",
        "print(df_dd.columns)"
      ],
      "execution_count": null,
      "outputs": [
        {
          "output_type": "stream",
          "name": "stdout",
          "text": [
            "Index(['Unnamed: 0', 'key', 'fare_amount', 'pickup_datetime',\n",
            "       'pickup_longitude', 'pickup_latitude', 'dropoff_longitude',\n",
            "       'dropoff_latitude', 'passenger_count'],\n",
            "      dtype='object')\n",
            "CPU times: user 15.1 ms, sys: 11.3 ms, total: 26.4 ms\n",
            "Wall time: 27 ms\n"
          ]
        }
      ]
    },
    {
      "cell_type": "markdown",
      "metadata": {
        "id": "0A8klstKFh5S"
      },
      "source": [
        ""
      ]
    },
    {
      "cell_type": "code",
      "metadata": {
        "colab": {
          "base_uri": "https://localhost:8080/"
        },
        "id": "kBchsuoVFQu6",
        "outputId": "fba65e5b-a819-44a8-8364-138e9ad1c431"
      },
      "source": [
        "df_dd.isnull().sum().compute()"
      ],
      "execution_count": null,
      "outputs": [
        {
          "output_type": "execute_result",
          "data": {
            "text/plain": [
              "Unnamed: 0            0\n",
              "key                   0\n",
              "fare_amount           0\n",
              "pickup_datetime       0\n",
              "pickup_longitude      0\n",
              "pickup_latitude       0\n",
              "dropoff_longitude    14\n",
              "dropoff_latitude     14\n",
              "passenger_count       0\n",
              "dtype: int64"
            ]
          },
          "metadata": {},
          "execution_count": 5
        }
      ]
    },
    {
      "cell_type": "markdown",
      "metadata": {
        "id": "yOPXzam_yOO7"
      },
      "source": [
        "#### Use pandas to read the dataset and compare the time taken"
      ]
    },
    {
      "cell_type": "code",
      "metadata": {
        "id": "_GtHtAhLvJZB",
        "colab": {
          "base_uri": "https://localhost:8080/"
        },
        "outputId": "3bf7721b-9406-403a-afc4-db5e92d1667b"
      },
      "source": [
        "%%time\n",
        "# YOUR CODE HERE\n",
        "df_pd = pd.read_csv('Dask_MP_dataset.csv')\n"
      ],
      "execution_count": null,
      "outputs": [
        {
          "output_type": "stream",
          "name": "stdout",
          "text": [
            "CPU times: user 4.41 s, sys: 405 ms, total: 4.82 s\n",
            "Wall time: 4.78 s\n"
          ]
        }
      ]
    },
    {
      "cell_type": "markdown",
      "metadata": {
        "id": "CFhWA9t11JhC"
      },
      "source": [
        "### Data Analysis (2 Points)\n",
        "\n"
      ]
    },
    {
      "cell_type": "markdown",
      "metadata": {
        "id": "BfwmgALALQ8g"
      },
      "source": [
        "#### Exercise 2: Drop the unnecessary columns. Also drop the duplicate rows and the rows having null values.\n",
        "\n",
        "**Hint:** Drop those columns which are not useful in EDA as well as model implementation"
      ]
    },
    {
      "cell_type": "code",
      "metadata": {
        "colab": {
          "base_uri": "https://localhost:8080/"
        },
        "id": "XmXf7Kubplxd",
        "outputId": "0604facb-3762-45f5-dda8-50d3e0b3827e"
      },
      "source": [
        "# Check shape before\n",
        "df_dd.shape[0].compute(),df_dd.shape[1]"
      ],
      "execution_count": null,
      "outputs": [
        {
          "output_type": "execute_result",
          "data": {
            "text/plain": [
              "(2000000, 9)"
            ]
          },
          "metadata": {},
          "execution_count": 4
        }
      ]
    },
    {
      "cell_type": "code",
      "metadata": {
        "id": "oY4VbXnyy7E0"
      },
      "source": [
        "\"\"\" Drop unnecessary columns \"\"\"\n",
        "# YOUR CODE HERE\n",
        "df_dd1 = df_dd.drop(axis=0, columns='key')\n",
        "df_dd_dropped = df_dd1.drop(axis=0, columns='Unnamed: 0')"
      ],
      "execution_count": null,
      "outputs": []
    },
    {
      "cell_type": "code",
      "metadata": {
        "colab": {
          "base_uri": "https://localhost:8080/"
        },
        "id": "SYM2YeegK5gC",
        "outputId": "181fc328-2067-4efd-833b-ea106324686d"
      },
      "source": [
        "# Check shape after\n",
        "df_dd_dropped.shape[0].compute(),df_dd_dropped.shape[1]"
      ],
      "execution_count": null,
      "outputs": [
        {
          "output_type": "execute_result",
          "data": {
            "text/plain": [
              "(2000000, 7)"
            ]
          },
          "metadata": {},
          "execution_count": 6
        }
      ]
    },
    {
      "cell_type": "code",
      "metadata": {
        "id": "5C8YkabI1N4l"
      },
      "source": [
        "\"\"\" Drop duplicate rows \"\"\"\n",
        "# YOUR CODE HERE\n",
        "df_dd_dropped_duplicates = df_dd_dropped.drop_duplicates()"
      ],
      "execution_count": null,
      "outputs": []
    },
    {
      "cell_type": "code",
      "metadata": {
        "colab": {
          "base_uri": "https://localhost:8080/"
        },
        "id": "gANVBmVjK6P1",
        "outputId": "2eb5a15a-968e-4c2b-8b00-901ce5e1cb8a"
      },
      "source": [
        "# Check shape after dropping duplicates\n",
        "df_dd_dropped_duplicates.shape[0].compute(),df_dd_dropped_duplicates.shape[1]\n"
      ],
      "execution_count": null,
      "outputs": [
        {
          "output_type": "execute_result",
          "data": {
            "text/plain": [
              "(1999997, 7)"
            ]
          },
          "metadata": {},
          "execution_count": 8
        }
      ]
    },
    {
      "cell_type": "code",
      "metadata": {
        "id": "nZTAo8LafjU7"
      },
      "source": [
        "\"\"\" drop NA rows \"\"\"\n",
        "# YOUR CODE HERE\n",
        "df_dd_dropped_NA = df_dd_dropped_duplicates.dropna()"
      ],
      "execution_count": null,
      "outputs": []
    },
    {
      "cell_type": "markdown",
      "metadata": {
        "id": "msJmBfyhL2fk"
      },
      "source": [
        "#### Exercise 3: Visualize the target variable, i.e., `fare_amount` to study the fare distribution, using a histogram density plot. Analyze the fare_amount distribution, try to visualize it for a range of [0, 60].\n",
        "\n",
        "**Hint:** [sns.hisplot()](https://stackoverflow.com/questions/51027636/seaborn-histogram-with-bigdata/51027895) and use `.between` to plot the graph for given range \n"
      ]
    },
    {
      "cell_type": "code",
      "metadata": {
        "id": "WpvOEUW01WI_",
        "colab": {
          "base_uri": "https://localhost:8080/",
          "height": 343
        },
        "outputId": "a38c6b20-abdf-42f6-879d-290cdfd0eb5c"
      },
      "source": [
        "\"\"\" explore and plot the density plot of fare_amount \"\"\"\n",
        "# YOUR CODE HERE\n",
        "plt.hist(df_dd_dropped_NA[\"fare_amount\"].compute(),10, range=[0,60], facecolor='green', align='mid')\n"
      ],
      "execution_count": null,
      "outputs": [
        {
          "output_type": "execute_result",
          "data": {
            "text/plain": [
              "(array([470522., 964684., 307598., 102592.,  51452.,  33891.,  17334.,\n",
              "         12844.,  19443.,  14127.]),\n",
              " array([ 0.,  6., 12., 18., 24., 30., 36., 42., 48., 54., 60.]),\n",
              " <a list of 10 Patch objects>)"
            ]
          },
          "metadata": {},
          "execution_count": 12
        },
        {
          "output_type": "display_data",
          "data": {
            "image/png": "[encoded data removed]",
            "text/plain": [
              "<Figure size 432x288 with 1 Axes>"
            ]
          },
          "metadata": {
            "needs_background": "light"
          }
        }
      ]
    },
    {
      "cell_type": "markdown",
      "metadata": {
        "id": "CvPfB3yKiVQG"
      },
      "source": [
        "#### Observe the number of workers and cores running in your machine\n",
        "\n",
        "Initialize a client and observe how many workers are working and the number of cores utilizing for the given data set."
      ]
    },
    {
      "cell_type": "code",
      "metadata": {
        "id": "O85yDn3kRErR",
        "colab": {
          "base_uri": "https://localhost:8080/",
          "height": 117
        },
        "outputId": "1966810e-b870-427e-c741-be1fc6e1372c"
      },
      "source": [
        "\"\"\" Initialize a client \"\"\"\n",
        "# YOUR CODE HERE\n",
        "#import multiprocessing\n",
        "\n",
        "#multiprocessing.cpu_count()\n",
        "\n",
        "\n",
        "#import psutil\n",
        "#psutil.cpu_count()\n",
        "\n",
        "client"
      ],
      "execution_count": null,
      "outputs": [
        {
          "output_type": "execute_result",
          "data": {
            "text/html": [
              "<table style=\"border: 2px solid white;\">\n",
              "<tr>\n",
              "<td style=\"vertical-align: top; border: 0px solid white\">\n",
              "<h3 style=\"text-align: left;\">Client</h3>\n",
              "<ul style=\"text-align: left; list-style: none; margin: 0; padding: 0;\">\n",
              "  <li><b>Scheduler: </b>tcp://127.0.0.1:34029</li>\n",
              "  <li><b>Dashboard: </b><a href='http://127.0.0.1:8787/status' target='_blank'>http://127.0.0.1:8787/status</a></li>\n",
              "</ul>\n",
              "</td>\n",
              "<td style=\"vertical-align: top; border: 0px solid white\">\n",
              "<h3 style=\"text-align: left;\">Cluster</h3>\n",
              "<ul style=\"text-align: left; list-style:none; margin: 0; padding: 0;\">\n",
              "  <li><b>Workers: </b>2</li>\n",
              "  <li><b>Cores: </b>2</li>\n",
              "  <li><b>Memory: </b>13.62 GB</li>\n",
              "</ul>\n",
              "</td>\n",
              "</tr>\n",
              "</table>"
            ],
            "text/plain": [
              "<Client: 'tcp://127.0.0.1:34029' processes=2 threads=2, memory=13.62 GB>"
            ]
          },
          "metadata": {},
          "execution_count": 13
        }
      ]
    },
    {
      "cell_type": "markdown",
      "metadata": {
        "id": "7a4Ifmf6y1fJ"
      },
      "source": [
        "### EDA based on Time (2 Points)"
      ]
    },
    {
      "cell_type": "markdown",
      "metadata": {
        "id": "fU-h_N6nby2k"
      },
      "source": [
        "#### Exercise 4: Extract day of the week (dow), hour, month and year from `pickup_datetime`.\n",
        "\n",
        "**Hint:** use `pd.to_datetime()` function as dask does not have this functionality in it.\n",
        "\n",
        "Remember to use `.compute()` while passing the dask dataframe in defined function."
      ]
    },
    {
      "cell_type": "code",
      "metadata": {
        "colab": {
          "base_uri": "https://localhost:8080/"
        },
        "id": "TGmRcJp0JKnu",
        "outputId": "047f8063-a447-48c3-9ae0-95cf8db64e46"
      },
      "source": [
        "# Shape after handling NAs\n",
        "df_dd_dropped_NA.shape[0].compute(),df_dd_dropped_NA.shape[1]"
      ],
      "execution_count": null,
      "outputs": [
        {
          "output_type": "execute_result",
          "data": {
            "text/plain": [
              "(1999983, 7)"
            ]
          },
          "metadata": {},
          "execution_count": 82
        }
      ]
    },
    {
      "cell_type": "code",
      "metadata": {
        "id": "t_jcUUWEBPsg"
      },
      "source": [
        "  #New date time column\n",
        "  df_dd_dropped_NA[\"new_date_time\"] = dd.to_datetime(df_dd_dropped_NA[\"pickup_datetime\"] )"
      ],
      "execution_count": null,
      "outputs": []
    },
    {
      "cell_type": "code",
      "metadata": {
        "colab": {
          "base_uri": "https://localhost:8080/",
          "height": 417
        },
        "id": "ejt_NJXaLkRN",
        "outputId": "25be65ee-ddbb-4486-f4ec-3bca17f7f8d1"
      },
      "source": [
        "  df_dd_dropped_NA.compute()"
      ],
      "execution_count": null,
      "outputs": [
        {
          "output_type": "execute_result",
          "data": {
            "text/html": [
              "<div>\n",
              "<style scoped>\n",
              "    .dataframe tbody tr th:only-of-type {\n",
              "        vertical-align: middle;\n",
              "    }\n",
              "\n",
              "    .dataframe tbody tr th {\n",
              "        vertical-align: top;\n",
              "    }\n",
              "\n",
              "    .dataframe thead th {\n",
              "        text-align: right;\n",
              "    }\n",
              "</style>\n",
              "<table border=\"1\" class=\"dataframe\">\n",
              "  <thead>\n",
              "    <tr style=\"text-align: right;\">\n",
              "      <th></th>\n",
              "      <th>fare_amount</th>\n",
              "      <th>pickup_datetime</th>\n",
              "      <th>pickup_longitude</th>\n",
              "      <th>pickup_latitude</th>\n",
              "      <th>dropoff_longitude</th>\n",
              "      <th>dropoff_latitude</th>\n",
              "      <th>passenger_count</th>\n",
              "      <th>new_date_time</th>\n",
              "    </tr>\n",
              "  </thead>\n",
              "  <tbody>\n",
              "    <tr>\n",
              "      <th>0</th>\n",
              "      <td>4.5</td>\n",
              "      <td>2009-06-15 17:26:21 UTC</td>\n",
              "      <td>-73.844311</td>\n",
              "      <td>40.721319</td>\n",
              "      <td>-73.841610</td>\n",
              "      <td>40.712278</td>\n",
              "      <td>1</td>\n",
              "      <td>2009-06-15 17:26:21+00:00</td>\n",
              "    </tr>\n",
              "    <tr>\n",
              "      <th>1</th>\n",
              "      <td>16.9</td>\n",
              "      <td>2010-01-05 16:52:16 UTC</td>\n",
              "      <td>-74.016048</td>\n",
              "      <td>40.711303</td>\n",
              "      <td>-73.979268</td>\n",
              "      <td>40.782004</td>\n",
              "      <td>1</td>\n",
              "      <td>2010-01-05 16:52:16+00:00</td>\n",
              "    </tr>\n",
              "    <tr>\n",
              "      <th>2</th>\n",
              "      <td>5.7</td>\n",
              "      <td>2011-08-18 00:35:00 UTC</td>\n",
              "      <td>-73.982738</td>\n",
              "      <td>40.761270</td>\n",
              "      <td>-73.991242</td>\n",
              "      <td>40.750562</td>\n",
              "      <td>2</td>\n",
              "      <td>2011-08-18 00:35:00+00:00</td>\n",
              "    </tr>\n",
              "    <tr>\n",
              "      <th>3</th>\n",
              "      <td>7.7</td>\n",
              "      <td>2012-04-21 04:30:42 UTC</td>\n",
              "      <td>-73.987130</td>\n",
              "      <td>40.733143</td>\n",
              "      <td>-73.991567</td>\n",
              "      <td>40.758092</td>\n",
              "      <td>1</td>\n",
              "      <td>2012-04-21 04:30:42+00:00</td>\n",
              "    </tr>\n",
              "    <tr>\n",
              "      <th>4</th>\n",
              "      <td>5.3</td>\n",
              "      <td>2010-03-09 07:51:00 UTC</td>\n",
              "      <td>-73.968095</td>\n",
              "      <td>40.768008</td>\n",
              "      <td>-73.956655</td>\n",
              "      <td>40.783762</td>\n",
              "      <td>1</td>\n",
              "      <td>2010-03-09 07:51:00+00:00</td>\n",
              "    </tr>\n",
              "    <tr>\n",
              "      <th>...</th>\n",
              "      <td>...</td>\n",
              "      <td>...</td>\n",
              "      <td>...</td>\n",
              "      <td>...</td>\n",
              "      <td>...</td>\n",
              "      <td>...</td>\n",
              "      <td>...</td>\n",
              "      <td>...</td>\n",
              "    </tr>\n",
              "    <tr>\n",
              "      <th>342490</th>\n",
              "      <td>4.0</td>\n",
              "      <td>2014-11-17 13:51:02 UTC</td>\n",
              "      <td>-73.950787</td>\n",
              "      <td>40.770836</td>\n",
              "      <td>-73.951043</td>\n",
              "      <td>40.774543</td>\n",
              "      <td>1</td>\n",
              "      <td>2014-11-17 13:51:02+00:00</td>\n",
              "    </tr>\n",
              "    <tr>\n",
              "      <th>342491</th>\n",
              "      <td>7.0</td>\n",
              "      <td>2013-02-25 17:51:28 UTC</td>\n",
              "      <td>-73.983035</td>\n",
              "      <td>40.748276</td>\n",
              "      <td>-73.974725</td>\n",
              "      <td>40.741978</td>\n",
              "      <td>1</td>\n",
              "      <td>2013-02-25 17:51:28+00:00</td>\n",
              "    </tr>\n",
              "    <tr>\n",
              "      <th>342492</th>\n",
              "      <td>10.5</td>\n",
              "      <td>2013-07-12 22:03:41 UTC</td>\n",
              "      <td>-74.003482</td>\n",
              "      <td>40.743577</td>\n",
              "      <td>-73.976758</td>\n",
              "      <td>40.765265</td>\n",
              "      <td>1</td>\n",
              "      <td>2013-07-12 22:03:41+00:00</td>\n",
              "    </tr>\n",
              "    <tr>\n",
              "      <th>342493</th>\n",
              "      <td>10.9</td>\n",
              "      <td>2009-01-17 09:35:37 UTC</td>\n",
              "      <td>-73.971819</td>\n",
              "      <td>40.797243</td>\n",
              "      <td>-73.985921</td>\n",
              "      <td>40.752459</td>\n",
              "      <td>3</td>\n",
              "      <td>2009-01-17 09:35:37+00:00</td>\n",
              "    </tr>\n",
              "    <tr>\n",
              "      <th>342494</th>\n",
              "      <td>12.9</td>\n",
              "      <td>2010-01-16 15:46:00 UTC</td>\n",
              "      <td>-73.955140</td>\n",
              "      <td>40.779382</td>\n",
              "      <td>-73.914775</td>\n",
              "      <td>40.820602</td>\n",
              "      <td>2</td>\n",
              "      <td>2010-01-16 15:46:00+00:00</td>\n",
              "    </tr>\n",
              "  </tbody>\n",
              "</table>\n",
              "<p>1999983 rows × 8 columns</p>\n",
              "</div>"
            ],
            "text/plain": [
              "        fare_amount  ...             new_date_time\n",
              "0               4.5  ... 2009-06-15 17:26:21+00:00\n",
              "1              16.9  ... 2010-01-05 16:52:16+00:00\n",
              "2               5.7  ... 2011-08-18 00:35:00+00:00\n",
              "3               7.7  ... 2012-04-21 04:30:42+00:00\n",
              "4               5.3  ... 2010-03-09 07:51:00+00:00\n",
              "...             ...  ...                       ...\n",
              "342490          4.0  ... 2014-11-17 13:51:02+00:00\n",
              "342491          7.0  ... 2013-02-25 17:51:28+00:00\n",
              "342492         10.5  ... 2013-07-12 22:03:41+00:00\n",
              "342493         10.9  ... 2009-01-17 09:35:37+00:00\n",
              "342494         12.9  ... 2010-01-16 15:46:00+00:00\n",
              "\n",
              "[1999983 rows x 8 columns]"
            ]
          },
          "metadata": {},
          "execution_count": 84
        }
      ]
    },
    {
      "cell_type": "code",
      "metadata": {
        "id": "ssfgYv25IT0e"
      },
      "source": [
        "# Columns for month, year, day, hour\n",
        "\n",
        "df_dd_dropped_NA['year']= df_dd_dropped_NA['new_date_time'].dt.year\n",
        "df_dd_dropped_NA['month']= df_dd_dropped_NA['new_date_time'].dt.month\n",
        "df_dd_dropped_NA['day']= df_dd_dropped_NA['new_date_time'].dt.dayofweek\n",
        "df_dd_dropped_NA['hour']= df_dd_dropped_NA['new_date_time'].dt.hour"
      ],
      "execution_count": null,
      "outputs": []
    },
    {
      "cell_type": "code",
      "metadata": {
        "colab": {
          "base_uri": "https://localhost:8080/",
          "height": 417
        },
        "id": "hCsuRiBicDid",
        "outputId": "b6dd1c18-65e9-4627-caa2-c24bdee8db70"
      },
      "source": [
        "df_dd_dropped_NA.compute()"
      ],
      "execution_count": null,
      "outputs": [
        {
          "output_type": "execute_result",
          "data": {
            "text/html": [
              "<div>\n",
              "<style scoped>\n",
              "    .dataframe tbody tr th:only-of-type {\n",
              "        vertical-align: middle;\n",
              "    }\n",
              "\n",
              "    .dataframe tbody tr th {\n",
              "        vertical-align: top;\n",
              "    }\n",
              "\n",
              "    .dataframe thead th {\n",
              "        text-align: right;\n",
              "    }\n",
              "</style>\n",
              "<table border=\"1\" class=\"dataframe\">\n",
              "  <thead>\n",
              "    <tr style=\"text-align: right;\">\n",
              "      <th></th>\n",
              "      <th>fare_amount</th>\n",
              "      <th>pickup_datetime</th>\n",
              "      <th>pickup_longitude</th>\n",
              "      <th>pickup_latitude</th>\n",
              "      <th>dropoff_longitude</th>\n",
              "      <th>dropoff_latitude</th>\n",
              "      <th>passenger_count</th>\n",
              "      <th>new_date_time</th>\n",
              "      <th>year</th>\n",
              "      <th>month</th>\n",
              "      <th>day</th>\n",
              "      <th>hour</th>\n",
              "    </tr>\n",
              "  </thead>\n",
              "  <tbody>\n",
              "    <tr>\n",
              "      <th>0</th>\n",
              "      <td>4.5</td>\n",
              "      <td>2009-06-15 17:26:21 UTC</td>\n",
              "      <td>-73.844311</td>\n",
              "      <td>40.721319</td>\n",
              "      <td>-73.841610</td>\n",
              "      <td>40.712278</td>\n",
              "      <td>1</td>\n",
              "      <td>2009-06-15 17:26:21+00:00</td>\n",
              "      <td>2009</td>\n",
              "      <td>6</td>\n",
              "      <td>0</td>\n",
              "      <td>17</td>\n",
              "    </tr>\n",
              "    <tr>\n",
              "      <th>1</th>\n",
              "      <td>16.9</td>\n",
              "      <td>2010-01-05 16:52:16 UTC</td>\n",
              "      <td>-74.016048</td>\n",
              "      <td>40.711303</td>\n",
              "      <td>-73.979268</td>\n",
              "      <td>40.782004</td>\n",
              "      <td>1</td>\n",
              "      <td>2010-01-05 16:52:16+00:00</td>\n",
              "      <td>2010</td>\n",
              "      <td>1</td>\n",
              "      <td>1</td>\n",
              "      <td>16</td>\n",
              "    </tr>\n",
              "    <tr>\n",
              "      <th>2</th>\n",
              "      <td>5.7</td>\n",
              "      <td>2011-08-18 00:35:00 UTC</td>\n",
              "      <td>-73.982738</td>\n",
              "      <td>40.761270</td>\n",
              "      <td>-73.991242</td>\n",
              "      <td>40.750562</td>\n",
              "      <td>2</td>\n",
              "      <td>2011-08-18 00:35:00+00:00</td>\n",
              "      <td>2011</td>\n",
              "      <td>8</td>\n",
              "      <td>3</td>\n",
              "      <td>0</td>\n",
              "    </tr>\n",
              "    <tr>\n",
              "      <th>3</th>\n",
              "      <td>7.7</td>\n",
              "      <td>2012-04-21 04:30:42 UTC</td>\n",
              "      <td>-73.987130</td>\n",
              "      <td>40.733143</td>\n",
              "      <td>-73.991567</td>\n",
              "      <td>40.758092</td>\n",
              "      <td>1</td>\n",
              "      <td>2012-04-21 04:30:42+00:00</td>\n",
              "      <td>2012</td>\n",
              "      <td>4</td>\n",
              "      <td>5</td>\n",
              "      <td>4</td>\n",
              "    </tr>\n",
              "    <tr>\n",
              "      <th>4</th>\n",
              "      <td>5.3</td>\n",
              "      <td>2010-03-09 07:51:00 UTC</td>\n",
              "      <td>-73.968095</td>\n",
              "      <td>40.768008</td>\n",
              "      <td>-73.956655</td>\n",
              "      <td>40.783762</td>\n",
              "      <td>1</td>\n",
              "      <td>2010-03-09 07:51:00+00:00</td>\n",
              "      <td>2010</td>\n",
              "      <td>3</td>\n",
              "      <td>1</td>\n",
              "      <td>7</td>\n",
              "    </tr>\n",
              "    <tr>\n",
              "      <th>...</th>\n",
              "      <td>...</td>\n",
              "      <td>...</td>\n",
              "      <td>...</td>\n",
              "      <td>...</td>\n",
              "      <td>...</td>\n",
              "      <td>...</td>\n",
              "      <td>...</td>\n",
              "      <td>...</td>\n",
              "      <td>...</td>\n",
              "      <td>...</td>\n",
              "      <td>...</td>\n",
              "      <td>...</td>\n",
              "    </tr>\n",
              "    <tr>\n",
              "      <th>342490</th>\n",
              "      <td>4.0</td>\n",
              "      <td>2014-11-17 13:51:02 UTC</td>\n",
              "      <td>-73.950787</td>\n",
              "      <td>40.770836</td>\n",
              "      <td>-73.951043</td>\n",
              "      <td>40.774543</td>\n",
              "      <td>1</td>\n",
              "      <td>2014-11-17 13:51:02+00:00</td>\n",
              "      <td>2014</td>\n",
              "      <td>11</td>\n",
              "      <td>0</td>\n",
              "      <td>13</td>\n",
              "    </tr>\n",
              "    <tr>\n",
              "      <th>342491</th>\n",
              "      <td>7.0</td>\n",
              "      <td>2013-02-25 17:51:28 UTC</td>\n",
              "      <td>-73.983035</td>\n",
              "      <td>40.748276</td>\n",
              "      <td>-73.974725</td>\n",
              "      <td>40.741978</td>\n",
              "      <td>1</td>\n",
              "      <td>2013-02-25 17:51:28+00:00</td>\n",
              "      <td>2013</td>\n",
              "      <td>2</td>\n",
              "      <td>0</td>\n",
              "      <td>17</td>\n",
              "    </tr>\n",
              "    <tr>\n",
              "      <th>342492</th>\n",
              "      <td>10.5</td>\n",
              "      <td>2013-07-12 22:03:41 UTC</td>\n",
              "      <td>-74.003482</td>\n",
              "      <td>40.743577</td>\n",
              "      <td>-73.976758</td>\n",
              "      <td>40.765265</td>\n",
              "      <td>1</td>\n",
              "      <td>2013-07-12 22:03:41+00:00</td>\n",
              "      <td>2013</td>\n",
              "      <td>7</td>\n",
              "      <td>4</td>\n",
              "      <td>22</td>\n",
              "    </tr>\n",
              "    <tr>\n",
              "      <th>342493</th>\n",
              "      <td>10.9</td>\n",
              "      <td>2009-01-17 09:35:37 UTC</td>\n",
              "      <td>-73.971819</td>\n",
              "      <td>40.797243</td>\n",
              "      <td>-73.985921</td>\n",
              "      <td>40.752459</td>\n",
              "      <td>3</td>\n",
              "      <td>2009-01-17 09:35:37+00:00</td>\n",
              "      <td>2009</td>\n",
              "      <td>1</td>\n",
              "      <td>5</td>\n",
              "      <td>9</td>\n",
              "    </tr>\n",
              "    <tr>\n",
              "      <th>342494</th>\n",
              "      <td>12.9</td>\n",
              "      <td>2010-01-16 15:46:00 UTC</td>\n",
              "      <td>-73.955140</td>\n",
              "      <td>40.779382</td>\n",
              "      <td>-73.914775</td>\n",
              "      <td>40.820602</td>\n",
              "      <td>2</td>\n",
              "      <td>2010-01-16 15:46:00+00:00</td>\n",
              "      <td>2010</td>\n",
              "      <td>1</td>\n",
              "      <td>5</td>\n",
              "      <td>15</td>\n",
              "    </tr>\n",
              "  </tbody>\n",
              "</table>\n",
              "<p>1999983 rows × 12 columns</p>\n",
              "</div>"
            ],
            "text/plain": [
              "        fare_amount          pickup_datetime  ...  day  hour\n",
              "0               4.5  2009-06-15 17:26:21 UTC  ...    0    17\n",
              "1              16.9  2010-01-05 16:52:16 UTC  ...    1    16\n",
              "2               5.7  2011-08-18 00:35:00 UTC  ...    3     0\n",
              "3               7.7  2012-04-21 04:30:42 UTC  ...    5     4\n",
              "4               5.3  2010-03-09 07:51:00 UTC  ...    1     7\n",
              "...             ...                      ...  ...  ...   ...\n",
              "342490          4.0  2014-11-17 13:51:02 UTC  ...    0    13\n",
              "342491          7.0  2013-02-25 17:51:28 UTC  ...    0    17\n",
              "342492         10.5  2013-07-12 22:03:41 UTC  ...    4    22\n",
              "342493         10.9  2009-01-17 09:35:37 UTC  ...    5     9\n",
              "342494         12.9  2010-01-16 15:46:00 UTC  ...    5    15\n",
              "\n",
              "[1999983 rows x 12 columns]"
            ]
          },
          "metadata": {},
          "execution_count": 13
        }
      ]
    },
    {
      "cell_type": "markdown",
      "metadata": {
        "id": "iQlZJuvfkHmx"
      },
      "source": [
        "#### Exercise 5: a.) Plot the taxi trip by hour of the day\n",
        "\n",
        "* Partition the data into segments using `dask.from_pandas()`\n",
        "\n",
        "* Plot the taxi trip for hour of the day. **Hint:** [sns.catplot](https://seaborn.pydata.org/generated/seaborn.catplot.html)"
      ]
    },
    {
      "cell_type": "code",
      "metadata": {
        "id": "kK6lmoi4xeZ9"
      },
      "source": [
        "bins = [_ for _ in range(0, 24, 1)]\n",
        "sns.histplot(df_dd_dropped_NA['hour'], bins=bins, kde=False)\n",
        "plt.show()"
      ],
      "execution_count": null,
      "outputs": []
    },
    {
      "cell_type": "markdown",
      "metadata": {
        "id": "33VcYhbln7br"
      },
      "source": [
        "#### Exercise 5: b.) Plot the taxi trip repartition by day of the week (dow)"
      ]
    },
    {
      "cell_type": "code",
      "metadata": {
        "id": "Mf3fe9hnRFnL"
      },
      "source": [
        "\"\"\" taxi trip repartition by day of the week \"\"\"\n",
        "# YOUR CODE HERE\n",
        "bins = [_ for _ in range(0, 7, 1)]\n",
        "sns.histplot(df_dd_dropped_NA['day'], bins=bins, kde=False)\n",
        "plt.show()"
      ],
      "execution_count": null,
      "outputs": []
    },
    {
      "cell_type": "markdown",
      "metadata": {
        "id": "lz2zTHmdslcy"
      },
      "source": [
        "#### Exercise 6: a.) Draw a plot between the target variable and passenger count and analyze it. "
      ]
    },
    {
      "cell_type": "code",
      "metadata": {
        "colab": {
          "base_uri": "https://localhost:8080/",
          "height": 237
        },
        "id": "xTZHhPwTz_6L",
        "outputId": "659fde83-84a4-42b1-be29-ab1b26e406f7"
      },
      "source": [
        "df_dd_dropped_NA.repartition(npartitions=3)"
      ],
      "execution_count": null,
      "outputs": [
        {
          "output_type": "execute_result",
          "data": {
            "text/html": [
              "<div><strong>Dask DataFrame Structure:</strong></div>\n",
              "<div>\n",
              "<style scoped>\n",
              "    .dataframe tbody tr th:only-of-type {\n",
              "        vertical-align: middle;\n",
              "    }\n",
              "\n",
              "    .dataframe tbody tr th {\n",
              "        vertical-align: top;\n",
              "    }\n",
              "\n",
              "    .dataframe thead th {\n",
              "        text-align: right;\n",
              "    }\n",
              "</style>\n",
              "<table border=\"1\" class=\"dataframe\">\n",
              "  <thead>\n",
              "    <tr style=\"text-align: right;\">\n",
              "      <th></th>\n",
              "      <th>fare_amount</th>\n",
              "      <th>pickup_datetime</th>\n",
              "      <th>pickup_longitude</th>\n",
              "      <th>pickup_latitude</th>\n",
              "      <th>dropoff_longitude</th>\n",
              "      <th>dropoff_latitude</th>\n",
              "      <th>passenger_count</th>\n",
              "      <th>new_date_time</th>\n",
              "      <th>year</th>\n",
              "      <th>month</th>\n",
              "      <th>day</th>\n",
              "      <th>hour</th>\n",
              "    </tr>\n",
              "    <tr>\n",
              "      <th>npartitions=3</th>\n",
              "      <th></th>\n",
              "      <th></th>\n",
              "      <th></th>\n",
              "      <th></th>\n",
              "      <th></th>\n",
              "      <th></th>\n",
              "      <th></th>\n",
              "      <th></th>\n",
              "      <th></th>\n",
              "      <th></th>\n",
              "      <th></th>\n",
              "      <th></th>\n",
              "    </tr>\n",
              "  </thead>\n",
              "  <tbody>\n",
              "    <tr>\n",
              "      <th></th>\n",
              "      <td>float64</td>\n",
              "      <td>object</td>\n",
              "      <td>float64</td>\n",
              "      <td>float64</td>\n",
              "      <td>float64</td>\n",
              "      <td>float64</td>\n",
              "      <td>int64</td>\n",
              "      <td>datetime64[ns]</td>\n",
              "      <td>int64</td>\n",
              "      <td>int64</td>\n",
              "      <td>int64</td>\n",
              "      <td>int64</td>\n",
              "    </tr>\n",
              "    <tr>\n",
              "      <th></th>\n",
              "      <td>...</td>\n",
              "      <td>...</td>\n",
              "      <td>...</td>\n",
              "      <td>...</td>\n",
              "      <td>...</td>\n",
              "      <td>...</td>\n",
              "      <td>...</td>\n",
              "      <td>...</td>\n",
              "      <td>...</td>\n",
              "      <td>...</td>\n",
              "      <td>...</td>\n",
              "      <td>...</td>\n",
              "    </tr>\n",
              "    <tr>\n",
              "      <th></th>\n",
              "      <td>...</td>\n",
              "      <td>...</td>\n",
              "      <td>...</td>\n",
              "      <td>...</td>\n",
              "      <td>...</td>\n",
              "      <td>...</td>\n",
              "      <td>...</td>\n",
              "      <td>...</td>\n",
              "      <td>...</td>\n",
              "      <td>...</td>\n",
              "      <td>...</td>\n",
              "      <td>...</td>\n",
              "    </tr>\n",
              "    <tr>\n",
              "      <th></th>\n",
              "      <td>...</td>\n",
              "      <td>...</td>\n",
              "      <td>...</td>\n",
              "      <td>...</td>\n",
              "      <td>...</td>\n",
              "      <td>...</td>\n",
              "      <td>...</td>\n",
              "      <td>...</td>\n",
              "      <td>...</td>\n",
              "      <td>...</td>\n",
              "      <td>...</td>\n",
              "      <td>...</td>\n",
              "    </tr>\n",
              "  </tbody>\n",
              "</table>\n",
              "</div>\n",
              "<div>Dask Name: repartition, 45 tasks</div>"
            ],
            "text/plain": [
              "Dask DataFrame Structure:\n",
              "              fare_amount pickup_datetime pickup_longitude pickup_latitude dropoff_longitude dropoff_latitude passenger_count   new_date_time   year  month    day   hour\n",
              "npartitions=3                                                                                                                                                            \n",
              "                  float64          object          float64         float64           float64          float64           int64  datetime64[ns]  int64  int64  int64  int64\n",
              "                      ...             ...              ...             ...               ...              ...             ...             ...    ...    ...    ...    ...\n",
              "                      ...             ...              ...             ...               ...              ...             ...             ...    ...    ...    ...    ...\n",
              "                      ...             ...              ...             ...               ...              ...             ...             ...    ...    ...    ...    ...\n",
              "Dask Name: repartition, 45 tasks"
            ]
          },
          "metadata": {},
          "execution_count": 17
        }
      ]
    },
    {
      "cell_type": "code",
      "metadata": {
        "colab": {
          "base_uri": "https://localhost:8080/",
          "height": 296
        },
        "id": "r1nQSRQp0ZbI",
        "outputId": "1a2e5c57-a497-4341-ec5a-aedbf96bc2d2"
      },
      "source": [
        "plt.scatter(df_pd[\"passenger_count\"].values,df_pd[\"fare_amount\"].values,c='red',alpha=0.8)\n",
        "plt.xlabel(\"Passenger Count\")\n",
        "plt.ylabel(\"Fare Amount\")"
      ],
      "execution_count": null,
      "outputs": [
        {
          "output_type": "execute_result",
          "data": {
            "text/plain": [
              "Text(0, 0.5, 'Fare Amount')"
            ]
          },
          "metadata": {},
          "execution_count": 22
        },
        {
          "output_type": "display_data",
          "data": {
            "image/png": "[encoded data removed]",
            "text/plain": [
              "<Figure size 432x288 with 1 Axes>"
            ]
          },
          "metadata": {
            "needs_background": "light"
          }
        }
      ]
    },
    {
      "cell_type": "code",
      "metadata": {
        "id": "cr1eHQ5X5hMq"
      },
      "source": [
        ""
      ],
      "execution_count": null,
      "outputs": []
    },
    {
      "cell_type": "code",
      "metadata": {
        "id": "ATLNkBHqYrG_"
      },
      "source": [
        "\"\"\" passenger count feature \"\"\"\n",
        "# YOUR CODE HERE\n",
        "\n",
        "plt.scatter(df_dd_dropped_NA[\"passenger_count\"].compute(),df_dd_dropped_NA[\"fare_amount\"].compute(),c='red',alpha=0.8)\n",
        "\n",
        "plt.xlabel(\"Passenger Count\")\n",
        "plt.ylabel(\"Fare Amount\")"
      ],
      "execution_count": null,
      "outputs": []
    },
    {
      "cell_type": "code",
      "metadata": {
        "id": "QI74JWTZ2LDv"
      },
      "source": [
        "import statistics"
      ],
      "execution_count": null,
      "outputs": []
    },
    {
      "cell_type": "markdown",
      "metadata": {
        "id": "31fJlk9StJuq"
      },
      "source": [
        "#### Exercise 6: b.) Draw a plot between the target variable and hour and analyze it. "
      ]
    },
    {
      "cell_type": "code",
      "metadata": {
        "id": "wPAdjMGR1ANH"
      },
      "source": [
        "# plt.scatter(df_pd[\"hour\"],df_pd[\"fare_amount\"],c='red',alpha=0.8)"
      ],
      "execution_count": null,
      "outputs": []
    },
    {
      "cell_type": "code",
      "metadata": {
        "id": "-DVhX3JZYytp"
      },
      "source": [
        "\"\"\" fare amount by hour \"\"\"\n",
        "# YOUR CODE HERE\n",
        "\n",
        "#plt.scatter(df_dd_dropped_NA[\"hour\"].compute(),df_dd_dropped_NA[\"fare_amount\"].compute(),c='green',alpha=0.8)\n",
        "\n",
        "plt.xlabel(\"Hour\")\n",
        "plt.ylabel(\"Fare Amount\")"
      ],
      "execution_count": null,
      "outputs": []
    },
    {
      "cell_type": "markdown",
      "metadata": {
        "id": "OGWcRiz72aRY"
      },
      "source": [
        "### Feature Engineering (1 Point)"
      ]
    },
    {
      "cell_type": "markdown",
      "metadata": {
        "id": "WmfqpeZ0DcE8"
      },
      "source": [
        "#### Exercise 7: Compute the Haversine distance between pickup and dropoff point\n",
        "\n",
        "* Convert the latitude and longitude co-rodinates to radians\n",
        "\n",
        "* Calculate the Haversine distance\n",
        "\n",
        "  **Hint:** [haversine_distances](https://towardsdatascience.com/heres-how-to-calculate-distance-between-2-geolocations-in-python-93ecab5bbba4)\n",
        "\n",
        "* Add the \"distance\" feature to the dataset and plot its distribution"
      ]
    },
    {
      "cell_type": "code",
      "metadata": {
        "id": "w4oLk2DtR-kP"
      },
      "source": [
        "\"\"\" distance feature \"\"\"\n",
        "# YOUR CODE HERE\n",
        "\n",
        "!pip install haversine\n",
        "import haversine as hs\n",
        "from math import radians\n",
        "from dask import delayed\n"
      ],
      "execution_count": null,
      "outputs": []
    },
    {
      "cell_type": "code",
      "metadata": {
        "id": "tAPZrDbOtoLo"
      },
      "source": [
        "df_dd_dist = {'pickup_latitude':np.radians(df_dd_dropped_NA[\"pickup_latitude\"]),\n",
        "              'pickup_longitude':np.radians(df_dd_dropped_NA[\"pickup_longitude\"]),\n",
        "              'dropoff_latitude':np.radians(df_dd_dropped_NA[\"pickup_latitude\"]),\n",
        "              'dropoff_longitude':np.radians(df_dd_dropped_NA[\"pickup_latitude\"])}"
      ],
      "execution_count": null,
      "outputs": []
    },
    {
      "cell_type": "code",
      "metadata": {
        "id": "6RHj-NePYi3y"
      },
      "source": [
        "\"\"\" plot the distance feature (take distance < 50) \"\"\"\n",
        "# YOUR CODE HERE\n",
        "X = np.array([df_dd_dist['pickup_latitude'],df_dd_dist['pickup_longitude']]).T\n",
        "Y = np.array([df_dd_dist['dropoff_latitude'],df_dd_dist['dropoff_longitude']]).T\n",
        "\n",
        "dist = DistanceMetric.get_metric('haversine')\n",
        "distance_in_km = list()\n",
        "for i in range(0,X.shape[0]):\n",
        "  loc1=(X[i][0],X[i][1])\n",
        "  loc2=(Y[i][0],Y[i][1])\n",
        "  distance_in_km.append(hs.haversine(loc1,loc2))"
      ],
      "execution_count": null,
      "outputs": []
    },
    {
      "cell_type": "code",
      "metadata": {
        "id": "B7x7s5OBk1En"
      },
      "source": [
        "df_dd_dropped_NA['distance'] = distance_in_km\n"
      ],
      "execution_count": null,
      "outputs": []
    },
    {
      "cell_type": "code",
      "metadata": {
        "id": "34puefVWk2KG"
      },
      "source": [
        "df_dd_dropped_NA = dd.from_pandas(df_dropped_NA, npartitions=5)\n"
      ],
      "execution_count": null,
      "outputs": []
    },
    {
      "cell_type": "markdown",
      "metadata": {
        "id": "uuQNBP0Ez3BR"
      },
      "source": [
        "### Correlation between distance and fare amount (1 Point)"
      ]
    },
    {
      "cell_type": "code",
      "metadata": {
        "id": "e8C5jkzcZOxO"
      },
      "source": [
        "\"\"\" correlation between fare_amount and distance \"\"\"\n",
        "# YOUR CODE HERE\n",
        "\n",
        "np.correlate(df_dd_dropped_NA[\"fare_amount\"].compute(),df_dd_dropped_NA[\"distance\"].compute())\n"
      ],
      "execution_count": null,
      "outputs": []
    },
    {
      "cell_type": "markdown",
      "metadata": {
        "id": "cpJMoALY0QgY"
      },
      "source": [
        "### Preparing dataset for model implementation\n",
        "\n",
        "**Note:** Use the above modified dataset for modelling."
      ]
    },
    {
      "cell_type": "code",
      "metadata": {
        "id": "OTGatKRr3aeR"
      },
      "source": [
        "# YOUR CODE HERE"
      ],
      "execution_count": null,
      "outputs": []
    },
    {
      "cell_type": "markdown",
      "metadata": {
        "id": "sxy-7gBSRWGP"
      },
      "source": [
        "### Removing outliers from training set Based on Coordinates (1 Point)"
      ]
    },
    {
      "cell_type": "markdown",
      "metadata": {
        "id": "THmnjXX-oGLv"
      },
      "source": [
        "#### Exercise 8: Remove the outliers using the given latitude and longitude features from the dataset. We need to analyze the data of taxi within New York City.\n",
        "\n",
        "**Hint:** Given the co-ordinates of New York city are Latitude: 40.7128° and Longitude: -74.0060°. You can include the pickup and drop off points such that there left and right value mean will be the given co-ordinate value. \n",
        "\n",
        "Also, choose nearest extreme values.\n",
        "\n",
        "Use `.between()` and pass left and right value attributes accordingly."
      ]
    },
    {
      "cell_type": "code",
      "metadata": {
        "id": "MsqHSsooRi4V"
      },
      "source": [
        "\"\"\" remove the outliers in pickup latitude longitude and drop off latitude and longitude \"\"\"\n",
        "# YOUR CODE HERE \n",
        "\n",
        "#Function to calculate range of 3 standard deviations left /right to the mean\n",
        "def range_for_outliers(col):\n",
        "  a = np.mean(col)\n",
        "  b = np.stdev(col)\n",
        "  left= a-3*b\n",
        "  right = a + 3*b\n",
        "  return left, right\n",
        "\n",
        "# Handle each variable individually\n",
        "\n",
        "l1,r1 = range_for_outliers(df_dd_dropped_NA['pickup_latitude'])\n",
        "df_dd_dropped_NA = df_dd_dropped_NA[df_dd_dropped_NA[\"pickup_latitude\"].between(left = l1, right = r1)]\n",
        "\n",
        "l2,r2 = range_for_outliers(df_dd_dropped_NA['pickup_longitude'])\n",
        "df_dd_dropped_NA = df_dd_dropped_NA[df_dd_dropped_NA[\"pickup_longitude\"].between(left = l2, right = r2)]\n",
        "\n",
        "l3,r3 = range_for_outliers(df_dd_dropped_NA['dropoff_latitude'])\n",
        "df_dd_dropped_NA = df_dd_dropped_NA[df_dd_dropped_NA[\"dropoff_latitude\"].between(left = l3, right = r3)]\n",
        "\n",
        "l4,r4 = range_for_outliers(df_dd_dropped_NA['dropoff_longitude'])\n",
        "df_dd_dropped_NA = df_dd_dropped_NA[df_dd_dropped_NA[\"dropoff_longitude\"].between(left = l4, right = r4)]\n",
        "\n"
      ],
      "execution_count": null,
      "outputs": []
    },
    {
      "cell_type": "markdown",
      "metadata": {
        "id": "EPJSYwoT1is2"
      },
      "source": [
        "### Modelling (3 Points)"
      ]
    },
    {
      "cell_type": "markdown",
      "metadata": {
        "id": "BS-vF0vP1kLW"
      },
      "source": [
        "#### Exercise 9: Divide the data into train and test splits with X as feature variables and y as target variable\n",
        "\n",
        "* Divide data into train test split with 70-30 ratio, Hint: `train_test_split()`\n",
        "\n",
        "* As dask functions operate lazily so, before calling `.fit()` function, call the dask dataframe with `.compute()`.\n",
        "* Convert X_train and y_train into array using `.values` as [dask's](https://ml.dask.org/modules/api.html) `.fit()` function takes array as attribute"
      ]
    },
    {
      "cell_type": "code",
      "metadata": {
        "id": "dvQdA_T8t8uy"
      },
      "source": [
        "\"\"\" select the target and feature variables and split the data into train and test \"\"\"\n",
        "# YOUR CODE HERE\n",
        "\n",
        "data = df_dd_dropped_NA\n",
        "features_list = ['distance','passenger_count', 'year','month','day','hour']\n",
        "X_train, X_test, y_train, y_test = train_test_split(data.loc[:, features_list], data.loc[:,['fare_amount'], test_size=0.3, train_size=0.7, random_state=0)\n"
      ],
      "execution_count": null,
      "outputs": []
    },
    {
      "cell_type": "markdown",
      "metadata": {
        "id": "zLz7SShbIQu3"
      },
      "source": [
        "#### Exercise 10: Predict the test data and calculate the mean squared error and r2 score.\n",
        "\n",
        "**Hint:** Remember to call `.compute()` function as dask functions operate lazily and convert the dask dataframe to `.values` (Array type) as suggested in above exercise"
      ]
    },
    {
      "cell_type": "code",
      "metadata": {
        "id": "QqGNMROAWZgm"
      },
      "source": [
        "\"\"\" predict the values \"\"\"\n",
        "# YOUR CODE HERE\n",
        "linreg = LinearRegression()\n",
        "linreg.fit(X_train.compute().values, y_train.compute().values)\n",
        "y_pred = linreg.predict(X_test.compute().values)\n"
      ],
      "execution_count": null,
      "outputs": []
    },
    {
      "cell_type": "code",
      "metadata": {
        "id": "wP1ZFckfux9j"
      },
      "source": [
        "\"\"\" compute mean squared error and r2_score \"\"\"\n",
        "# YOUR CODE HERE\n",
        "\n",
        "mse = mean_squared_error(y_test.compute().values, y_pred.compute())\n",
        "r2 = r2_score(y_test.compute().values, y_pred.compute())\n",
        "mse, r2\n"
      ],
      "execution_count": null,
      "outputs": []
    },
    {
      "cell_type": "markdown",
      "metadata": {
        "id": "PBfQuoKdLUts"
      },
      "source": [
        "### Report Analysis\n",
        "* Discuss the pros and cons of using dask\n",
        "* Derive the insights and discuss\n",
        "* Comment on the performance metrics (MSE, R^2 score)\n"
      ]
    }
  ]
}
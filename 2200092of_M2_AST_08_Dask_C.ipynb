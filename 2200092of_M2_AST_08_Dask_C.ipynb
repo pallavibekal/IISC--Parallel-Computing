{
  "nbformat": 4,
  "nbformat_minor": 5,
  "metadata": {
    "colab": {
      "name": "2200092of M2_AST_08_Dask_C.ipynb",
      "provenance": [],
      "collapsed_sections": [],
      "include_colab_link": true
    },
    "kernelspec": {
      "display_name": "Python 3",
      "language": "python",
      "name": "python3"
    },
    "language_info": {
      "codemirror_mode": {
        "name": "ipython",
        "version": 3
      },
      "file_extension": ".py",
      "mimetype": "text/x-python",
      "name": "python",
      "nbconvert_exporter": "python",
      "pygments_lexer": "ipython3",
      "version": "3.8.5"
    },
    "accelerator": "TPU"
  },
  "cells": [
    {
      "cell_type": "markdown",
      "metadata": {
        "id": "view-in-github",
        "colab_type": "text"
      },
      "source": [
        "<a href=\"https://colab.research.google.com/github/pallavibekal/IISC--Parallel-Computing/blob/main/2200092of_M2_AST_08_Dask_C.ipynb\" target=\"_parent\"><img src=\"https://colab.research.google.com/assets/colab-badge.svg\" alt=\"Open In Colab\"/></a>"
      ]
    },
    {
      "cell_type": "markdown",
      "metadata": {
        "id": "temporal-consequence"
      },
      "source": [
        "# Advanced Certification Program in Computational Data Science\n",
        "## A program by IISc and TalentSprint\n",
        "### Assignment 8: Dask"
      ],
      "id": "temporal-consequence"
    },
    {
      "cell_type": "markdown",
      "metadata": {
        "id": "imported-begin"
      },
      "source": [
        "## Learning Objectives"
      ],
      "id": "imported-begin"
    },
    {
      "cell_type": "markdown",
      "metadata": {
        "id": "solid-upset"
      },
      "source": [
        "At the end of the experiment, you will be able to:\n",
        "\n",
        "* know and implement dask related libraries\n",
        "* understand and visualize parallel processing using dask delayed\n",
        "* implement dask arrays\n",
        "* handle large and complex datasets in dask dataframes\n",
        "* implement list using dask bags\n",
        "* implement Linear Regression using dask-ml"
      ],
      "id": "solid-upset"
    },
    {
      "cell_type": "markdown",
      "metadata": {
        "id": "Mc_TIXSUPf8V"
      },
      "source": [
        "## Information"
      ],
      "id": "Mc_TIXSUPf8V"
    },
    {
      "cell_type": "markdown",
      "metadata": {
        "id": "external-gathering"
      },
      "source": [
        "### Dask\n",
        "\n",
        "Dask was launched in late 2014 by Matthew Rocklin with aims to bring native scalability to the Python Open Data Science  and overcome its single-machine restrictions. Dask consists of several different components and APIs, which can be categorized into three layers: \n",
        "\n",
        "* the scheduler\n",
        "* low-level APIs\n",
        "* high-level APIs"
      ],
      "id": "external-gathering"
    },
    {
      "cell_type": "markdown",
      "metadata": {
        "id": "EKabdQH8PFyP"
      },
      "source": [
        "![Dask_Overview](https://cdn.iisc.talentsprint.com/CDS/Images/Dask_Overview.JPG)"
      ],
      "id": "EKabdQH8PFyP"
    },
    {
      "cell_type": "markdown",
      "metadata": {
        "id": "novel-franchise"
      },
      "source": [
        "Dask is a free and open-source library for parallel computing in Python. It helps you scale your data science and machine learning workflows. It makes it easy to work with Numpy, Pandas, and Scikit-Learn, but that’s just the beginning. Dask exposes low-level APIs to its internal task scheduler to execute advanced computations. This enables building a personalised parallel computing system that uses the same engine that powers Dask’s Arrays, DataFrames, and machine learning algorithms. \n",
        "\n",
        "If you have larger-than-memory data, you can use Dask to scale up your workflow to leverage all the cores of your local workstation or even scale out to the cloud.\n",
        "\n",
        "Dask emphasizes the following virtues:\n",
        "\n",
        "* The ability to work in parallel with  NumPy array and Pandas DataFrame objects\n",
        "* Integration with other projects.\n",
        "* Distributed computing\n",
        "* Faster operation because of its low overhead and minimum serialisation\n",
        "* It runs resiliently on clusters with thousands of cores\n",
        "* Real-time feedback and diagnostics"
      ],
      "id": "novel-franchise"
    },
    {
      "cell_type": "markdown",
      "metadata": {
        "id": "l_JB9kotQaHb"
      },
      "source": [
        "### Parallel Processing\n",
        "\n",
        "Parallel processing refers to executing multiple tasks at the same time, using multiple processors in the same machine.\n",
        "\n",
        "Generally, the code is executed in sequence, one task at a time. However, if you have a complex code that takes a long time to run but has no logic dependency on each other then instead of waiting for the previous task to complete, we compute multiple steps simultaneously. This lets you take advantage of the available processing power, which is the case in most modern computers, thereby reducing the total time taken.\n",
        "\n",
        "To learn more about dask, follow the link [here](https://docs.dask.org/en/latest/).\n"
      ],
      "id": "l_JB9kotQaHb"
    },
    {
      "cell_type": "code",
      "metadata": {
        "id": "8rxxeAgzJJM5",
        "colab": {
          "base_uri": "https://localhost:8080/"
        },
        "outputId": "ca7922f1-f3fb-4712-b6d3-a6fe43f9a8d5"
      },
      "source": [
        "!pip -qq install dask-ml"
      ],
      "id": "8rxxeAgzJJM5",
      "execution_count": 1,
      "outputs": [
        {
          "output_type": "stream",
          "name": "stdout",
          "text": [
            "\u001b[K     |████████████████████████████████| 143 kB 5.3 MB/s \n",
            "\u001b[K     |████████████████████████████████| 22.3 MB 31 kB/s \n",
            "\u001b[K     |████████████████████████████████| 779 kB 46.9 MB/s \n",
            "\u001b[K     |████████████████████████████████| 119 kB 65.2 MB/s \n",
            "\u001b[K     |████████████████████████████████| 778 kB 67.9 MB/s \n",
            "\u001b[K     |████████████████████████████████| 776 kB 62.6 MB/s \n",
            "\u001b[K     |████████████████████████████████| 769 kB 66.6 MB/s \n",
            "\u001b[K     |████████████████████████████████| 766 kB 68.7 MB/s \n",
            "\u001b[K     |████████████████████████████████| 1.0 MB 67.5 MB/s \n",
            "\u001b[K     |████████████████████████████████| 722 kB 60.3 MB/s \n",
            "\u001b[K     |████████████████████████████████| 722 kB 65.8 MB/s \n",
            "\u001b[K     |████████████████████████████████| 715 kB 71.6 MB/s \n",
            "\u001b[K     |████████████████████████████████| 705 kB 33.6 MB/s \n",
            "\u001b[K     |████████████████████████████████| 699 kB 66.6 MB/s \n",
            "\u001b[K     |████████████████████████████████| 696 kB 48.8 MB/s \n",
            "\u001b[K     |████████████████████████████████| 684 kB 51.7 MB/s \n",
            "\u001b[K     |████████████████████████████████| 679 kB 47.4 MB/s \n",
            "\u001b[K     |████████████████████████████████| 675 kB 34.5 MB/s \n",
            "\u001b[K     |████████████████████████████████| 675 kB 51.6 MB/s \n",
            "\u001b[K     |████████████████████████████████| 672 kB 47.1 MB/s \n",
            "\u001b[K     |████████████████████████████████| 671 kB 55.0 MB/s \n",
            "\u001b[K     |████████████████████████████████| 669 kB 40.4 MB/s \n",
            "\u001b[K     |████████████████████████████████| 656 kB 53.7 MB/s \n",
            "\u001b[31mERROR: pip's dependency resolver does not currently take into account all the packages that are installed. This behaviour is the source of the following dependency conflicts.\n",
            "gym 0.17.3 requires cloudpickle<1.7.0,>=1.2.0, but you have cloudpickle 2.0.0 which is incompatible.\u001b[0m\n",
            "\u001b[?25h"
          ]
        }
      ]
    },
    {
      "cell_type": "markdown",
      "metadata": {
        "id": "fRUmEMOCv-d2"
      },
      "source": [
        "**Note: After running above cell, we will need to `Restart Runtime` to successfully import dask_ml**"
      ],
      "id": "fRUmEMOCv-d2"
    },
    {
      "cell_type": "markdown",
      "metadata": {
        "id": "b8ZyR1qqtr6_"
      },
      "source": [
        "### Setup Steps:"
      ],
      "id": "b8ZyR1qqtr6_"
    },
    {
      "cell_type": "code",
      "metadata": {
        "id": "qXDbGPh1tyNR"
      },
      "source": [
        "#@title Please enter your registration id to start: { run: \"auto\", display-mode: \"form\" }\n",
        "Id = \"2200092\" #@param {type:\"string\"}"
      ],
      "id": "qXDbGPh1tyNR",
      "execution_count": 1,
      "outputs": []
    },
    {
      "cell_type": "code",
      "metadata": {
        "id": "6SARMN_-t3ny"
      },
      "source": [
        "#@title Please enter your password (your registered phone number) to continue: { run: \"auto\", display-mode: \"form\" }\n",
        "password = \"9686800288\" #@param {type:\"string\"}"
      ],
      "id": "6SARMN_-t3ny",
      "execution_count": 4,
      "outputs": []
    },
    {
      "cell_type": "code",
      "metadata": {
        "id": "Bkw9Am4ht93r",
        "cellView": "form",
        "colab": {
          "base_uri": "https://localhost:8080/",
          "height": 34
        },
        "outputId": "1f8ce74d-c95f-4624-e429-b985845ffce8"
      },
      "source": [
        "#@title Run this cell to complete the setup for this Notebook\n",
        "from IPython import get_ipython\n",
        "\n",
        "ipython = get_ipython()\n",
        "  \n",
        "notebook= \"M2_AST_08_Dask_C\" #name of the notebook\n",
        "\n",
        "def setup():\n",
        "#  ipython.magic(\"sx pip3 install torch\")\n",
        "    ipython.magic(\"sx pip -qq install dask[complete]\")\n",
        "    ipython.magic(\"sx pip -qq install dask distributed\")\n",
        "    ipython.magic(\"sx pip -qq install mimesis\")\n",
        "    ipython.magic(\"sx pip -qq install dask\")\n",
        "    #ipython.magic(\"sx wget https://cdn.iisc.talentsprint.com/CDS/MiniProjects/BlackFriday.zip\")\n",
        "    #ipython.magic(\"sx unzip BlackFriday.zip\")\n",
        "    ipython.magic(\"sx wget https://cdn.iisc.talentsprint.com/CDS/Datasets/nycflights.zip\")\n",
        "    ipython.magic(\"sx unzip nycflights.zip\")\n",
        "    from IPython.display import HTML, display\n",
        "    display(HTML('<script src=\"https://dashboard.talentsprint.com/aiml/record_ip.html?traineeId={0}&recordId={1}\"></script>'.format(getId(),submission_id)))\n",
        "    print(\"Setup completed successfully\")\n",
        "    return\n",
        "\n",
        "def submit_notebook():\n",
        "    ipython.magic(\"notebook -e \"+ notebook + \".ipynb\")\n",
        "    \n",
        "    import requests, json, base64, datetime\n",
        "\n",
        "    url = \"https://dashboard.talentsprint.com/xp/app/save_notebook_attempts\"\n",
        "    if not submission_id:\n",
        "      data = {\"id\" : getId(), \"notebook\" : notebook, \"mobile\" : getPassword()}\n",
        "      r = requests.post(url, data = data)\n",
        "      r = json.loads(r.text)\n",
        "\n",
        "      if r[\"status\"] == \"Success\":\n",
        "          return r[\"record_id\"]\n",
        "      elif \"err\" in r:        \n",
        "        print(r[\"err\"])\n",
        "        return None        \n",
        "      else:\n",
        "        print (\"Something is wrong, the notebook will not be submitted for grading\")\n",
        "        return None\n",
        "    \n",
        "    elif getAnswer() and getComplexity() and getAdditional() and getConcepts() and getComments() and getMentorSupport():\n",
        "      f = open(notebook + \".ipynb\", \"rb\")\n",
        "      file_hash = base64.b64encode(f.read())\n",
        "\n",
        "      data = {\"complexity\" : Complexity, \"additional\" :Additional, \n",
        "              \"concepts\" : Concepts, \"record_id\" : submission_id, \n",
        "              \"answer\" : Answer, \"id\" : Id, \"file_hash\" : file_hash,\n",
        "              \"notebook\" : notebook,\n",
        "              \"feedback_experiments_input\" : Comments,\n",
        "              \"feedback_mentor_support\": Mentor_support}\n",
        "      r = requests.post(url, data = data)\n",
        "      r = json.loads(r.text)\n",
        "      if \"err\" in r:        \n",
        "        print(r[\"err\"])\n",
        "        return None   \n",
        "      else:\n",
        "        print(\"Your submission is successful.\")\n",
        "        print(\"Ref Id:\", submission_id)\n",
        "        print(\"Date of submission: \", r[\"date\"])\n",
        "        print(\"Time of submission: \", r[\"time\"])\n",
        "        print(\"View your submissions: https://cds.iisc.talentsprint.com/notebook_submissions\")\n",
        "        #print(\"For any queries/discrepancies, please connect with mentors through the chat icon in LMS dashboard.\")\n",
        "        return submission_id\n",
        "    else: submission_id\n",
        "    \n",
        "\n",
        "def getAdditional():\n",
        "  try:\n",
        "    if not Additional: \n",
        "      raise NameError\n",
        "    else:\n",
        "      return Additional  \n",
        "  except NameError:\n",
        "    print (\"Please answer Additional Question\")\n",
        "    return None\n",
        "\n",
        "def getComplexity():\n",
        "  try:\n",
        "    if not Complexity:\n",
        "      raise NameError\n",
        "    else:\n",
        "      return Complexity\n",
        "  except NameError:\n",
        "    print (\"Please answer Complexity Question\")\n",
        "    return None\n",
        "  \n",
        "def getConcepts():\n",
        "  try:\n",
        "    if not Concepts:\n",
        "      raise NameError\n",
        "    else:\n",
        "      return Concepts\n",
        "  except NameError:\n",
        "    print (\"Please answer Concepts Question\")\n",
        "    return None\n",
        "  \n",
        "  \n",
        "# def getWalkthrough():\n",
        "#   try:\n",
        "#     if not Walkthrough:\n",
        "#       raise NameError\n",
        "#     else:\n",
        "#       return Walkthrough\n",
        "#   except NameError:\n",
        "#     print (\"Please answer Walkthrough Question\")\n",
        "#     return None\n",
        "  \n",
        "def getComments():\n",
        "  try:\n",
        "    if not Comments:\n",
        "      raise NameError\n",
        "    else:\n",
        "      return Comments\n",
        "  except NameError:\n",
        "    print (\"Please answer Comments Question\")\n",
        "    return None\n",
        "  \n",
        "\n",
        "def getMentorSupport():\n",
        "  try:\n",
        "    if not Mentor_support:\n",
        "      raise NameError\n",
        "    else:\n",
        "      return Mentor_support\n",
        "  except NameError:\n",
        "    print (\"Please answer Mentor support Question\")\n",
        "    return None\n",
        "\n",
        "def getAnswer():\n",
        "  try:\n",
        "    if not Answer:\n",
        "      raise NameError \n",
        "    else: \n",
        "      return Answer\n",
        "  except NameError:\n",
        "    print (\"Please answer Question\")\n",
        "    return None\n",
        "  \n",
        "\n",
        "def getId():\n",
        "  try: \n",
        "    return Id if Id else None\n",
        "  except NameError:\n",
        "    return None\n",
        "\n",
        "def getPassword():\n",
        "  try:\n",
        "    return password if password else None\n",
        "  except NameError:\n",
        "    return None\n",
        "\n",
        "submission_id = None\n",
        "### Setup \n",
        "if getPassword() and getId():\n",
        "  submission_id = submit_notebook()\n",
        "  if submission_id:\n",
        "    setup() \n",
        "else:\n",
        "  print (\"Please complete Id and Password cells before running setup\")\n",
        "\n"
      ],
      "id": "Bkw9Am4ht93r",
      "execution_count": 3,
      "outputs": [
        {
          "output_type": "display_data",
          "data": {
            "text/html": [
              "<script src=\"https://dashboard.talentsprint.com/aiml/record_ip.html?traineeId=2200092&recordId=3647\"></script>"
            ],
            "text/plain": [
              "<IPython.core.display.HTML object>"
            ]
          },
          "metadata": {}
        },
        {
          "output_type": "stream",
          "name": "stdout",
          "text": [
            "Setup completed successfully\n"
          ]
        }
      ]
    },
    {
      "cell_type": "markdown",
      "metadata": {
        "id": "amber-breast"
      },
      "source": [
        "#### Importing required packages"
      ],
      "id": "amber-breast"
    },
    {
      "cell_type": "code",
      "metadata": {
        "id": "marked-penny"
      },
      "source": [
        "import os                        # provides interaction with operating system  \n",
        "import dask \n",
        "import dask.array as da          # for handling large arrays \n",
        "from dask import delayed         # import the delayed function of dask\n",
        "import dask.dataframe as dd      # library to import Dask DataFrame\n",
        "import dask.bag as db            # import the bag from dask\n",
        "from dask_ml.linear_model import LinearRegression\n",
        "import json                      # importing JSON files   \n",
        "import numpy as np   \n",
        "import pandas as pd\n",
        "from time import sleep "
      ],
      "id": "marked-penny",
      "execution_count": 5,
      "outputs": []
    },
    {
      "cell_type": "markdown",
      "metadata": {
        "id": "disciplinary-merchant"
      },
      "source": [
        "**Implementation of Parallel Processing with Dask (Basic Idea)**\n",
        "\n",
        "Here, we can compare the normal python function with dask delayed function at the time of execution"
      ],
      "id": "disciplinary-merchant"
    },
    {
      "cell_type": "code",
      "metadata": {
        "id": "interstate-excuse"
      },
      "source": [
        "# define apply_discount function and pass a variable x \n",
        "def apply_discount(x):                    \n",
        "  sleep(1)\n",
        "  # discount of 20 %\n",
        "  x=x-0.2*x                          \n",
        "  return x                   \n",
        "\n",
        "# define two variables a, b and add them\n",
        "def get_total(a,b):                   \n",
        "  sleep(1)\n",
        "  return a+b\n",
        "\n",
        "# define function for total price of items\n",
        "def get_total_price(x,y):            \n",
        "  sleep(1)\n",
        "  a=apply_discount(x)\n",
        "  b=apply_discount(y)\n",
        "  get_total(a,b)"
      ],
      "id": "interstate-excuse",
      "execution_count": 6,
      "outputs": []
    },
    {
      "cell_type": "markdown",
      "metadata": {
        "id": "fifth-lightweight"
      },
      "source": [
        "Given a number, the above code simply applies a 20 percent discount on price and then adds them. Inserted a sleep function explicitly, both the functions take 1 sec to execute."
      ],
      "id": "fifth-lightweight"
    },
    {
      "cell_type": "code",
      "metadata": {
        "id": "polished-mailing",
        "colab": {
          "base_uri": "https://localhost:8080/"
        },
        "outputId": "e5a79e39-ebd8-4537-d320-dbd429f93e70"
      },
      "source": [
        "%%time\n",
        "\n",
        "# apply discount of 20 % on 100\n",
        "x = apply_discount(100)       \n",
        "# apply a discount of 20 % on 200                     \n",
        "y = apply_discount(200)  \n",
        "# add a and b                          \n",
        "z = get_total_price(x,y)                           "
      ],
      "id": "polished-mailing",
      "execution_count": 7,
      "outputs": [
        {
          "output_type": "stream",
          "name": "stdout",
          "text": [
            "CPU times: user 33.6 ms, sys: 4.53 ms, total: 38.1 ms\n",
            "Wall time: 6.01 s\n"
          ]
        }
      ]
    },
    {
      "cell_type": "markdown",
      "metadata": {
        "id": "monthly-chocolate"
      },
      "source": [
        "We have recorded the time taken for this execution using %%time as shown. You can observe that time taken is ~6.01 seconds when it is executed sequentially. Now, let’s see how to use dask.delayed to reduce this time."
      ],
      "id": "monthly-chocolate"
    },
    {
      "cell_type": "markdown",
      "metadata": {
        "id": "hispanic-newport"
      },
      "source": [
        "Now, you can transform the functions apply_discount() and get_total_price(). You can use delayed() function to wrap the function calls that you want to turn into tasks."
      ],
      "id": "hispanic-newport"
    },
    {
      "cell_type": "code",
      "metadata": {
        "id": "moved-deviation",
        "colab": {
          "base_uri": "https://localhost:8080/"
        },
        "outputId": "ab8db359-041f-4068-85d6-44657ac28454"
      },
      "source": [
        "%%time\n",
        "\n",
        "# Wrapping all the function calls using dask.delayed\n",
        "x = delayed(apply_discount)(100)\n",
        "y = delayed(apply_discount)(200)\n",
        "z = delayed(get_total_price)(x, y)"
      ],
      "id": "moved-deviation",
      "execution_count": 8,
      "outputs": [
        {
          "output_type": "stream",
          "name": "stdout",
          "text": [
            "CPU times: user 1.49 ms, sys: 0 ns, total: 1.49 ms\n",
            "Wall time: 4.99 ms\n"
          ]
        }
      ]
    },
    {
      "cell_type": "markdown",
      "metadata": {
        "id": "heavy-compatibility"
      },
      "source": [
        "**What does dask.delayed do?**\n",
        "\n",
        "The Dask delayed function decorates your functions so that they operate lazily. Rather than executing your function immediately, it will defer execution, placing the function and its arguments into a task graph. It wraps a function or object to produce a Delayed.\n"
      ],
      "id": "heavy-compatibility"
    },
    {
      "cell_type": "code",
      "metadata": {
        "id": "compact-fortune",
        "colab": {
          "base_uri": "https://localhost:8080/",
          "height": 625
        },
        "outputId": "41882db0-7820-4413-d566-33a7395193d5"
      },
      "source": [
        "# visualize in graphical way\n",
        "z.visualize()         "
      ],
      "id": "compact-fortune",
      "execution_count": 9,
      "outputs": [
        {
          "output_type": "execute_result",
          "data": {
            "image/png": "[encoded data removed]",
            "text/plain": [
              "<IPython.core.display.Image object>"
            ]
          },
          "metadata": {},
          "execution_count": 9
        }
      ]
    },
    {
      "cell_type": "markdown",
      "metadata": {
        "id": "serious-message"
      },
      "source": [
        "Clearly, from the above image, you can see there are two instances of apply_discount() function called in parallel. This is an opportunity to save time and processing power by executing them simultaneously.\n",
        "\n",
        "Till now, the task graph is computed. To actually execute it, let’s call the compute() method of z."
      ],
      "id": "serious-message"
    },
    {
      "cell_type": "code",
      "metadata": {
        "id": "loaded-radar",
        "colab": {
          "base_uri": "https://localhost:8080/"
        },
        "outputId": "d7ce3813-0da3-423c-b650-3fb94a025f10"
      },
      "source": [
        "%%time\n",
        "\n",
        "# compute() is used to show the result in dask\n",
        "z.compute()         "
      ],
      "id": "loaded-radar",
      "execution_count": 10,
      "outputs": [
        {
          "output_type": "stream",
          "name": "stdout",
          "text": [
            "CPU times: user 35 ms, sys: 7.86 ms, total: 42.9 ms\n",
            "Wall time: 5.02 s\n"
          ]
        }
      ]
    },
    {
      "cell_type": "markdown",
      "metadata": {
        "id": "surrounded-vitamin"
      },
      "source": [
        "**Note**: When we create an object, it is just a blueprint until you call `compute()`. That is when the job gets distributed to all the workers, and the actual function gets called, or concrete values are generated. "
      ],
      "id": "surrounded-vitamin"
    },
    {
      "cell_type": "markdown",
      "metadata": {
        "id": "instructional-edinburgh"
      },
      "source": [
        "The total time taken has been reduced. This is the basic concept of parallel computing. Dask makes it very convenient.\n",
        "\n",
        "To know more about delayed function, click [here](https://docs.dask.org/en/latest/delayed.html) "
      ],
      "id": "instructional-edinburgh"
    },
    {
      "cell_type": "markdown",
      "metadata": {
        "id": "XK77RalhRLVX"
      },
      "source": [
        "### Arrays\n",
        "\n",
        "![dask_array](https://cdn.iisc.talentsprint.com/CDS/Images/Dask_array.JPG)\n",
        "\n",
        "Dask array provides a parallel, larger-than-memory, n-dimensional array using blocked algorithms."
      ],
      "id": "XK77RalhRLVX"
    },
    {
      "cell_type": "markdown",
      "metadata": {
        "id": "refined-wisconsin"
      },
      "source": [
        "* Parallel: Uses all of the cores on your computer\n",
        "\n",
        "* Larger-than-memory: Lets you work on datasets that are larger than your available memory by breaking up your array into many small pieces, operating on those pieces in an order that minimizes the memory footprint of your computation, and effectively streaming data from disk.\n",
        "\n",
        "* Blocked Algorithms: Performs large computations by performing many smaller computations\n",
        "\n",
        "\n",
        "In the below example, dask arrays and normal numpy arrays are used and compared based on the time taken for execution.\n",
        "\n",
        "1. Construct a 40000x40000 array of normally distributed random values broken up into 1000x1000 sized chunks\n",
        "\n",
        "2. Take the mean along one axis\n",
        "\n",
        "3. Take every 100th element\n",
        "\n",
        "To know more about dask arrays, click [here](https://docs.dask.org/en/latest/array.html)."
      ],
      "id": "refined-wisconsin"
    },
    {
      "cell_type": "markdown",
      "metadata": {
        "id": "insured-shaft"
      },
      "source": [
        "Creating an array with random normal distribution"
      ],
      "id": "insured-shaft"
    },
    {
      "cell_type": "code",
      "metadata": {
        "id": "antique-strengthening"
      },
      "source": [
        "# creating a random normal dask array with a mean value of 20 and sigma value of 0.2\n",
        "# 1600 million element array with 1000 by 1000 chunks\n",
        "x = da.random.normal(20, 0.2, size=(40000, 40000),   \n",
        "                              chunks=(1000, 1000))   # Cut into 1000x1000 sized chunks\n",
        "# Perform NumPy-style operations to calculate mean along the rows (axis=0)\n",
        "y = x.mean(axis=0)[::100]                            "
      ],
      "id": "antique-strengthening",
      "execution_count": 11,
      "outputs": []
    },
    {
      "cell_type": "markdown",
      "metadata": {
        "id": "original-orbit"
      },
      "source": [
        "Computing the mean of x and capturing the time using the magical command"
      ],
      "id": "original-orbit"
    },
    {
      "cell_type": "code",
      "metadata": {
        "id": "WDn-xXVz9kCq",
        "colab": {
          "base_uri": "https://localhost:8080/"
        },
        "outputId": "4518c947-0077-4e3c-8d6e-cc73dd263f3f"
      },
      "source": [
        "%%time\n",
        "# computing the mean of x \n",
        "y.compute() "
      ],
      "id": "WDn-xXVz9kCq",
      "execution_count": 12,
      "outputs": [
        {
          "output_type": "stream",
          "name": "stdout",
          "text": [
            "CPU times: user 1min 47s, sys: 455 ms, total: 1min 47s\n",
            "Wall time: 55.3 s\n"
          ]
        },
        {
          "output_type": "execute_result",
          "data": {
            "text/plain": [
              "array([19.99968751, 19.99973381, 20.00023072, 20.00119916, 19.99950949,\n",
              "       20.00028721, 19.99879091, 20.00218073, 20.00008864, 20.00106379,\n",
              "       20.00045751, 20.00123122, 19.99892078, 19.9994965 , 20.00186274,\n",
              "       19.99968482, 19.99999852, 19.99792343, 19.99952691, 19.99858146,\n",
              "       20.00018009, 19.99979832, 20.00019805, 19.99982166, 19.99796901,\n",
              "       20.00055926, 19.99929442, 19.99992319, 20.00020663, 20.00017936,\n",
              "       20.00131354, 19.99802954, 19.99997629, 20.00013888, 19.99897056,\n",
              "       19.99991037, 20.0014631 , 19.99951212, 19.99975338, 20.00001251,\n",
              "       20.00073604, 20.00051599, 20.00041162, 19.99977145, 20.00019421,\n",
              "       20.00013005, 20.00110035, 20.00120453, 19.99899351, 19.99883856,\n",
              "       20.00031844, 19.9999415 , 20.0019839 , 20.00024653, 19.99996583,\n",
              "       20.00053388, 19.99996412, 20.00028529, 19.99946231, 19.99994985,\n",
              "       19.99930523, 19.99841849, 20.00092433, 19.99953732, 20.00106105,\n",
              "       19.99976599, 20.00205979, 20.00029703, 19.99856562, 19.99932995,\n",
              "       20.00011901, 20.00077677, 19.99992011, 20.00112224, 19.99848612,\n",
              "       20.00055805, 19.99874787, 19.99994038, 20.00025696, 19.99962841,\n",
              "       19.99960742, 19.99982812, 20.00037546, 20.00193714, 19.99917345,\n",
              "       20.00141301, 20.00094834, 19.99773167, 20.00052953, 20.00008737,\n",
              "       19.99924575, 20.00081385, 19.99917579, 20.00023215, 20.00179801,\n",
              "       20.0000235 , 20.00103029, 20.00037914, 19.9990099 , 20.00063703,\n",
              "       19.99950048, 19.99943772, 20.00023208, 19.99834787, 19.99942447,\n",
              "       19.99975624, 19.99723013, 19.99919321, 19.9984348 , 19.9998884 ,\n",
              "       20.00038921, 20.00111699, 20.00068194, 20.00028948, 19.99869785,\n",
              "       19.99927453, 20.00215196, 20.00288513, 19.99967622, 19.99954241,\n",
              "       19.99874609, 20.00021011, 19.9986701 , 19.99965929, 19.99725857,\n",
              "       20.00053645, 19.9993836 , 20.00002471, 20.00157511, 19.99975477,\n",
              "       20.00017387, 19.99922475, 20.00072438, 19.99996859, 20.00194592,\n",
              "       19.99788536, 19.9990923 , 20.00197017, 20.00118187, 19.99889602,\n",
              "       20.0000963 , 20.0011305 , 19.99885924, 20.00065888, 19.99852772,\n",
              "       20.0001205 , 20.00036459, 19.99976387, 20.0002933 , 19.99973358,\n",
              "       19.99970602, 20.00064694, 20.00041355, 20.00053601, 19.99942443,\n",
              "       19.99906502, 19.99953487, 20.00002549, 20.00021958, 20.0015657 ,\n",
              "       19.99823861, 19.99901595, 20.00091629, 19.99953067, 20.00104703,\n",
              "       20.00067584, 20.00020997, 19.99908443, 19.99919296, 19.99982063,\n",
              "       19.99924538, 20.00128984, 20.00015853, 20.00089937, 19.99945634,\n",
              "       20.0009611 , 19.99949671, 20.00037945, 19.99845466, 20.00090688,\n",
              "       20.00107534, 20.00032436, 20.00003218, 20.00012239, 20.00119441,\n",
              "       20.00043136, 20.00031522, 19.9994303 , 20.00096551, 19.99870549,\n",
              "       19.99880269, 20.0035262 , 20.00065161, 20.00149761, 20.00121857,\n",
              "       19.99973087, 19.99941633, 19.99916763, 20.00017935, 19.99753241,\n",
              "       20.00053529, 19.99952113, 20.00011689, 20.00121391, 20.0009048 ,\n",
              "       20.00046106, 19.99968963, 19.99966191, 19.99967186, 20.00068421,\n",
              "       20.00071781, 19.99822789, 20.00069214, 19.99915516, 20.00071736,\n",
              "       19.99953213, 19.99997731, 19.99951067, 20.00105942, 20.00054737,\n",
              "       20.00185525, 19.99890879, 19.99847737, 19.99850611, 20.0009144 ,\n",
              "       19.99847552, 19.99840412, 20.00251966, 20.00143263, 19.99971325,\n",
              "       19.99935101, 20.00108985, 19.99923496, 20.00098365, 19.99794985,\n",
              "       19.99724016, 19.99993695, 19.99958203, 19.99855655, 20.00080614,\n",
              "       20.00050716, 19.99949526, 19.99954269, 20.00008362, 19.99931662,\n",
              "       19.99935561, 20.00218947, 19.99861323, 20.00047532, 20.00036939,\n",
              "       20.00097557, 19.9997405 , 19.99933531, 19.99959069, 20.0004837 ,\n",
              "       20.00043787, 19.99987919, 20.0003603 , 19.99895886, 19.99848273,\n",
              "       20.00047869, 19.99916948, 20.00110848, 19.99816826, 20.00016838,\n",
              "       19.9997195 , 19.99960005, 19.99953638, 19.99906124, 20.00049135,\n",
              "       20.00165836, 20.00135002, 20.00084199, 19.99757425, 19.99965913,\n",
              "       19.99877776, 20.00044475, 19.99993315, 19.99998968, 20.00252335,\n",
              "       19.99990654, 19.99973879, 19.99776756, 19.99963635, 20.00102694,\n",
              "       20.00016986, 20.0012768 , 19.99885211, 19.9999491 , 19.99910488,\n",
              "       20.000741  , 19.99986044, 20.0004996 , 20.00004349, 20.00058263,\n",
              "       20.00120272, 20.00015101, 20.00169285, 20.00134635, 20.00018784,\n",
              "       20.00264555, 19.99951543, 19.99899776, 19.99986837, 20.0004135 ,\n",
              "       19.99945086, 20.00168778, 19.99878854, 20.00008437, 19.9995273 ,\n",
              "       19.99999486, 19.99953336, 20.00187151, 19.99830526, 19.99924271,\n",
              "       20.00098772, 20.0002863 , 20.0000604 , 19.99970622, 20.00081758,\n",
              "       20.00075887, 20.00013055, 20.00163894, 19.99808519, 20.00136337,\n",
              "       19.99992664, 20.00052032, 20.00072789, 19.99944271, 19.99911414,\n",
              "       20.00122008, 20.00018122, 19.99946411, 20.00018697, 20.00003818,\n",
              "       19.99968744, 19.99965168, 19.99882108, 20.00068833, 20.00016853,\n",
              "       19.99997076, 20.00009546, 20.00029412, 20.00100832, 19.99952077,\n",
              "       20.00148856, 20.00070018, 19.99962505, 20.00127794, 19.99894302,\n",
              "       19.99993784, 20.0003657 , 20.00035667, 19.99880059, 20.00000939,\n",
              "       20.00054294, 19.99881729, 20.00084006, 19.99929816, 19.99813214,\n",
              "       20.00025312, 19.99972519, 20.00024476, 19.99873447, 19.9987727 ,\n",
              "       19.99923727, 19.9995325 , 19.99997021, 20.00004906, 19.99924116,\n",
              "       20.00046462, 20.00139155, 19.9995655 , 19.99933144, 20.00049364,\n",
              "       20.00014652, 20.00080527, 20.000779  , 19.99949666, 19.99949983,\n",
              "       19.99854391, 19.99970794, 19.9999132 , 19.99854241, 20.00029001,\n",
              "       20.00066207, 20.00104028, 19.99894639, 19.99806818, 20.00114078,\n",
              "       19.99986939, 19.99897294, 20.0024805 , 20.00073712, 19.99963247,\n",
              "       20.0003811 , 19.99893302, 20.00011471, 20.0006633 , 19.99884246])"
            ]
          },
          "metadata": {},
          "execution_count": 12
        }
      ]
    },
    {
      "cell_type": "markdown",
      "metadata": {
        "id": "virtual-communications"
      },
      "source": [
        "Dask.array is a NumPy-like library that operates on large datasets that don’t fit into memory. It extends beyond the linear problems to full N-Dimensional algorithms and a decent subset of the NumPy interface.\n",
        "\n",
        "Create ``dask.array`` object\n",
        "\n",
        "We can create a `dask.array` Array object with the `da.from_array` function. This function accepts\n",
        "\n",
        "1. data: Any object that supports NumPy slicing\n",
        "\n",
        "2. [chunks](https://docs.dask.org/en/latest/array-chunks.html): A chunk size defines the size of the numpy arrays\n"
      ],
      "id": "virtual-communications"
    },
    {
      "cell_type": "markdown",
      "metadata": {
        "id": "white-plane"
      },
      "source": [
        "**Manipulate ``dask.array`` object as a numpy array**\n",
        "\n",
        "Now we have an Array and we perform standard numpy-style computations that include arithmetic, mathematics, slicing, reductions, etc.\n",
        "\n",
        "The interface is familiar, but the actual work is different. dask_array.sum() does not do the same thing as numpy_array.sum().\n",
        "\n",
        "**What’s the difference?**\n",
        "\n",
        "dask_array.sum() builds an expression of the computation. It does not do the computation yet. numpy_array.sum() computes the sum immediately.\n",
        "\n",
        "*Why the difference?*\n",
        "\n",
        "Dask arrays are split into chunks. Each chunk must have computations run on that chunk explicitly. If the desired answer comes from a small slice of the entire dataset, running the computation overall data would be wasteful of CPU and memory.\n",
        "\n"
      ],
      "id": "white-plane"
    },
    {
      "cell_type": "markdown",
      "metadata": {
        "id": "precise-barcelona"
      },
      "source": [
        "#### Performance comparison\n",
        "\n",
        "Let's create a random numpy array of normal distribution.\n"
      ],
      "id": "precise-barcelona"
    },
    {
      "cell_type": "code",
      "metadata": {
        "id": "mobile-triple",
        "colab": {
          "base_uri": "https://localhost:8080/"
        },
        "outputId": "9d8dbfa2-a963-4f00-98d1-b2918b30cdc6"
      },
      "source": [
        "%%time\n",
        "# create a normal distribution array with 400 million element using numpy\n",
        "x = np.random.normal(20, 0.2, size=(20000, 20000))   \n",
        "# calculate the mean  \n",
        "y = x.mean(axis=0)[::100]                              \n",
        "y"
      ],
      "id": "mobile-triple",
      "execution_count": 13,
      "outputs": [
        {
          "output_type": "stream",
          "name": "stdout",
          "text": [
            "CPU times: user 18.7 s, sys: 1.11 s, total: 19.8 s\n",
            "Wall time: 19.8 s\n"
          ]
        }
      ]
    },
    {
      "cell_type": "markdown",
      "metadata": {
        "id": "capital-villa"
      },
      "source": [
        "\n",
        "Now Let's create a random dask array with normal distribution."
      ],
      "id": "capital-villa"
    },
    {
      "cell_type": "code",
      "metadata": {
        "id": "involved-festival",
        "colab": {
          "base_uri": "https://localhost:8080/"
        },
        "outputId": "b9805e8e-0a1b-4dc8-b09a-96833c58eca0"
      },
      "source": [
        "%%time\n",
        "# created the same array as above and made chunks of size 1000x1000\n",
        "x = da.random.normal(20, 0.2, size=(20000, 20000), chunks=(1000, 1000))   \n",
        "# calculate the mean \n",
        "y = x.mean(axis=0)[::100]                                                  \n",
        "y.compute()"
      ],
      "id": "involved-festival",
      "execution_count": 14,
      "outputs": [
        {
          "output_type": "stream",
          "name": "stdout",
          "text": [
            "CPU times: user 26.9 s, sys: 527 ms, total: 27.4 s\n",
            "Wall time: 15.5 s\n"
          ]
        }
      ]
    },
    {
      "cell_type": "markdown",
      "metadata": {
        "id": "found-reporter"
      },
      "source": [
        "Notice that the Dask array computation ran in ~13 seconds but used ~25 seconds of user CPU time. The numpy computation ran in ~19 seconds and used ~18 seconds of user CPU time.\n",
        "\n",
        "Dask finished faster but used more total CPU time because Dask was able to transparently parallelize the computation because of the chunk size."
      ],
      "id": "found-reporter"
    },
    {
      "cell_type": "markdown",
      "metadata": {
        "id": "0aDsiToL_G8b"
      },
      "source": [
        "Let us study another example on dask arrays."
      ],
      "id": "0aDsiToL_G8b"
    },
    {
      "cell_type": "code",
      "metadata": {
        "id": "5XRgC93P-4S_",
        "colab": {
          "base_uri": "https://localhost:8080/"
        },
        "outputId": "8deacaa7-2466-49eb-fed5-edb2dda42ab4"
      },
      "source": [
        "# define the shape of the array\n",
        "shape = (1000, 4000)                      \n",
        "ones_np = np.ones(shape)\n",
        "ones_np"
      ],
      "id": "5XRgC93P-4S_",
      "execution_count": 15,
      "outputs": [
        {
          "output_type": "execute_result",
          "data": {
            "text/plain": [
              "array([[1., 1., 1., ..., 1., 1., 1.],\n",
              "       [1., 1., 1., ..., 1., 1., 1.],\n",
              "       [1., 1., 1., ..., 1., 1., 1.],\n",
              "       ...,\n",
              "       [1., 1., 1., ..., 1., 1., 1.],\n",
              "       [1., 1., 1., ..., 1., 1., 1.],\n",
              "       [1., 1., 1., ..., 1., 1., 1.]])"
            ]
          },
          "metadata": {},
          "execution_count": 15
        }
      ]
    },
    {
      "cell_type": "markdown",
      "metadata": {
        "id": "EwCEJrZH_DnO"
      },
      "source": [
        "This array contains exactly 32 MB of data:"
      ],
      "id": "EwCEJrZH_DnO"
    },
    {
      "cell_type": "code",
      "metadata": {
        "id": "CNcUXl30_XV_",
        "colab": {
          "base_uri": "https://localhost:8080/"
        },
        "outputId": "69380439-de66-446a-981f-cbb3f46cd8ba"
      },
      "source": [
        "# print the memory of array created\n",
        "print('%.1f MB' % (ones_np.nbytes / 1e6))                                  "
      ],
      "id": "CNcUXl30_XV_",
      "execution_count": 16,
      "outputs": [
        {
          "output_type": "stream",
          "name": "stdout",
          "text": [
            "32.0 MB\n"
          ]
        }
      ]
    },
    {
      "cell_type": "markdown",
      "metadata": {
        "id": "oHJCX0Jq_ldt"
      },
      "source": [
        "Now let’s create the same array using dask’s array interface.\n",
        "\n",
        "A crucial difference with dask is that we must specify the chunks argument. “Chunks” describes how the array is split up over many sub-arrays."
      ],
      "id": "oHJCX0Jq_ldt"
    },
    {
      "cell_type": "code",
      "metadata": {
        "id": "2vMwTmHo_shW",
        "colab": {
          "base_uri": "https://localhost:8080/",
          "height": 130
        },
        "outputId": "05af65b2-f443-4e52-937a-2c280d63e8d2"
      },
      "source": [
        "# defining chunk in dask array\n",
        "chunk_shape = (1000, 1000)\n",
        "ones = da.ones(shape, chunks=chunk_shape)\n",
        "ones"
      ],
      "id": "2vMwTmHo_shW",
      "execution_count": 17,
      "outputs": [
        {
          "output_type": "execute_result",
          "data": {
            "text/html": [
              "<table>\n",
              "<tr>\n",
              "<td>\n",
              "<table>\n",
              "  <thead>\n",
              "    <tr><td> </td><th> Array </th><th> Chunk </th></tr>\n",
              "  </thead>\n",
              "  <tbody>\n",
              "    <tr><th> Bytes </th><td> 32.00 MB </td> <td> 8.00 MB </td></tr>\n",
              "    <tr><th> Shape </th><td> (1000, 4000) </td> <td> (1000, 1000) </td></tr>\n",
              "    <tr><th> Count </th><td> 4 Tasks </td><td> 4 Chunks </td></tr>\n",
              "    <tr><th> Type </th><td> float64 </td><td> numpy.ndarray </td></tr>\n",
              "  </tbody>\n",
              "</table>\n",
              "</td>\n",
              "<td>\n",
              "<svg width=\"170\" height=\"92\" style=\"stroke:rgb(0,0,0);stroke-width:1\" >\n",
              "\n",
              "  <!-- Horizontal lines -->\n",
              "  <line x1=\"0\" y1=\"0\" x2=\"120\" y2=\"0\" style=\"stroke-width:2\" />\n",
              "  <line x1=\"0\" y1=\"42\" x2=\"120\" y2=\"42\" style=\"stroke-width:2\" />\n",
              "\n",
              "  <!-- Vertical lines -->\n",
              "  <line x1=\"0\" y1=\"0\" x2=\"0\" y2=\"42\" style=\"stroke-width:2\" />\n",
              "  <line x1=\"30\" y1=\"0\" x2=\"30\" y2=\"42\" />\n",
              "  <line x1=\"60\" y1=\"0\" x2=\"60\" y2=\"42\" />\n",
              "  <line x1=\"90\" y1=\"0\" x2=\"90\" y2=\"42\" />\n",
              "  <line x1=\"120\" y1=\"0\" x2=\"120\" y2=\"42\" style=\"stroke-width:2\" />\n",
              "\n",
              "  <!-- Colored Rectangle -->\n",
              "  <polygon points=\"0.000000,0.000000 120.000000,0.000000 120.000000,42.898796 0.000000,42.898796\" style=\"fill:#ECB172A0;stroke-width:0\"/>\n",
              "\n",
              "  <!-- Text -->\n",
              "  <text x=\"60.000000\" y=\"62.898796\" font-size=\"1.0rem\" font-weight=\"100\" text-anchor=\"middle\" >4000</text>\n",
              "  <text x=\"140.000000\" y=\"21.449398\" font-size=\"1.0rem\" font-weight=\"100\" text-anchor=\"middle\" transform=\"rotate(-90,140.000000,21.449398)\">1000</text>\n",
              "</svg>\n",
              "</td>\n",
              "</tr>\n",
              "</table>"
            ],
            "text/plain": [
              "dask.array<ones, shape=(1000, 4000), dtype=float64, chunksize=(1000, 1000), chunktype=numpy.ndarray>"
            ]
          },
          "metadata": {},
          "execution_count": 17
        }
      ]
    },
    {
      "cell_type": "markdown",
      "metadata": {
        "id": "JOvkTZkU_-Nr"
      },
      "source": [
        "Notice that we just see a symbolic representation of the array, including its shape, dtype, and chunk size. No data has been generated yet. When we call .compute() on a dask array, the computation is triggered, and the dask array becomes a numpy array."
      ],
      "id": "JOvkTZkU_-Nr"
    },
    {
      "cell_type": "code",
      "metadata": {
        "id": "1Ecr38LuAFfQ",
        "colab": {
          "base_uri": "https://localhost:8080/"
        },
        "outputId": "9cb3fbd0-3ea4-47f6-b7d0-58b902e2248c"
      },
      "source": [
        "ones.compute()            "
      ],
      "id": "1Ecr38LuAFfQ",
      "execution_count": 18,
      "outputs": [
        {
          "output_type": "execute_result",
          "data": {
            "text/plain": [
              "array([[1., 1., 1., ..., 1., 1., 1.],\n",
              "       [1., 1., 1., ..., 1., 1., 1.],\n",
              "       [1., 1., 1., ..., 1., 1., 1.],\n",
              "       ...,\n",
              "       [1., 1., 1., ..., 1., 1., 1.],\n",
              "       [1., 1., 1., ..., 1., 1., 1.],\n",
              "       [1., 1., 1., ..., 1., 1., 1.]])"
            ]
          },
          "metadata": {},
          "execution_count": 18
        }
      ]
    },
    {
      "cell_type": "markdown",
      "metadata": {
        "id": "DAl1yL0jAHYO"
      },
      "source": [
        "In order to understand what happened when we called .compute(), we can visualize the dask graph, the symbolic operations that make up the array"
      ],
      "id": "DAl1yL0jAHYO"
    },
    {
      "cell_type": "code",
      "metadata": {
        "id": "ABGAp0ohAKtP",
        "colab": {
          "base_uri": "https://localhost:8080/",
          "height": 202
        },
        "outputId": "4a87bed4-3f18-45b1-8431-a8fc6f464105"
      },
      "source": [
        "ones.visualize(format='svg')"
      ],
      "id": "ABGAp0ohAKtP",
      "execution_count": 19,
      "outputs": [
        {
          "output_type": "execute_result",
          "data": {
            "text/plain": [
              "<IPython.core.display.SVG object>"
            ],
            "image/svg+xml": "<svg height=\"136pt\" viewBox=\"0.00 0.00 285.90 135.90\" width=\"286pt\" xmlns=\"http://www.w3.org/2000/svg\" xmlns:xlink=\"http://www.w3.org/1999/xlink\">\n<g class=\"graph\" id=\"graph0\" transform=\"scale(1 1) rotate(0) translate(4 131.895)\">\n<title>%3</title>\n<polygon fill=\"#ffffff\" points=\"-4,4 -4,-131.895 281.895,-131.895 281.895,4 -4,4\" stroke=\"transparent\"/>\n<!-- &#45;3607688489370611867 -->\n<g class=\"node\" id=\"node1\">\n<title>-3607688489370611867</title>\n<polygon fill=\"none\" points=\"54.9475,-127.895 .9475,-127.895 .9475,-91.895 54.9475,-91.895 54.9475,-127.895\" stroke=\"#000000\"/>\n<text fill=\"#000000\" font-family=\"Times,serif\" font-size=\"14.00\" text-anchor=\"middle\" x=\"27.9475\" y=\"-106.195\">(0, 0)</text>\n</g>\n<!-- 330818885371632526 -->\n<g class=\"node\" id=\"node2\">\n<title>330818885371632526</title>\n<ellipse cx=\"27.9475\" cy=\"-27.9475\" fill=\"none\" rx=\"27.8951\" ry=\"27.8951\" stroke=\"#000000\"/>\n<text fill=\"#000000\" font-family=\"Times,serif\" font-size=\"14.00\" text-anchor=\"middle\" x=\"27.9475\" y=\"-24.2475\">ones</text>\n</g>\n<!-- 330818885371632526&#45;&gt;&#45;3607688489370611867 -->\n<g class=\"edge\" id=\"edge1\">\n<title>330818885371632526-&gt;-3607688489370611867</title>\n<path d=\"M27.9475,-56.1492C27.9475,-64.2615 27.9475,-73.1159 27.9475,-81.2544\" fill=\"none\" stroke=\"#000000\"/>\n<polygon fill=\"#000000\" points=\"24.4476,-81.4182 27.9475,-91.4182 31.4476,-81.4183 24.4476,-81.4182\" stroke=\"#000000\"/>\n</g>\n<!-- &#45;3607688489369446818 -->\n<g class=\"node\" id=\"node3\">\n<title>-3607688489369446818</title>\n<polygon fill=\"none\" points=\"128.9475,-127.895 74.9475,-127.895 74.9475,-91.895 128.9475,-91.895 128.9475,-127.895\" stroke=\"#000000\"/>\n<text fill=\"#000000\" font-family=\"Times,serif\" font-size=\"14.00\" text-anchor=\"middle\" x=\"101.9475\" y=\"-106.195\">(0, 1)</text>\n</g>\n<!-- 1904540446337990301 -->\n<g class=\"node\" id=\"node4\">\n<title>1904540446337990301</title>\n<ellipse cx=\"101.9475\" cy=\"-27.9475\" fill=\"none\" rx=\"27.8951\" ry=\"27.8951\" stroke=\"#000000\"/>\n<text fill=\"#000000\" font-family=\"Times,serif\" font-size=\"14.00\" text-anchor=\"middle\" x=\"101.9475\" y=\"-24.2475\">ones</text>\n</g>\n<!-- 1904540446337990301&#45;&gt;&#45;3607688489369446818 -->\n<g class=\"edge\" id=\"edge2\">\n<title>1904540446337990301-&gt;-3607688489369446818</title>\n<path d=\"M101.9475,-56.1492C101.9475,-64.2615 101.9475,-73.1159 101.9475,-81.2544\" fill=\"none\" stroke=\"#000000\"/>\n<polygon fill=\"#000000\" points=\"98.4476,-81.4182 101.9475,-91.4182 105.4476,-81.4183 98.4476,-81.4182\" stroke=\"#000000\"/>\n</g>\n<!-- &#45;3607688489372941965 -->\n<g class=\"node\" id=\"node5\">\n<title>-3607688489372941965</title>\n<polygon fill=\"none\" points=\"202.9475,-127.895 148.9475,-127.895 148.9475,-91.895 202.9475,-91.895 202.9475,-127.895\" stroke=\"#000000\"/>\n<text fill=\"#000000\" font-family=\"Times,serif\" font-size=\"14.00\" text-anchor=\"middle\" x=\"175.9475\" y=\"-106.195\">(0, 2)</text>\n</g>\n<!-- 6894523576357428176 -->\n<g class=\"node\" id=\"node6\">\n<title>6894523576357428176</title>\n<ellipse cx=\"175.9475\" cy=\"-27.9475\" fill=\"none\" rx=\"27.8951\" ry=\"27.8951\" stroke=\"#000000\"/>\n<text fill=\"#000000\" font-family=\"Times,serif\" font-size=\"14.00\" text-anchor=\"middle\" x=\"175.9475\" y=\"-24.2475\">ones</text>\n</g>\n<!-- 6894523576357428176&#45;&gt;&#45;3607688489372941965 -->\n<g class=\"edge\" id=\"edge3\">\n<title>6894523576357428176-&gt;-3607688489372941965</title>\n<path d=\"M175.9475,-56.1492C175.9475,-64.2615 175.9475,-73.1159 175.9475,-81.2544\" fill=\"none\" stroke=\"#000000\"/>\n<polygon fill=\"#000000\" points=\"172.4476,-81.4182 175.9475,-91.4182 179.4476,-81.4183 172.4476,-81.4182\" stroke=\"#000000\"/>\n</g>\n<!-- &#45;3607688489371776916 -->\n<g class=\"node\" id=\"node7\">\n<title>-3607688489371776916</title>\n<polygon fill=\"none\" points=\"276.9475,-127.895 222.9475,-127.895 222.9475,-91.895 276.9475,-91.895 276.9475,-127.895\" stroke=\"#000000\"/>\n<text fill=\"#000000\" font-family=\"Times,serif\" font-size=\"14.00\" text-anchor=\"middle\" x=\"249.9475\" y=\"-106.195\">(0, 3)</text>\n</g>\n<!-- 8555997535861867951 -->\n<g class=\"node\" id=\"node8\">\n<title>8555997535861867951</title>\n<ellipse cx=\"249.9475\" cy=\"-27.9475\" fill=\"none\" rx=\"27.8951\" ry=\"27.8951\" stroke=\"#000000\"/>\n<text fill=\"#000000\" font-family=\"Times,serif\" font-size=\"14.00\" text-anchor=\"middle\" x=\"249.9475\" y=\"-24.2475\">ones</text>\n</g>\n<!-- 8555997535861867951&#45;&gt;&#45;3607688489371776916 -->\n<g class=\"edge\" id=\"edge4\">\n<title>8555997535861867951-&gt;-3607688489371776916</title>\n<path d=\"M249.9475,-56.1492C249.9475,-64.2615 249.9475,-73.1159 249.9475,-81.2544\" fill=\"none\" stroke=\"#000000\"/>\n<polygon fill=\"#000000\" points=\"246.4476,-81.4182 249.9475,-91.4182 253.4476,-81.4183 246.4476,-81.4182\" stroke=\"#000000\"/>\n</g>\n</g>\n</svg>"
          },
          "metadata": {},
          "execution_count": 19
        }
      ]
    },
    {
      "cell_type": "markdown",
      "metadata": {
        "id": "8p-P_I4MAOYA"
      },
      "source": [
        "Our array has four chunks. To generate it, dask calls np.ones four times and then concatenates this together into one array.\n",
        "\n",
        "Rather than immediately loading a dask array (which puts all the data into RAM), it is more common to reduce the data somehow."
      ],
      "id": "8p-P_I4MAOYA"
    },
    {
      "cell_type": "code",
      "metadata": {
        "id": "7wogfk0WASfV",
        "colab": {
          "base_uri": "https://localhost:8080/",
          "height": 1000
        },
        "outputId": "18c01614-fd1a-4fdc-a95e-0aed31b5812d"
      },
      "source": [
        "# calculate the sum of elements of dask array\n",
        "sum_of_ones = ones.sum()   \n",
        "# visualize the sum operation in dask                     \n",
        "sum_of_ones.visualize(format='svg')             "
      ],
      "id": "7wogfk0WASfV",
      "execution_count": 20,
      "outputs": [
        {
          "output_type": "execute_result",
          "data": {
            "text/plain": [
              "<IPython.core.display.SVG object>"
            ],
            "image/svg+xml": "<svg height=\"747pt\" viewBox=\"0.00 0.00 308.90 747.17\" width=\"309pt\" xmlns=\"http://www.w3.org/2000/svg\" xmlns:xlink=\"http://www.w3.org/1999/xlink\">\n<g class=\"graph\" id=\"graph0\" transform=\"scale(1 1) rotate(0) translate(4 743.1696)\">\n<title>%3</title>\n<polygon fill=\"#ffffff\" points=\"-4,4 -4,-743.1696 304.895,-743.1696 304.895,4 -4,4\" stroke=\"transparent\"/>\n<!-- 7617041342596395645 -->\n<g class=\"node\" id=\"node1\">\n<title>7617041342596395645</title>\n<polygon fill=\"none\" points=\"176.9475,-739.1696 122.9475,-739.1696 122.9475,-703.1696 176.9475,-703.1696 176.9475,-739.1696\" stroke=\"#000000\"/>\n<text fill=\"#000000\" font-family=\"Times,serif\" font-size=\"14.00\" text-anchor=\"middle\" x=\"149.9475\" y=\"-717.4696\">()</text>\n</g>\n<!-- 7207289354063534518 -->\n<g class=\"node\" id=\"node2\">\n<title>7207289354063534518</title>\n<ellipse cx=\"149.9475\" cy=\"-602.1753\" fill=\"none\" rx=\"64.9885\" ry=\"64.9885\" stroke=\"#000000\"/>\n<text fill=\"#000000\" font-family=\"Times,serif\" font-size=\"14.00\" text-anchor=\"middle\" x=\"149.9475\" y=\"-598.4753\">sum-aggregate</text>\n</g>\n<!-- 7207289354063534518&#45;&gt;7617041342596395645 -->\n<g class=\"edge\" id=\"edge1\">\n<title>7207289354063534518-&gt;7617041342596395645</title>\n<path d=\"M149.9475,-667.243C149.9475,-676.0939 149.9475,-684.779 149.9475,-692.5054\" fill=\"none\" stroke=\"#000000\"/>\n<polygon fill=\"#000000\" points=\"146.4476,-692.7072 149.9475,-702.7073 153.4476,-692.7073 146.4476,-692.7072\" stroke=\"#000000\"/>\n</g>\n<!-- 5902121584360744997 -->\n<g class=\"node\" id=\"node3\">\n<title>5902121584360744997</title>\n<polygon fill=\"none\" points=\"140.9475,-501.1811 86.9475,-501.1811 86.9475,-465.1811 140.9475,-465.1811 140.9475,-501.1811\" stroke=\"#000000\"/>\n<text fill=\"#000000\" font-family=\"Times,serif\" font-size=\"14.00\" text-anchor=\"middle\" x=\"113.9475\" y=\"-479.4811\">(0, 0)</text>\n</g>\n<!-- 5902121584360744997&#45;&gt;7207289354063534518 -->\n<g class=\"edge\" id=\"edge2\">\n<title>5902121584360744997-&gt;7207289354063534518</title>\n<path d=\"M119.4151,-501.2537C121.8548,-509.3178 124.9042,-519.3973 128.1248,-530.0427\" fill=\"none\" stroke=\"#000000\"/>\n<polygon fill=\"#000000\" points=\"124.8722,-531.3784 131.118,-539.9364 131.5723,-529.3513 124.8722,-531.3784\" stroke=\"#000000\"/>\n</g>\n<!-- 5902121584361910046 -->\n<g class=\"node\" id=\"node4\">\n<title>5902121584361910046</title>\n<polygon fill=\"none\" points=\"224.9475,-501.1811 170.9475,-501.1811 170.9475,-465.1811 224.9475,-465.1811 224.9475,-501.1811\" stroke=\"#000000\"/>\n<text fill=\"#000000\" font-family=\"Times,serif\" font-size=\"14.00\" text-anchor=\"middle\" x=\"197.9475\" y=\"-479.4811\">(0, 1)</text>\n</g>\n<!-- 5902121584361910046&#45;&gt;7207289354063534518 -->\n<g class=\"edge\" id=\"edge3\">\n<title>5902121584361910046-&gt;7207289354063534518</title>\n<path d=\"M190.6574,-501.2537C187.16,-509.9238 182.7229,-520.9236 178.0728,-532.4514\" fill=\"none\" stroke=\"#000000\"/>\n<polygon fill=\"#000000\" points=\"174.8068,-531.1921 174.3117,-541.7754 181.2986,-533.8108 174.8068,-531.1921\" stroke=\"#000000\"/>\n</g>\n<!-- &#45;7769342110804400690 -->\n<g class=\"node\" id=\"node5\">\n<title>-7769342110804400690</title>\n<ellipse cx=\"88.9475\" cy=\"-377.1857\" fill=\"none\" rx=\"51.9908\" ry=\"51.9908\" stroke=\"#000000\"/>\n<text fill=\"#000000\" font-family=\"Times,serif\" font-size=\"14.00\" text-anchor=\"middle\" x=\"88.9475\" y=\"-373.4857\">sum-partial</text>\n</g>\n<!-- &#45;7769342110804400690&#45;&gt;5902121584360744997 -->\n<g class=\"edge\" id=\"edge4\">\n<title>-7769342110804400690-&gt;5902121584360744997</title>\n<path d=\"M100.935,-428.0102C103.1201,-437.2749 105.3262,-446.6283 107.2855,-454.9354\" fill=\"none\" stroke=\"#000000\"/>\n<polygon fill=\"#000000\" points=\"103.9129,-455.8832 109.6152,-464.8127 110.726,-454.2762 103.9129,-455.8832\" stroke=\"#000000\"/>\n</g>\n<!-- &#45;4337171951169019955 -->\n<g class=\"node\" id=\"node6\">\n<title>-4337171951169019955</title>\n<polygon fill=\"none\" points=\"55.9475,-289.1903 1.9475,-289.1903 1.9475,-253.1903 55.9475,-253.1903 55.9475,-289.1903\" stroke=\"#000000\"/>\n<text fill=\"#000000\" font-family=\"Times,serif\" font-size=\"14.00\" text-anchor=\"middle\" x=\"28.9475\" y=\"-267.4903\">(0, 1)</text>\n</g>\n<!-- &#45;4337171951169019955&#45;&gt;&#45;7769342110804400690 -->\n<g class=\"edge\" id=\"edge5\">\n<title>-4337171951169019955-&gt;-7769342110804400690</title>\n<path d=\"M39.3987,-289.6533C44.6941,-299.0081 51.4288,-310.9056 58.2136,-322.8916\" fill=\"none\" stroke=\"#000000\"/>\n<polygon fill=\"#000000\" points=\"55.171,-324.6214 63.143,-331.5997 61.2627,-321.1731 55.171,-324.6214\" stroke=\"#000000\"/>\n</g>\n<!-- &#45;4337171951167854906 -->\n<g class=\"node\" id=\"node7\">\n<title>-4337171951167854906</title>\n<polygon fill=\"none\" points=\"127.9475,-289.1903 73.9475,-289.1903 73.9475,-253.1903 127.9475,-253.1903 127.9475,-289.1903\" stroke=\"#000000\"/>\n<text fill=\"#000000\" font-family=\"Times,serif\" font-size=\"14.00\" text-anchor=\"middle\" x=\"100.9475\" y=\"-267.4903\">(0, 0)</text>\n</g>\n<!-- &#45;4337171951167854906&#45;&gt;&#45;7769342110804400690 -->\n<g class=\"edge\" id=\"edge6\">\n<title>-4337171951167854906-&gt;-7769342110804400690</title>\n<path d=\"M98.8573,-289.6533C98.0288,-296.9711 97.0242,-305.8447 95.9764,-315.0995\" fill=\"none\" stroke=\"#000000\"/>\n<polygon fill=\"#000000\" points=\"92.4761,-314.9057 94.8289,-325.236 99.4317,-315.6932 92.4761,-314.9057\" stroke=\"#000000\"/>\n</g>\n<!-- 3317629344400923101 -->\n<g class=\"node\" id=\"node8\">\n<title>3317629344400923101</title>\n<ellipse cx=\"210.9475\" cy=\"-377.1857\" fill=\"none\" rx=\"51.9908\" ry=\"51.9908\" stroke=\"#000000\"/>\n<text fill=\"#000000\" font-family=\"Times,serif\" font-size=\"14.00\" text-anchor=\"middle\" x=\"210.9475\" y=\"-373.4857\">sum-partial</text>\n</g>\n<!-- 3317629344400923101&#45;&gt;5902121584361910046 -->\n<g class=\"edge\" id=\"edge7\">\n<title>3317629344400923101-&gt;5902121584361910046</title>\n<path d=\"M204.5999,-428.9414C203.5187,-437.7569 202.4318,-446.6182 201.4591,-454.549\" fill=\"none\" stroke=\"#000000\"/>\n<polygon fill=\"#000000\" points=\"197.9582,-454.3436 200.2147,-464.6954 204.9061,-455.1959 197.9582,-454.3436\" stroke=\"#000000\"/>\n</g>\n<!-- &#45;4337171951171350053 -->\n<g class=\"node\" id=\"node9\">\n<title>-4337171951171350053</title>\n<polygon fill=\"none\" points=\"225.9475,-289.1903 171.9475,-289.1903 171.9475,-253.1903 225.9475,-253.1903 225.9475,-289.1903\" stroke=\"#000000\"/>\n<text fill=\"#000000\" font-family=\"Times,serif\" font-size=\"14.00\" text-anchor=\"middle\" x=\"198.9475\" y=\"-267.4903\">(0, 3)</text>\n</g>\n<!-- &#45;4337171951171350053&#45;&gt;3317629344400923101 -->\n<g class=\"edge\" id=\"edge8\">\n<title>-4337171951171350053-&gt;3317629344400923101</title>\n<path d=\"M201.0378,-289.6533C201.8662,-296.9711 202.8708,-305.8447 203.9186,-315.0995\" fill=\"none\" stroke=\"#000000\"/>\n<polygon fill=\"#000000\" points=\"200.4634,-315.6932 205.0662,-325.236 207.4189,-314.9057 200.4634,-315.6932\" stroke=\"#000000\"/>\n</g>\n<!-- &#45;4337171951170185004 -->\n<g class=\"node\" id=\"node10\">\n<title>-4337171951170185004</title>\n<polygon fill=\"none\" points=\"297.9475,-289.1903 243.9475,-289.1903 243.9475,-253.1903 297.9475,-253.1903 297.9475,-289.1903\" stroke=\"#000000\"/>\n<text fill=\"#000000\" font-family=\"Times,serif\" font-size=\"14.00\" text-anchor=\"middle\" x=\"270.9475\" y=\"-267.4903\">(0, 2)</text>\n</g>\n<!-- &#45;4337171951170185004&#45;&gt;3317629344400923101 -->\n<g class=\"edge\" id=\"edge9\">\n<title>-4337171951170185004-&gt;3317629344400923101</title>\n<path d=\"M260.4963,-289.6533C255.2009,-299.0081 248.4662,-310.9056 241.6814,-322.8916\" fill=\"none\" stroke=\"#000000\"/>\n<polygon fill=\"#000000\" points=\"238.6323,-321.1731 236.752,-331.5997 244.7241,-324.6214 238.6323,-321.1731\" stroke=\"#000000\"/>\n</g>\n<!-- &#45;2944852953760057099 -->\n<g class=\"node\" id=\"node11\">\n<title>-2944852953760057099</title>\n<ellipse cx=\"100.9475\" cy=\"-190.5427\" fill=\"none\" rx=\"26.7961\" ry=\"26.7961\" stroke=\"#000000\"/>\n<text fill=\"#000000\" font-family=\"Times,serif\" font-size=\"14.00\" text-anchor=\"middle\" x=\"100.9475\" y=\"-186.8427\">sum</text>\n</g>\n<!-- &#45;2944852953760057099&#45;&gt;&#45;4337171951167854906 -->\n<g class=\"edge\" id=\"edge10\">\n<title>-2944852953760057099-&gt;-4337171951167854906</title>\n<path d=\"M100.9475,-217.3972C100.9475,-225.645 100.9475,-234.7422 100.9475,-243.0721\" fill=\"none\" stroke=\"#000000\"/>\n<polygon fill=\"#000000\" points=\"97.4476,-243.0914 100.9475,-253.0914 104.4476,-243.0914 97.4476,-243.0914\" stroke=\"#000000\"/>\n</g>\n<!-- &#45;3607688489370611867 -->\n<g class=\"node\" id=\"node12\">\n<title>-3607688489370611867</title>\n<polygon fill=\"none\" points=\"127.9475,-127.895 73.9475,-127.895 73.9475,-91.895 127.9475,-91.895 127.9475,-127.895\" stroke=\"#000000\"/>\n<text fill=\"#000000\" font-family=\"Times,serif\" font-size=\"14.00\" text-anchor=\"middle\" x=\"100.9475\" y=\"-106.195\">(0, 0)</text>\n</g>\n<!-- &#45;3607688489370611867&#45;&gt;&#45;2944852953760057099 -->\n<g class=\"edge\" id=\"edge11\">\n<title>-3607688489370611867-&gt;-2944852953760057099</title>\n<path d=\"M100.9475,-128.1952C100.9475,-135.7443 100.9475,-144.7788 100.9475,-153.5965\" fill=\"none\" stroke=\"#000000\"/>\n<polygon fill=\"#000000\" points=\"97.4476,-153.7459 100.9475,-163.746 104.4476,-153.746 97.4476,-153.7459\" stroke=\"#000000\"/>\n</g>\n<!-- &#45;3165908176813000474 -->\n<g class=\"node\" id=\"node13\">\n<title>-3165908176813000474</title>\n<ellipse cx=\"28.9475\" cy=\"-190.5427\" fill=\"none\" rx=\"26.7961\" ry=\"26.7961\" stroke=\"#000000\"/>\n<text fill=\"#000000\" font-family=\"Times,serif\" font-size=\"14.00\" text-anchor=\"middle\" x=\"28.9475\" y=\"-186.8427\">sum</text>\n</g>\n<!-- &#45;3165908176813000474&#45;&gt;&#45;4337171951169019955 -->\n<g class=\"edge\" id=\"edge12\">\n<title>-3165908176813000474-&gt;-4337171951169019955</title>\n<path d=\"M28.9475,-217.3972C28.9475,-225.645 28.9475,-234.7422 28.9475,-243.0721\" fill=\"none\" stroke=\"#000000\"/>\n<polygon fill=\"#000000\" points=\"25.4476,-243.0914 28.9475,-253.0914 32.4476,-243.0914 25.4476,-243.0914\" stroke=\"#000000\"/>\n</g>\n<!-- &#45;3607688489369446818 -->\n<g class=\"node\" id=\"node14\">\n<title>-3607688489369446818</title>\n<polygon fill=\"none\" points=\"55.9475,-127.895 1.9475,-127.895 1.9475,-91.895 55.9475,-91.895 55.9475,-127.895\" stroke=\"#000000\"/>\n<text fill=\"#000000\" font-family=\"Times,serif\" font-size=\"14.00\" text-anchor=\"middle\" x=\"28.9475\" y=\"-106.195\">(0, 1)</text>\n</g>\n<!-- &#45;3607688489369446818&#45;&gt;&#45;3165908176813000474 -->\n<g class=\"edge\" id=\"edge13\">\n<title>-3607688489369446818-&gt;-3165908176813000474</title>\n<path d=\"M28.9475,-128.1952C28.9475,-135.7443 28.9475,-144.7788 28.9475,-153.5965\" fill=\"none\" stroke=\"#000000\"/>\n<polygon fill=\"#000000\" points=\"25.4476,-153.7459 28.9475,-163.746 32.4476,-153.746 25.4476,-153.7459\" stroke=\"#000000\"/>\n</g>\n<!-- 4859707682881798151 -->\n<g class=\"node\" id=\"node15\">\n<title>4859707682881798151</title>\n<ellipse cx=\"270.9475\" cy=\"-190.5427\" fill=\"none\" rx=\"26.7961\" ry=\"26.7961\" stroke=\"#000000\"/>\n<text fill=\"#000000\" font-family=\"Times,serif\" font-size=\"14.00\" text-anchor=\"middle\" x=\"270.9475\" y=\"-186.8427\">sum</text>\n</g>\n<!-- 4859707682881798151&#45;&gt;&#45;4337171951170185004 -->\n<g class=\"edge\" id=\"edge14\">\n<title>4859707682881798151-&gt;-4337171951170185004</title>\n<path d=\"M270.9475,-217.3972C270.9475,-225.645 270.9475,-234.7422 270.9475,-243.0721\" fill=\"none\" stroke=\"#000000\"/>\n<polygon fill=\"#000000\" points=\"267.4476,-243.0914 270.9475,-253.0914 274.4476,-243.0914 267.4476,-243.0914\" stroke=\"#000000\"/>\n</g>\n<!-- &#45;3607688489372941965 -->\n<g class=\"node\" id=\"node16\">\n<title>-3607688489372941965</title>\n<polygon fill=\"none\" points=\"298.9475,-127.895 244.9475,-127.895 244.9475,-91.895 298.9475,-91.895 298.9475,-127.895\" stroke=\"#000000\"/>\n<text fill=\"#000000\" font-family=\"Times,serif\" font-size=\"14.00\" text-anchor=\"middle\" x=\"271.9475\" y=\"-106.195\">(0, 2)</text>\n</g>\n<!-- &#45;3607688489372941965&#45;&gt;4859707682881798151 -->\n<g class=\"edge\" id=\"edge15\">\n<title>-3607688489372941965-&gt;4859707682881798151</title>\n<path d=\"M271.7206,-128.1952C271.627,-135.7443 271.515,-144.7788 271.4056,-153.5965\" fill=\"none\" stroke=\"#000000\"/>\n<polygon fill=\"#000000\" points=\"267.9041,-153.7033 271.2798,-163.746 274.9036,-153.7902 267.9041,-153.7033\" stroke=\"#000000\"/>\n</g>\n<!-- 3792309560453223976 -->\n<g class=\"node\" id=\"node17\">\n<title>3792309560453223976</title>\n<ellipse cx=\"198.9475\" cy=\"-190.5427\" fill=\"none\" rx=\"26.7961\" ry=\"26.7961\" stroke=\"#000000\"/>\n<text fill=\"#000000\" font-family=\"Times,serif\" font-size=\"14.00\" text-anchor=\"middle\" x=\"198.9475\" y=\"-186.8427\">sum</text>\n</g>\n<!-- 3792309560453223976&#45;&gt;&#45;4337171951171350053 -->\n<g class=\"edge\" id=\"edge16\">\n<title>3792309560453223976-&gt;-4337171951171350053</title>\n<path d=\"M198.9475,-217.3972C198.9475,-225.645 198.9475,-234.7422 198.9475,-243.0721\" fill=\"none\" stroke=\"#000000\"/>\n<polygon fill=\"#000000\" points=\"195.4476,-243.0914 198.9475,-253.0914 202.4476,-243.0914 195.4476,-243.0914\" stroke=\"#000000\"/>\n</g>\n<!-- &#45;3607688489371776916 -->\n<g class=\"node\" id=\"node18\">\n<title>-3607688489371776916</title>\n<polygon fill=\"none\" points=\"225.9475,-127.895 171.9475,-127.895 171.9475,-91.895 225.9475,-91.895 225.9475,-127.895\" stroke=\"#000000\"/>\n<text fill=\"#000000\" font-family=\"Times,serif\" font-size=\"14.00\" text-anchor=\"middle\" x=\"198.9475\" y=\"-106.195\">(0, 3)</text>\n</g>\n<!-- &#45;3607688489371776916&#45;&gt;3792309560453223976 -->\n<g class=\"edge\" id=\"edge17\">\n<title>-3607688489371776916-&gt;3792309560453223976</title>\n<path d=\"M198.9475,-128.1952C198.9475,-135.7443 198.9475,-144.7788 198.9475,-153.5965\" fill=\"none\" stroke=\"#000000\"/>\n<polygon fill=\"#000000\" points=\"195.4476,-153.7459 198.9475,-163.746 202.4476,-153.746 195.4476,-153.7459\" stroke=\"#000000\"/>\n</g>\n<!-- 330818885371632526 -->\n<g class=\"node\" id=\"node19\">\n<title>330818885371632526</title>\n<ellipse cx=\"101.9475\" cy=\"-27.9475\" fill=\"none\" rx=\"27.8951\" ry=\"27.8951\" stroke=\"#000000\"/>\n<text fill=\"#000000\" font-family=\"Times,serif\" font-size=\"14.00\" text-anchor=\"middle\" x=\"101.9475\" y=\"-24.2475\">ones</text>\n</g>\n<!-- 330818885371632526&#45;&gt;&#45;3607688489370611867 -->\n<g class=\"edge\" id=\"edge18\">\n<title>330818885371632526-&gt;-3607688489370611867</title>\n<path d=\"M101.6034,-56.1492C101.5044,-64.2615 101.3963,-73.1159 101.297,-81.2544\" fill=\"none\" stroke=\"#000000\"/>\n<polygon fill=\"#000000\" points=\"97.7954,-81.3762 101.173,-91.4182 104.7948,-81.4617 97.7954,-81.3762\" stroke=\"#000000\"/>\n</g>\n<!-- 1904540446337990301 -->\n<g class=\"node\" id=\"node20\">\n<title>1904540446337990301</title>\n<ellipse cx=\"27.9475\" cy=\"-27.9475\" fill=\"none\" rx=\"27.8951\" ry=\"27.8951\" stroke=\"#000000\"/>\n<text fill=\"#000000\" font-family=\"Times,serif\" font-size=\"14.00\" text-anchor=\"middle\" x=\"27.9475\" y=\"-24.2475\">ones</text>\n</g>\n<!-- 1904540446337990301&#45;&gt;&#45;3607688489369446818 -->\n<g class=\"edge\" id=\"edge19\">\n<title>1904540446337990301-&gt;-3607688489369446818</title>\n<path d=\"M28.2917,-56.1492C28.3907,-64.2615 28.4987,-73.1159 28.598,-81.2544\" fill=\"none\" stroke=\"#000000\"/>\n<polygon fill=\"#000000\" points=\"25.1002,-81.4617 28.722,-91.4182 32.0997,-81.3762 25.1002,-81.4617\" stroke=\"#000000\"/>\n</g>\n<!-- 6894523576357428176 -->\n<g class=\"node\" id=\"node21\">\n<title>6894523576357428176</title>\n<ellipse cx=\"272.9475\" cy=\"-27.9475\" fill=\"none\" rx=\"27.8951\" ry=\"27.8951\" stroke=\"#000000\"/>\n<text fill=\"#000000\" font-family=\"Times,serif\" font-size=\"14.00\" text-anchor=\"middle\" x=\"272.9475\" y=\"-24.2475\">ones</text>\n</g>\n<!-- 6894523576357428176&#45;&gt;&#45;3607688489372941965 -->\n<g class=\"edge\" id=\"edge20\">\n<title>6894523576357428176-&gt;-3607688489372941965</title>\n<path d=\"M272.6034,-56.1492C272.5044,-64.2615 272.3963,-73.1159 272.297,-81.2544\" fill=\"none\" stroke=\"#000000\"/>\n<polygon fill=\"#000000\" points=\"268.7954,-81.3762 272.173,-91.4182 275.7948,-81.4617 268.7954,-81.3762\" stroke=\"#000000\"/>\n</g>\n<!-- 8555997535861867951 -->\n<g class=\"node\" id=\"node22\">\n<title>8555997535861867951</title>\n<ellipse cx=\"198.9475\" cy=\"-27.9475\" fill=\"none\" rx=\"27.8951\" ry=\"27.8951\" stroke=\"#000000\"/>\n<text fill=\"#000000\" font-family=\"Times,serif\" font-size=\"14.00\" text-anchor=\"middle\" x=\"198.9475\" y=\"-24.2475\">ones</text>\n</g>\n<!-- 8555997535861867951&#45;&gt;&#45;3607688489371776916 -->\n<g class=\"edge\" id=\"edge21\">\n<title>8555997535861867951-&gt;-3607688489371776916</title>\n<path d=\"M198.9475,-56.1492C198.9475,-64.2615 198.9475,-73.1159 198.9475,-81.2544\" fill=\"none\" stroke=\"#000000\"/>\n<polygon fill=\"#000000\" points=\"195.4476,-81.4182 198.9475,-91.4182 202.4476,-81.4183 195.4476,-81.4182\" stroke=\"#000000\"/>\n</g>\n</g>\n</svg>"
          },
          "metadata": {},
          "execution_count": 20
        }
      ]
    },
    {
      "cell_type": "markdown",
      "metadata": {
        "id": "urIQVP-xQ9XO"
      },
      "source": [
        "### DataFrame\n",
        "\n",
        "A Dask DataFrame is a large parallel DataFrame composed of many smaller Pandas DataFrames, split along **with** the index. One Dask DataFrame operation triggers many operations on the constituent Pandas DataFrames.\n",
        "\n",
        "Dask DataFrames coordinate many Pandas DataFrames/Series arranged along the index. A Dask DataFrame is partitioned row-wise, grouping rows by index value for efficiency. \n",
        "\n",
        "![Dask_DF](https://cdn.iisc.talentsprint.com/CDS/Images/Dask_Dataframe.JPG)\n",
        "\n",
        "To study more about Dask dataframe, refer to the link [here](https://docs.dask.org/en/latest/dataframe.html)."
      ],
      "id": "urIQVP-xQ9XO"
    },
    {
      "cell_type": "markdown",
      "metadata": {
        "id": "Zyw-S0i7QQ_U"
      },
      "source": [
        "Create a dataframe with random values"
      ],
      "id": "Zyw-S0i7QQ_U"
    },
    {
      "cell_type": "code",
      "metadata": {
        "id": "H4xmg4gHQdTo"
      },
      "source": [
        "# pandas and numpy is used to create dataframe of random values\n",
        "data = pd.DataFrame()"
      ],
      "id": "H4xmg4gHQdTo",
      "execution_count": 21,
      "outputs": []
    },
    {
      "cell_type": "markdown",
      "metadata": {
        "id": "81SudTyQSD8a"
      },
      "source": [
        "Dataframe is created with two columns, each having 1500 random values."
      ],
      "id": "81SudTyQSD8a"
    },
    {
      "cell_type": "code",
      "metadata": {
        "id": "4iu2Pps_Erfi",
        "colab": {
          "base_uri": "https://localhost:8080/"
        },
        "outputId": "72abd820-53ab-478e-ec30-b146b1b362e2"
      },
      "source": [
        "# create two columns\n",
        "data['col1'] = np.random.normal(size=1500)\n",
        "data['col2'] = np.random.normal(size=1500)\n",
        "print(data)"
      ],
      "id": "4iu2Pps_Erfi",
      "execution_count": 22,
      "outputs": [
        {
          "output_type": "stream",
          "name": "stdout",
          "text": [
            "          col1      col2\n",
            "0    -0.318810 -0.491113\n",
            "1    -0.529698 -2.023505\n",
            "2    -2.241408 -1.988901\n",
            "3     1.131293  0.530252\n",
            "4     0.959246 -1.119790\n",
            "...        ...       ...\n",
            "1495 -0.537104  0.836217\n",
            "1496 -0.283812  0.173217\n",
            "1497  1.110522  1.476118\n",
            "1498 -0.573994  1.095102\n",
            "1499  0.342695  0.510897\n",
            "\n",
            "[1500 rows x 2 columns]\n"
          ]
        }
      ]
    },
    {
      "cell_type": "markdown",
      "metadata": {
        "id": "8zEcwuXZSM9A"
      },
      "source": [
        "Read the dataframe using dask dataframe"
      ],
      "id": "8zEcwuXZSM9A"
    },
    {
      "cell_type": "code",
      "metadata": {
        "id": "f2LFQep8Q1ga",
        "colab": {
          "base_uri": "https://localhost:8080/"
        },
        "outputId": "3814a932-fa1b-4a08-a750-3e1b833b1edd"
      },
      "source": [
        "# convert pandas dataframe to dask dataframe\n",
        "ddf = dd.from_pandas(data, npartitions=2)\n",
        "print(ddf.compute()) "
      ],
      "id": "f2LFQep8Q1ga",
      "execution_count": 23,
      "outputs": [
        {
          "output_type": "stream",
          "name": "stdout",
          "text": [
            "          col1      col2\n",
            "0    -0.318810 -0.491113\n",
            "1    -0.529698 -2.023505\n",
            "2    -2.241408 -1.988901\n",
            "3     1.131293  0.530252\n",
            "4     0.959246 -1.119790\n",
            "...        ...       ...\n",
            "1495 -0.537104  0.836217\n",
            "1496 -0.283812  0.173217\n",
            "1497  1.110522  1.476118\n",
            "1498 -0.573994  1.095102\n",
            "1499  0.342695  0.510897\n",
            "\n",
            "[1500 rows x 2 columns]\n"
          ]
        }
      ]
    },
    {
      "cell_type": "code",
      "metadata": {
        "id": "eqtBj6xsRBla",
        "colab": {
          "base_uri": "https://localhost:8080/"
        },
        "outputId": "4e4ef8b5-781d-4bdc-cce3-37fc2c799871"
      },
      "source": [
        "# Get a dask DataFrame/Series representing the nth partition\n",
        "part_1= ddf.get_partition(1)\n",
        "print(part_1.head())"
      ],
      "id": "eqtBj6xsRBla",
      "execution_count": 24,
      "outputs": [
        {
          "output_type": "stream",
          "name": "stdout",
          "text": [
            "         col1      col2\n",
            "750  0.679111  0.133339\n",
            "751 -2.129489  0.637901\n",
            "752 -0.941869  1.515746\n",
            "753 -0.298497 -0.820903\n",
            "754  0.285328  0.442244\n"
          ]
        }
      ]
    },
    {
      "cell_type": "code",
      "metadata": {
        "id": "5QyY3Hu1RlWR",
        "colab": {
          "base_uri": "https://localhost:8080/"
        },
        "outputId": "c9921b09-0748-4dd8-b245-9075289ceac9"
      },
      "source": [
        "%time ddf['col1'].value_counts().compute()                 # compute the value counts in column 1 and time of execution of code"
      ],
      "id": "5QyY3Hu1RlWR",
      "execution_count": 25,
      "outputs": [
        {
          "output_type": "stream",
          "name": "stdout",
          "text": [
            "CPU times: user 19.5 ms, sys: 2.07 ms, total: 21.5 ms\n",
            "Wall time: 30.7 ms\n"
          ]
        },
        {
          "output_type": "execute_result",
          "data": {
            "text/plain": [
              " 2.913196    1\n",
              "-0.437631    1\n",
              "-0.449075    1\n",
              "-0.448577    1\n",
              "-0.445251    1\n",
              "            ..\n",
              " 0.458623    1\n",
              " 0.462336    1\n",
              " 0.466146    1\n",
              " 0.466856    1\n",
              "-3.056968    1\n",
              "Name: col1, Length: 1500, dtype: int64"
            ]
          },
          "metadata": {},
          "execution_count": 25
        }
      ]
    },
    {
      "cell_type": "markdown",
      "metadata": {
        "id": "PwfxN8zIyZ1V"
      },
      "source": [
        "So, using dask dataframe it is much more time efficient to execute"
      ],
      "id": "PwfxN8zIyZ1V"
    },
    {
      "cell_type": "markdown",
      "metadata": {
        "id": "another-warren"
      },
      "source": [
        "#### Performance of Dask Dataframe and Pandas Dataframe\n",
        "\n",
        "\n",
        "\n",
        "In the below example, we can understand how dask dataframes handle complex and large datasets along with pandas dataframe.\n",
        "\n",
        "We are using 'nycflights' dataset to show how dask differs from pandas. \n",
        "\n",
        "'nycflights' dataset contains 10 separate csv flights for the year 1990 to 1999. "
      ],
      "id": "another-warren"
    },
    {
      "cell_type": "code",
      "metadata": {
        "id": "vkIiWr265y1k"
      },
      "source": [
        "nycflightsPath = os.path.join('nycflights', 'nycflights', '*.csv')"
      ],
      "id": "vkIiWr265y1k",
      "execution_count": 26,
      "outputs": []
    },
    {
      "cell_type": "code",
      "metadata": {
        "id": "TtpYoVlZbaUE",
        "colab": {
          "base_uri": "https://localhost:8080/",
          "height": 35
        },
        "outputId": "52b851d8-3f5e-42e9-d290-0e16b93ebe36"
      },
      "source": [
        "nycflightsPath"
      ],
      "id": "TtpYoVlZbaUE",
      "execution_count": 27,
      "outputs": [
        {
          "output_type": "execute_result",
          "data": {
            "application/vnd.google.colaboratory.intrinsic+json": {
              "type": "string"
            },
            "text/plain": [
              "'nycflights/nycflights/*.csv'"
            ]
          },
          "metadata": {},
          "execution_count": 27
        }
      ]
    },
    {
      "cell_type": "code",
      "metadata": {
        "id": "finished-mouse"
      },
      "source": [
        "# reading all the csv file using dask  \n",
        "df = dd.read_csv(nycflightsPath,\n",
        "                 parse_dates={'Date':[0,1,2]},\n",
        "                 dtype={'CRSElapsedTime': 'float64',\n",
        "                        'TailNum': 'object',\n",
        "                        'Cancelled': 'bool'})                              "
      ],
      "id": "finished-mouse",
      "execution_count": 28,
      "outputs": []
    },
    {
      "cell_type": "markdown",
      "metadata": {
        "id": "weighted-panic"
      },
      "source": [
        "Here, we can see that dask dataframe stores all the csv files simultaneously using *.csv (this code reads all the files inside nycflights dataset)"
      ],
      "id": "weighted-panic"
    },
    {
      "cell_type": "markdown",
      "metadata": {
        "id": "fantastic-orientation"
      },
      "source": [
        "Whereas, when we want to store the files using pandas, it leads to errors. This means pandas is not able to handle and store more than one file simultaneously.\n",
        "\n",
        "Here, in pandas, we need to store different csv files using separate commands."
      ],
      "id": "fantastic-orientation"
    },
    {
      "cell_type": "code",
      "metadata": {
        "id": "collectible-swing",
        "colab": {
          "base_uri": "https://localhost:8080/"
        },
        "outputId": "68773f91-b852-422a-d4b3-665886011e15"
      },
      "source": [
        "# this gives an error\n",
        "try:\n",
        "  # using pandas trying to read all csv files\n",
        "  df_pd = pd.read_csv(nycfllightsPath, parse_dates={'Date':[0,1,2]})   \n",
        "except:\n",
        "  print(\"Error Occured!\")"
      ],
      "id": "collectible-swing",
      "execution_count": 29,
      "outputs": [
        {
          "output_type": "stream",
          "name": "stdout",
          "text": [
            "Error Occured!\n"
          ]
        }
      ]
    },
    {
      "cell_type": "markdown",
      "metadata": {
        "id": "5msBx5FO680B"
      },
      "source": [
        "Using pandas we can read one single dataset at a time."
      ],
      "id": "5msBx5FO680B"
    },
    {
      "cell_type": "code",
      "metadata": {
        "id": "Zd9OneVOb3z-"
      },
      "source": [
        "!head /content/nycflights/nycflights/1990.csv"
      ],
      "id": "Zd9OneVOb3z-",
      "execution_count": null,
      "outputs": []
    },
    {
      "cell_type": "code",
      "metadata": {
        "id": "social-harbor"
      },
      "source": [
        "# reading only single csv file\n",
        "nycf_1990 = pd.read_csv('/content/nycflights/nycflights/1990.csv', parse_dates={'Date':[0,1,2]})      "
      ],
      "id": "social-harbor",
      "execution_count": 30,
      "outputs": []
    },
    {
      "cell_type": "markdown",
      "metadata": {
        "id": "conventional-supplement"
      },
      "source": [
        "Dask dataframes object has no data, unlike the pandas data frame. Dask has just read the start of the first file and the column names and dtypes. That's why dask is considered to be lazy in operation.\n",
        "\n",
        "For seeing the data in the dask dataframe we need to execute .head() function."
      ],
      "id": "conventional-supplement"
    },
    {
      "cell_type": "code",
      "metadata": {
        "id": "realistic-palestine",
        "colab": {
          "base_uri": "https://localhost:8080/",
          "height": 309
        },
        "outputId": "11672b67-bc00-41a3-ca2b-e7ba1892193c"
      },
      "source": [
        "# first five rows of the dataset\n",
        "df.head()                                                          "
      ],
      "id": "realistic-palestine",
      "execution_count": 31,
      "outputs": [
        {
          "output_type": "execute_result",
          "data": {
            "text/html": [
              "<div>\n",
              "<style scoped>\n",
              "    .dataframe tbody tr th:only-of-type {\n",
              "        vertical-align: middle;\n",
              "    }\n",
              "\n",
              "    .dataframe tbody tr th {\n",
              "        vertical-align: top;\n",
              "    }\n",
              "\n",
              "    .dataframe thead th {\n",
              "        text-align: right;\n",
              "    }\n",
              "</style>\n",
              "<table border=\"1\" class=\"dataframe\">\n",
              "  <thead>\n",
              "    <tr style=\"text-align: right;\">\n",
              "      <th></th>\n",
              "      <th>Date</th>\n",
              "      <th>DayOfWeek</th>\n",
              "      <th>DepTime</th>\n",
              "      <th>CRSDepTime</th>\n",
              "      <th>ArrTime</th>\n",
              "      <th>CRSArrTime</th>\n",
              "      <th>UniqueCarrier</th>\n",
              "      <th>FlightNum</th>\n",
              "      <th>TailNum</th>\n",
              "      <th>ActualElapsedTime</th>\n",
              "      <th>CRSElapsedTime</th>\n",
              "      <th>AirTime</th>\n",
              "      <th>ArrDelay</th>\n",
              "      <th>DepDelay</th>\n",
              "      <th>Origin</th>\n",
              "      <th>Dest</th>\n",
              "      <th>Distance</th>\n",
              "      <th>TaxiIn</th>\n",
              "      <th>TaxiOut</th>\n",
              "      <th>Cancelled</th>\n",
              "      <th>Diverted</th>\n",
              "    </tr>\n",
              "  </thead>\n",
              "  <tbody>\n",
              "    <tr>\n",
              "      <th>0</th>\n",
              "      <td>1990-01-01</td>\n",
              "      <td>1</td>\n",
              "      <td>1621.0</td>\n",
              "      <td>1540</td>\n",
              "      <td>1747.0</td>\n",
              "      <td>1701</td>\n",
              "      <td>US</td>\n",
              "      <td>33</td>\n",
              "      <td>NaN</td>\n",
              "      <td>86.0</td>\n",
              "      <td>81.0</td>\n",
              "      <td>NaN</td>\n",
              "      <td>46.0</td>\n",
              "      <td>41.0</td>\n",
              "      <td>EWR</td>\n",
              "      <td>PIT</td>\n",
              "      <td>319.0</td>\n",
              "      <td>NaN</td>\n",
              "      <td>NaN</td>\n",
              "      <td>False</td>\n",
              "      <td>0</td>\n",
              "    </tr>\n",
              "    <tr>\n",
              "      <th>1</th>\n",
              "      <td>1990-01-02</td>\n",
              "      <td>2</td>\n",
              "      <td>1547.0</td>\n",
              "      <td>1540</td>\n",
              "      <td>1700.0</td>\n",
              "      <td>1701</td>\n",
              "      <td>US</td>\n",
              "      <td>33</td>\n",
              "      <td>NaN</td>\n",
              "      <td>73.0</td>\n",
              "      <td>81.0</td>\n",
              "      <td>NaN</td>\n",
              "      <td>-1.0</td>\n",
              "      <td>7.0</td>\n",
              "      <td>EWR</td>\n",
              "      <td>PIT</td>\n",
              "      <td>319.0</td>\n",
              "      <td>NaN</td>\n",
              "      <td>NaN</td>\n",
              "      <td>False</td>\n",
              "      <td>0</td>\n",
              "    </tr>\n",
              "    <tr>\n",
              "      <th>2</th>\n",
              "      <td>1990-01-03</td>\n",
              "      <td>3</td>\n",
              "      <td>1546.0</td>\n",
              "      <td>1540</td>\n",
              "      <td>1710.0</td>\n",
              "      <td>1701</td>\n",
              "      <td>US</td>\n",
              "      <td>33</td>\n",
              "      <td>NaN</td>\n",
              "      <td>84.0</td>\n",
              "      <td>81.0</td>\n",
              "      <td>NaN</td>\n",
              "      <td>9.0</td>\n",
              "      <td>6.0</td>\n",
              "      <td>EWR</td>\n",
              "      <td>PIT</td>\n",
              "      <td>319.0</td>\n",
              "      <td>NaN</td>\n",
              "      <td>NaN</td>\n",
              "      <td>False</td>\n",
              "      <td>0</td>\n",
              "    </tr>\n",
              "    <tr>\n",
              "      <th>3</th>\n",
              "      <td>1990-01-04</td>\n",
              "      <td>4</td>\n",
              "      <td>1542.0</td>\n",
              "      <td>1540</td>\n",
              "      <td>1710.0</td>\n",
              "      <td>1701</td>\n",
              "      <td>US</td>\n",
              "      <td>33</td>\n",
              "      <td>NaN</td>\n",
              "      <td>88.0</td>\n",
              "      <td>81.0</td>\n",
              "      <td>NaN</td>\n",
              "      <td>9.0</td>\n",
              "      <td>2.0</td>\n",
              "      <td>EWR</td>\n",
              "      <td>PIT</td>\n",
              "      <td>319.0</td>\n",
              "      <td>NaN</td>\n",
              "      <td>NaN</td>\n",
              "      <td>False</td>\n",
              "      <td>0</td>\n",
              "    </tr>\n",
              "    <tr>\n",
              "      <th>4</th>\n",
              "      <td>1990-01-05</td>\n",
              "      <td>5</td>\n",
              "      <td>1549.0</td>\n",
              "      <td>1540</td>\n",
              "      <td>1706.0</td>\n",
              "      <td>1701</td>\n",
              "      <td>US</td>\n",
              "      <td>33</td>\n",
              "      <td>NaN</td>\n",
              "      <td>77.0</td>\n",
              "      <td>81.0</td>\n",
              "      <td>NaN</td>\n",
              "      <td>5.0</td>\n",
              "      <td>9.0</td>\n",
              "      <td>EWR</td>\n",
              "      <td>PIT</td>\n",
              "      <td>319.0</td>\n",
              "      <td>NaN</td>\n",
              "      <td>NaN</td>\n",
              "      <td>False</td>\n",
              "      <td>0</td>\n",
              "    </tr>\n",
              "  </tbody>\n",
              "</table>\n",
              "</div>"
            ],
            "text/plain": [
              "        Date  DayOfWeek  DepTime  ...  TaxiOut  Cancelled  Diverted\n",
              "0 1990-01-01          1   1621.0  ...      NaN      False         0\n",
              "1 1990-01-02          2   1547.0  ...      NaN      False         0\n",
              "2 1990-01-03          3   1546.0  ...      NaN      False         0\n",
              "3 1990-01-04          4   1542.0  ...      NaN      False         0\n",
              "4 1990-01-05          5   1549.0  ...      NaN      False         0\n",
              "\n",
              "[5 rows x 21 columns]"
            ]
          },
          "metadata": {},
          "execution_count": 31
        }
      ]
    },
    {
      "cell_type": "code",
      "metadata": {
        "id": "658CIRFxcLUc",
        "colab": {
          "base_uri": "https://localhost:8080/"
        },
        "outputId": "6bebbd87-253a-404b-996b-8a397b52724f"
      },
      "source": [
        "df.compute().shape"
      ],
      "id": "658CIRFxcLUc",
      "execution_count": 32,
      "outputs": [
        {
          "output_type": "execute_result",
          "data": {
            "text/plain": [
              "(2611892, 21)"
            ]
          },
          "metadata": {},
          "execution_count": 32
        }
      ]
    },
    {
      "cell_type": "markdown",
      "metadata": {
        "id": "parental-framework"
      },
      "source": [
        "#### Computations With Dask Dataframes\n",
        "\n",
        "We want to compute the maximum value of *DepDelay* (the delays occurring in the departure of flights). Now if we are working with simple pandas on this dataset than we need to compute the max. value in each individual data file and concatenate these 10 values together which gives us the required max. value of the whole dataset and this may be put as out of memory.\n",
        "\n",
        "But in dask dataframe we can handle partition more efficiently.\n",
        "\n",
        "dask.dataframe lets us write pandas-like code, that operates on larger than memory datasets.\n"
      ],
      "id": "parental-framework"
    },
    {
      "cell_type": "code",
      "metadata": {
        "id": "complete-overhead",
        "colab": {
          "base_uri": "https://localhost:8080/"
        },
        "outputId": "f0474135-799a-4525-bccb-e1c15db8be70"
      },
      "source": [
        "%time df.DepDelay.max().compute()                       # compute() is used in order to get the required value"
      ],
      "id": "complete-overhead",
      "execution_count": 33,
      "outputs": [
        {
          "output_type": "stream",
          "name": "stdout",
          "text": [
            "CPU times: user 10.3 s, sys: 382 ms, total: 10.7 s\n",
            "Wall time: 6.79 s\n"
          ]
        },
        {
          "output_type": "execute_result",
          "data": {
            "text/plain": [
              "1435.0"
            ]
          },
          "metadata": {},
          "execution_count": 33
        }
      ]
    },
    {
      "cell_type": "markdown",
      "metadata": {
        "id": "smoking-little"
      },
      "source": [
        "Above code has gone through approximately 2 million entries.\n",
        "As with Delayed objects, we can go through the underlying graphs using `visualize()` method."
      ],
      "id": "smoking-little"
    },
    {
      "cell_type": "code",
      "metadata": {
        "id": "equipped-concord",
        "colab": {
          "base_uri": "https://localhost:8080/",
          "height": 1000
        },
        "outputId": "f45e8e5e-bf70-4840-8d81-2cd9d4727789"
      },
      "source": [
        "# visualize the above code using structure diagram\n",
        "df.DepDelay.max().visualize(rankdir='LR', size='15,15!')        "
      ],
      "id": "equipped-concord",
      "execution_count": 34,
      "outputs": [
        {
          "output_type": "execute_result",
          "data": {
            "image/png": "[encoded data removed]",
            "text/plain": [
              "<IPython.core.display.Image object>"
            ]
          },
          "metadata": {},
          "execution_count": 34
        }
      ]
    },
    {
      "cell_type": "markdown",
      "metadata": {
        "id": "dried-catalog"
      },
      "source": [
        "### Dask Bag"
      ],
      "id": "dried-catalog"
    },
    {
      "cell_type": "markdown",
      "metadata": {
        "id": "described-coupon"
      },
      "source": [
        "Dask Bag implements operations like map, filter, fold, and groupby on collections of generic Python objects. It does this in parallel with a small memory footprint using Python iterators. It is similar to a parallel version of PyToolz or a Pythonic version of the PySpark RDD.\n",
        "\n",
        "Dask bags coordinate many Python lists or Iterators, each of which forms a partition of a larger collection."
      ],
      "id": "described-coupon"
    },
    {
      "cell_type": "markdown",
      "metadata": {
        "id": "infrared-accreditation"
      },
      "source": [
        "Execution on bags provide two benefits:\n",
        "\n",
        "1. Parallel: data is split up, allowing multiple cores or machines to execute in parallel\n",
        "2. Iterating: data processes lazily, allowing smooth execution of larger-than-memory data, even on a single machine within a single partition\n",
        "\n",
        "Bag is the mathematical name for an unordered collection allowing repeats. It uses Parallel lists for semi-structured data.\n",
        "\n",
        "DataFrames are limited to only two dimensions (rows and columns), but Arrays can have many more, whereas Bag is helpful dealing with JSON blobs or text data (unstructured data). \n",
        "\n",
        "To study dask bags, refer the link [here](https://docs.dask.org/en/latest/bag.html)."
      ],
      "id": "infrared-accreditation"
    },
    {
      "cell_type": "code",
      "metadata": {
        "id": "uXV24wC5Y2bi",
        "colab": {
          "base_uri": "https://localhost:8080/"
        },
        "outputId": "15b792f2-0dea-449e-c227-8bf68b6c6f54"
      },
      "source": [
        "# creating a bag\n",
        "bag1 = db.from_sequence(range(1000000), partition_size=1000, npartitions=1000)\n",
        "bag1"
      ],
      "id": "uXV24wC5Y2bi",
      "execution_count": 35,
      "outputs": [
        {
          "output_type": "execute_result",
          "data": {
            "text/plain": [
              "dask.bag<from_sequence, npartitions=1000>"
            ]
          },
          "metadata": {},
          "execution_count": 35
        }
      ]
    },
    {
      "cell_type": "code",
      "metadata": {
        "id": "JRdL0r2qY--y",
        "colab": {
          "base_uri": "https://localhost:8080/"
        },
        "outputId": "02f78b33-319b-4a5f-e64e-013ab2296d9f"
      },
      "source": [
        "final_bag1 = bag1.filter(lambda x: x%100 == 0)\n",
        "\n",
        "len(final_bag1.compute())"
      ],
      "id": "JRdL0r2qY--y",
      "execution_count": 36,
      "outputs": [
        {
          "output_type": "execute_result",
          "data": {
            "text/plain": [
              "10000"
            ]
          },
          "metadata": {},
          "execution_count": 36
        }
      ]
    },
    {
      "cell_type": "markdown",
      "metadata": {
        "id": "X4STVdbkabK4"
      },
      "source": [
        "Advantage of using bags with the help of `groupby`\n",
        "\n",
        "we are looping through a list of values (tuple). We want to take a sum of the second value in tuples where the first value is the same. We have both normal python and dask.bag API version."
      ],
      "id": "X4STVdbkabK4"
    },
    {
      "cell_type": "code",
      "metadata": {
        "id": "fQpzElEsaZkf",
        "colab": {
          "base_uri": "https://localhost:8080/"
        },
        "outputId": "0daf3cdf-e9ac-4ee1-f1b4-69431afec253"
      },
      "source": [
        "# Using python\n",
        "x = [(\"a\",100), (\"b\",200), (\"c\",300), (\"d\",400), (\"e\",500), (\"a\",200), (\"e\",300)]\n",
        "\n",
        "# Empty dictionary\n",
        "result = {}\n",
        "\n",
        "# Iterate the list for each item as tuple\n",
        "for key, val in x:\n",
        "    # sum-up the value if key already exist\n",
        "    if key in result:\n",
        "        result[key] += val\n",
        "    # create a key-value pair\n",
        "    else:\n",
        "        result[key] = val\n",
        "\n",
        "list(result.items())"
      ],
      "id": "fQpzElEsaZkf",
      "execution_count": 37,
      "outputs": [
        {
          "output_type": "execute_result",
          "data": {
            "text/plain": [
              "[('a', 300), ('b', 200), ('c', 300), ('d', 400), ('e', 800)]"
            ]
          },
          "metadata": {},
          "execution_count": 37
        }
      ]
    },
    {
      "cell_type": "markdown",
      "metadata": {
        "id": "zEF_UzBAbQ-K"
      },
      "source": [
        "Now let's do the same with bags in a simple way using `groupby`."
      ],
      "id": "zEF_UzBAbQ-K"
    },
    {
      "cell_type": "code",
      "metadata": {
        "id": "Vdh-gNEsa2O6",
        "colab": {
          "base_uri": "https://localhost:8080/"
        },
        "outputId": "74edf91c-d225-4c64-a971-f6f13281e7f3"
      },
      "source": [
        "# using bags API \n",
        "bag1 = db.from_sequence([(\"a\",100), (\"b\",200), (\"c\",300), (\"d\",400), (\"e\",500), (\"a\",200), (\"e\",300)])\n",
        "\n",
        "# using groupby\n",
        "bag1.groupby(lambda x: x[0]).map(lambda x: (x[0], sum([i[1] for i in x[1]]))).compute()"
      ],
      "id": "Vdh-gNEsa2O6",
      "execution_count": 38,
      "outputs": [
        {
          "output_type": "execute_result",
          "data": {
            "text/plain": [
              "[('e', 800), ('b', 200), ('a', 300), ('c', 300), ('d', 400)]"
            ]
          },
          "metadata": {},
          "execution_count": 38
        }
      ]
    },
    {
      "cell_type": "markdown",
      "metadata": {
        "id": "white-hunter"
      },
      "source": [
        "#### Semi-Structured Data\n",
        "\n",
        "We create a random set of record data and store it to disk as many JSON files. This will serve as our data for this notebook."
      ],
      "id": "white-hunter"
    },
    {
      "cell_type": "code",
      "metadata": {
        "id": "forbidden-integer",
        "colab": {
          "base_uri": "https://localhost:8080/"
        },
        "outputId": "80359114-976c-402c-bf51-3ec4d5965f22"
      },
      "source": [
        "# Create data/ directory\n",
        "os.makedirs('data', exist_ok=True)              \n",
        "\n",
        "# Make records of people\n",
        "y = dask.datasets.make_people()    \n",
        "# Encode as JSON, write to disk             \n",
        "y.map(json.dumps).to_textfiles('data/*.json')   "
      ],
      "id": "forbidden-integer",
      "execution_count": 39,
      "outputs": [
        {
          "output_type": "execute_result",
          "data": {
            "text/plain": [
              "['/content/data/0.json',\n",
              " '/content/data/1.json',\n",
              " '/content/data/2.json',\n",
              " '/content/data/3.json',\n",
              " '/content/data/4.json',\n",
              " '/content/data/5.json',\n",
              " '/content/data/6.json',\n",
              " '/content/data/7.json',\n",
              " '/content/data/8.json',\n",
              " '/content/data/9.json']"
            ]
          },
          "metadata": {},
          "execution_count": 39
        }
      ]
    },
    {
      "cell_type": "markdown",
      "metadata": {
        "id": "parental-behalf"
      },
      "source": [
        "created and read the JSON files"
      ],
      "id": "parental-behalf"
    },
    {
      "cell_type": "code",
      "metadata": {
        "id": "accessible-nurse",
        "colab": {
          "base_uri": "https://localhost:8080/"
        },
        "outputId": "4a671721-79e6-4de5-ad1c-773c8c3ecfc7"
      },
      "source": [
        "# read the third row of the dataset\n",
        "y.take(3)"
      ],
      "id": "accessible-nurse",
      "execution_count": 40,
      "outputs": [
        {
          "output_type": "execute_result",
          "data": {
            "text/plain": [
              "({'address': {'address': '1400 Russ Loop', 'city': 'Lincoln Park'},\n",
              "  'age': 59,\n",
              "  'credit-card': {'expiration-date': '11/23', 'number': '3746 434754 21702'},\n",
              "  'name': ('Jame', 'Hinton'),\n",
              "  'occupation': 'Navigator',\n",
              "  'telephone': '438-704-6259'},\n",
              " {'address': {'address': '593 Hamilton Mall', 'city': 'Maple Heights'},\n",
              "  'age': 30,\n",
              "  'credit-card': {'expiration-date': '02/24', 'number': '2310 9322 1592 0518'},\n",
              "  'name': ('Emilee', 'Burch'),\n",
              "  'occupation': 'Plater',\n",
              "  'telephone': '305-523-8779'},\n",
              " {'address': {'address': '711 Long Bridge Drung', 'city': 'Winter Park'},\n",
              "  'age': 22,\n",
              "  'credit-card': {'expiration-date': '05/17', 'number': '5498 5301 3829 7340'},\n",
              "  'name': ('Yukiko', 'Williams'),\n",
              "  'occupation': 'Garage Foreman',\n",
              "  'telephone': '821.589.5367'})"
            ]
          },
          "metadata": {},
          "execution_count": 40
        }
      ]
    },
    {
      "cell_type": "markdown",
      "metadata": {
        "id": "swedish-raleigh"
      },
      "source": [
        "**Map, Filter on Bag**\n",
        "\n",
        "We can process this data by filtering out only certain records of interest, mapping functions over it to process our data, and aggregating those results to a total value."
      ],
      "id": "swedish-raleigh"
    },
    {
      "cell_type": "markdown",
      "metadata": {
        "id": "english-facing"
      },
      "source": [
        "Select only people over 30"
      ],
      "id": "english-facing"
    },
    {
      "cell_type": "code",
      "metadata": {
        "id": "blocked-centre",
        "colab": {
          "base_uri": "https://localhost:8080/"
        },
        "outputId": "4691a3ce-8981-4d0d-dc14-1bda3098b3b0"
      },
      "source": [
        "# filter the data\n",
        "y.filter(lambda record: record['age'] > 30).take(2)"
      ],
      "id": "blocked-centre",
      "execution_count": 41,
      "outputs": [
        {
          "output_type": "execute_result",
          "data": {
            "text/plain": [
              "({'address': {'address': '1400 Russ Loop', 'city': 'Lincoln Park'},\n",
              "  'age': 59,\n",
              "  'credit-card': {'expiration-date': '11/23', 'number': '3746 434754 21702'},\n",
              "  'name': ('Jame', 'Hinton'),\n",
              "  'occupation': 'Navigator',\n",
              "  'telephone': '438-704-6259'},\n",
              " {'address': {'address': '153 Selby Alley', 'city': 'Queen Creek'},\n",
              "  'age': 47,\n",
              "  'credit-card': {'expiration-date': '10/16', 'number': '3739 437998 62131'},\n",
              "  'name': ('Ellis', 'Blake'),\n",
              "  'occupation': 'Marine Broker',\n",
              "  'telephone': '541.911.4810'})"
            ]
          },
          "metadata": {},
          "execution_count": 41
        }
      ]
    },
    {
      "cell_type": "markdown",
      "metadata": {
        "id": "secure-antibody"
      },
      "source": [
        "Select the occupation field"
      ],
      "id": "secure-antibody"
    },
    {
      "cell_type": "code",
      "metadata": {
        "id": "preliminary-updating",
        "colab": {
          "base_uri": "https://localhost:8080/"
        },
        "outputId": "816a090b-2d93-4032-cee5-f98925fc41cf"
      },
      "source": [
        "# Selecting particular feature\n",
        "y.map(lambda record: record['occupation']).take(2)            "
      ],
      "id": "preliminary-updating",
      "execution_count": 42,
      "outputs": [
        {
          "output_type": "execute_result",
          "data": {
            "text/plain": [
              "('Navigator', 'Plater')"
            ]
          },
          "metadata": {},
          "execution_count": 42
        }
      ]
    },
    {
      "cell_type": "markdown",
      "metadata": {
        "id": "DaX9J5q6-jUu"
      },
      "source": [
        " Count the total number of records"
      ],
      "id": "DaX9J5q6-jUu"
    },
    {
      "cell_type": "code",
      "metadata": {
        "id": "experienced-stocks",
        "colab": {
          "base_uri": "https://localhost:8080/"
        },
        "outputId": "cd472007-8904-4e99-ad58-6e5e53966046"
      },
      "source": [
        "# computing the total number of records in y\n",
        "y.count().compute()                                           "
      ],
      "id": "experienced-stocks",
      "execution_count": 43,
      "outputs": [
        {
          "output_type": "execute_result",
          "data": {
            "text/plain": [
              "10000"
            ]
          },
          "metadata": {},
          "execution_count": 43
        }
      ]
    },
    {
      "cell_type": "markdown",
      "metadata": {
        "id": "ardWCXA6B2v1"
      },
      "source": [
        "### Machine Learning With Dask "
      ],
      "id": "ardWCXA6B2v1"
    },
    {
      "cell_type": "markdown",
      "metadata": {
        "id": "mAfNu9D3QNhj"
      },
      "source": [
        "Dask-ML wants to enable scalable machine learning in Python. It aims to do so by\n",
        "\n",
        "1. Working with existing libraries within the Python ecosystem\n",
        "2. Using the features of Dask to scale computation to larger datasets and larger problems"
      ],
      "id": "mAfNu9D3QNhj"
    },
    {
      "cell_type": "markdown",
      "metadata": {
        "id": "eCSCipNJZWUp"
      },
      "source": [
        "#### Generalized Linear Models\n",
        "\n",
        "Generalized linear models are a broad class of commonly used models. These implementations scale out well to large datasets either on a single machine or distributed cluster. They can be powered by a variety of optimization algorithms and use a variety of regularizers.\n",
        "\n",
        "These follow the scikit-learn estimator API, and so can be dropped into existing routines like grid search and pipelines, but are implemented externally with new, scalable algorithms and so can consume distributed dask arrays and dataframes rather than just single-machine NumPy and Pandas arrays and dataframes."
      ],
      "id": "eCSCipNJZWUp"
    },
    {
      "cell_type": "code",
      "metadata": {
        "id": "hAHK3At99aca"
      },
      "source": [
        "from dask_ml.datasets import make_regression\n",
        "from dask_ml.model_selection import train_test_split\n",
        "\n",
        "X, y = make_regression(n_samples=200000, n_features=100, random_state=0, chunks=10000)\n",
        "\n",
        "X_train, X_test, y_train, y_test = train_test_split(X, y)"
      ],
      "id": "hAHK3At99aca",
      "execution_count": 45,
      "outputs": []
    },
    {
      "cell_type": "code",
      "metadata": {
        "id": "Xfm-6x5u-j2X",
        "colab": {
          "base_uri": "https://localhost:8080/"
        },
        "outputId": "b8241ace-e754-4794-d513-fe7a634c3054"
      },
      "source": [
        "# fit the model\n",
        "\n",
        "lr = LinearRegression()\n",
        "lr.fit(X_train, y_train)\n",
        "lr.score(X_test,y_test)"
      ],
      "id": "Xfm-6x5u-j2X",
      "execution_count": 46,
      "outputs": [
        {
          "output_type": "execute_result",
          "data": {
            "text/plain": [
              "0.9999999876494907"
            ]
          },
          "metadata": {},
          "execution_count": 46
        }
      ]
    },
    {
      "cell_type": "code",
      "metadata": {
        "id": "y6U25XbACagU"
      },
      "source": [
        "#predict on test data \n",
        "pred=lr.predict(X_test)"
      ],
      "id": "y6U25XbACagU",
      "execution_count": 47,
      "outputs": []
    },
    {
      "cell_type": "code",
      "metadata": {
        "id": "CnDOZAAMDWjE",
        "colab": {
          "base_uri": "https://localhost:8080/"
        },
        "outputId": "d15bd49b-61c0-4d38-c6c8-26a48a1e52ba"
      },
      "source": [
        "# predicted values\n",
        "pred.compute()"
      ],
      "id": "CnDOZAAMDWjE",
      "execution_count": 49,
      "outputs": [
        {
          "output_type": "execute_result",
          "data": {
            "text/plain": [
              "array([  32.31068515, -277.58638711,  160.42897939, ..., -410.7247102 ,\n",
              "       -122.09394236,  125.12574981])"
            ]
          },
          "metadata": {},
          "execution_count": 49
        }
      ]
    },
    {
      "cell_type": "markdown",
      "metadata": {
        "id": "IO9hQhBXZvd2"
      },
      "source": [
        "To know more about dask-ml, click [here](https://ml.dask.org/)."
      ],
      "id": "IO9hQhBXZvd2"
    },
    {
      "cell_type": "markdown",
      "metadata": {
        "id": "CFNLB7O4utb3"
      },
      "source": [
        "### Please answer the questions below to complete the experiment:"
      ],
      "id": "CFNLB7O4utb3"
    },
    {
      "cell_type": "code",
      "metadata": {
        "id": "_38KV9uluveS"
      },
      "source": [
        "# @title Select the FALSE statement: { run: \"auto\", form-width: \"500px\", display-mode: \"form\" }\n",
        "Answer = \"Dask can operate in parallel only on datasets that fit into the main memory\" #@param [\"\",\"Dask can operate in parallel only on datasets that fit into the main memory\",\"Dask provides high level Array Bag and DataFrame collections that mimic NumPy lists and Pandas\",\"Dask provides dynamic task schedulers that execute task graphs in parallel\",\"Dask performs lazy execution by saving the set of inputs and executing only on demand\"]"
      ],
      "id": "_38KV9uluveS",
      "execution_count": 48,
      "outputs": []
    },
    {
      "cell_type": "code",
      "metadata": {
        "id": "IVj6KRihwhPy"
      },
      "source": [
        "#@title How was the experiment? { run: \"auto\", form-width: \"500px\", display-mode: \"form\" }\n",
        "Complexity = \"Good and Challenging for me\" #@param [\"\",\"Too Simple, I am wasting time\", \"Good, But Not Challenging for me\", \"Good and Challenging for me\", \"Was Tough, but I did it\", \"Too Difficult for me\"]\n"
      ],
      "id": "IVj6KRihwhPy",
      "execution_count": 50,
      "outputs": []
    },
    {
      "cell_type": "code",
      "metadata": {
        "id": "G7Wx_ufawlf8"
      },
      "source": [
        "#@title If it was too easy, what more would you have liked to be added? If it was very difficult, what would you have liked to have been removed? { run: \"auto\", display-mode: \"form\" }\n",
        "Additional = \"na\" #@param {type:\"string\"}\n"
      ],
      "id": "G7Wx_ufawlf8",
      "execution_count": 51,
      "outputs": []
    },
    {
      "cell_type": "code",
      "metadata": {
        "id": "2Fbfkz82w5BI"
      },
      "source": [
        "#@title Can you identify the concepts from the lecture which this experiment covered? { run: \"auto\", vertical-output: true, display-mode: \"form\" }\n",
        "Concepts = \"Yes\" #@param [\"\",\"Yes\", \"No\"]\n"
      ],
      "id": "2Fbfkz82w5BI",
      "execution_count": 52,
      "outputs": []
    },
    {
      "cell_type": "code",
      "metadata": {
        "id": "RauzHTwWw8PW"
      },
      "source": [
        "#@title  Text and image description/explanation and code comments within the experiment: { run: \"auto\", vertical-output: true, display-mode: \"form\" }\n",
        "Comments = \"Very Useful\" #@param [\"\",\"Very Useful\", \"Somewhat Useful\", \"Not Useful\", \"Didn't use\"]\n"
      ],
      "id": "RauzHTwWw8PW",
      "execution_count": 53,
      "outputs": []
    },
    {
      "cell_type": "code",
      "metadata": {
        "id": "wHVmS408w_Si"
      },
      "source": [
        "#@title Mentor Support: { run: \"auto\", vertical-output: true, display-mode: \"form\" }\n",
        "Mentor_support = \"Very Useful\" #@param [\"\",\"Very Useful\", \"Somewhat Useful\", \"Not Useful\", \"Didn't use\"]\n"
      ],
      "id": "wHVmS408w_Si",
      "execution_count": 54,
      "outputs": []
    },
    {
      "cell_type": "code",
      "metadata": {
        "cellView": "form",
        "id": "T-LbsTp6xCy3",
        "colab": {
          "base_uri": "https://localhost:8080/"
        },
        "outputId": "40d497d7-d449-45f2-93e8-50f3e05fba06"
      },
      "source": [
        "#@title Run this cell to submit your notebook for grading { vertical-output: true }\n",
        "try:\n",
        "  if submission_id:\n",
        "      return_id = submit_notebook()\n",
        "      if return_id : submission_id = return_id\n",
        "  else:\n",
        "      print(\"Please complete the setup first.\")\n",
        "except NameError:\n",
        "  print (\"Please complete the setup first.\")"
      ],
      "id": "T-LbsTp6xCy3",
      "execution_count": 55,
      "outputs": [
        {
          "output_type": "stream",
          "name": "stdout",
          "text": [
            "Your submission is successful.\n",
            "Ref Id: 3647\n",
            "Date of submission:  11 Sep 2021\n",
            "Time of submission:  23:25:58\n",
            "View your submissions: https://cds.iisc.talentsprint.com/notebook_submissions\n"
          ]
        }
      ]
    }
  ]
}
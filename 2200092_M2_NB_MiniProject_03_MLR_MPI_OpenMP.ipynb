{
  "nbformat": 4,
  "nbformat_minor": 5,
  "metadata": {
    "colab": {
      "name": "2200092 - M2_NB_MiniProject_03_MLR_MPI_OpenMP.ipynb",
      "provenance": [],
      "collapsed_sections": [],
      "include_colab_link": true
    },
    "kernelspec": {
      "display_name": "Python 3",
      "language": "python",
      "name": "python3"
    },
    "language_info": {
      "codemirror_mode": {
        "name": "ipython",
        "version": 3
      },
      "file_extension": ".py",
      "mimetype": "text/x-python",
      "name": "python",
      "nbconvert_exporter": "python",
      "pygments_lexer": "ipython3",
      "version": "3.6.7rc1"
    }
  },
  "cells": [
    {
      "cell_type": "markdown",
      "metadata": {
        "id": "view-in-github",
        "colab_type": "text"
      },
      "source": [
        "<a href=\"https://colab.research.google.com/github/pallavibekal/IISC--Parallel-Computing/blob/main/2200092_M2_NB_MiniProject_03_MLR_MPI_OpenMP.ipynb\" target=\"_parent\"><img src=\"https://colab.research.google.com/assets/colab-badge.svg\" alt=\"Open In Colab\"/></a>"
      ]
    },
    {
      "cell_type": "markdown",
      "metadata": {
        "id": "heated-queens"
      },
      "source": [
        "# Advanced Certification Program in Computational Data Science\n",
        "## A program by IISc and TalentSprint\n",
        "### Mini-Project: Implementation of Multiple Linear Regression using MPI and OpenMP"
      ],
      "id": "heated-queens"
    },
    {
      "cell_type": "markdown",
      "metadata": {
        "id": "military-proportion"
      },
      "source": [
        "## Learning Objectives"
      ],
      "id": "military-proportion"
    },
    {
      "cell_type": "markdown",
      "metadata": {
        "id": "durable-grounds"
      },
      "source": [
        "At the end of the mini-project, you will be able to :\n",
        "\n",
        "* understand the collective communication operations like scatter, gather, broadcast \n",
        "* understand the blocking and non-blocking communication\n",
        "* implement multiple linear regression and run it using MPI\n",
        "* implement the multiple linear regression based predictions using OpenMP"
      ],
      "id": "durable-grounds"
    },
    {
      "cell_type": "markdown",
      "metadata": {
        "id": "growing-queens"
      },
      "source": [
        "### Dataset"
      ],
      "id": "growing-queens"
    },
    {
      "cell_type": "markdown",
      "metadata": {
        "id": "yLwz-D_xVT8o"
      },
      "source": [
        "The dataset chosen for this mini-project is [Combined Cycle Power Plant](https://archive.ics.uci.edu/ml/datasets/combined+cycle+power+plant). The dataset is made up of 9568 records and 5 columns. Each record contains the values for Ambient Temperature, Exhaust Vaccum, Ambient Pressure, Relative Humidity and Energy Output. \n",
        "\n",
        "Predicting full load electrical power output of a base load power plant is important in order to maximize the profit from the available megawatt hours.  The base load operation of a power plant is influenced by four main parameters, which are used as input variables in the dataset, such as ambient temperature, atmospheric pressure, relative humidity, and exhaust steam pressure. These parameters affect electrical power output, which is considered as the target variable.\n",
        "\n",
        "**Note:** The data was collected over a six year period (2006-11)."
      ],
      "id": "yLwz-D_xVT8o"
    },
    {
      "cell_type": "markdown",
      "metadata": {
        "id": "dominant-residence"
      },
      "source": [
        "## Information"
      ],
      "id": "dominant-residence"
    },
    {
      "cell_type": "markdown",
      "metadata": {
        "id": "coated-timing"
      },
      "source": [
        "#### MPI in a Nutshell\n",
        "\n",
        "MPI stands for \"Message Passing Interface\". It is a library of functions (in C / Python) or subroutines (in Fortran) that you insert into source code to perform data communication between processes. MPI was developed over two years of discussions led by the MPI Forum, a group of roughly sixty people representing some forty organizations.\n",
        "\n",
        "To know more about MPI click [here](https://computing.llnl.gov/tutorials/mpi/#What)\n",
        "\n",
        "\n",
        "#### Multiple Linear Regression\n",
        "\n",
        "Multiple regression is an extension of simple linear regression. It is used when we want to predict the value of a variable based on the value of two or more other variables. The variable we want to predict is called the dependent variable (or sometimes, the outcome, target or criterion variable). The variables we are using to predict the value of the dependent variable are called the independent variables (or sometimes, the predictor, explanatory or regressor variables).\n",
        "\n",
        "To know more about multiple linear regression click [here](http://mezeylab.cb.bscb.cornell.edu/labmembers/documents/supplement%205%20-%20multiple%20regression.pdf)"
      ],
      "id": "coated-timing"
    },
    {
      "cell_type": "markdown",
      "metadata": {
        "id": "global-savings"
      },
      "source": [
        "**Note:** We will be using the mpi4py Python package for MPI based code implementation"
      ],
      "id": "global-savings"
    },
    {
      "cell_type": "markdown",
      "metadata": {
        "id": "ndQNKsjS7c04"
      },
      "source": [
        "## Grading = 20 Points"
      ],
      "id": "ndQNKsjS7c04"
    },
    {
      "cell_type": "markdown",
      "metadata": {
        "id": "green-deviation"
      },
      "source": [
        "**Run the below code to install mpi4py package**"
      ],
      "id": "green-deviation"
    },
    {
      "cell_type": "code",
      "metadata": {
        "id": "designing-marketing",
        "scrolled": true,
        "colab": {
          "base_uri": "https://localhost:8080/"
        },
        "outputId": "e1fd3f1d-b55a-454c-cb17-d65edbe71f54"
      },
      "source": [
        "!pip install mpi4py"
      ],
      "id": "designing-marketing",
      "execution_count": null,
      "outputs": [
        {
          "output_type": "stream",
          "name": "stdout",
          "text": [
            "Collecting mpi4py\n",
            "  Downloading mpi4py-3.1.1.tar.gz (2.4 MB)\n",
            "\u001b[K     |████████████████████████████████| 2.4 MB 8.7 MB/s \n",
            "\u001b[?25h  Installing build dependencies ... \u001b[?25l\u001b[?25hdone\n",
            "  Getting requirements to build wheel ... \u001b[?25l\u001b[?25hdone\n",
            "    Preparing wheel metadata ... \u001b[?25l\u001b[?25hdone\n",
            "Building wheels for collected packages: mpi4py\n",
            "  Building wheel for mpi4py (PEP 517) ... \u001b[?25l\u001b[?25hdone\n",
            "  Created wheel for mpi4py: filename=mpi4py-3.1.1-cp37-cp37m-linux_x86_64.whl size=2180584 sha256=5d34e2e4e2a87925e4dc662eafcca84fdad6dbb548c8bf4a0547f0e71b36b379\n",
            "  Stored in directory: /root/.cache/pip/wheels/91/be/c0/2b0347be1de5cd8ca9fe67da7ec8c3fe8930fcb6b0df6f2255\n",
            "Successfully built mpi4py\n",
            "Installing collected packages: mpi4py\n",
            "Successfully installed mpi4py-3.1.1\n"
          ]
        }
      ]
    },
    {
      "cell_type": "markdown",
      "metadata": {
        "id": "dedicated-thong"
      },
      "source": [
        "#### Importing Necessary Packages"
      ],
      "id": "dedicated-thong"
    },
    {
      "cell_type": "code",
      "metadata": {
        "id": "reported-acrobat",
        "scrolled": true
      },
      "source": [
        "# Importing pandas\n",
        "import pandas as pd \n",
        "# Importing Numpy\n",
        "import numpy as np \n",
        "# Importing MPI from mpi4py package\n",
        "from mpi4py import MPI \n",
        "# Importing sqrt function from the Math\n",
        "from math import sqrt \n",
        "# Importing Decimal, ROUND_HALF_UP functions from the decimal package\n",
        "from decimal import Decimal, ROUND_HALF_UP \n",
        "import time"
      ],
      "id": "reported-acrobat",
      "execution_count": null,
      "outputs": []
    },
    {
      "cell_type": "markdown",
      "metadata": {
        "id": "standing-zimbabwe"
      },
      "source": [
        "#### Downloading the data"
      ],
      "id": "standing-zimbabwe"
    },
    {
      "cell_type": "code",
      "metadata": {
        "id": "universal-jonathan",
        "scrolled": true
      },
      "source": [
        "#@title Download the data\n",
        "!wget -qq https://cdn.iisc.talentsprint.com/CDS/Datasets/PowerPlantData.csv"
      ],
      "id": "universal-jonathan",
      "execution_count": null,
      "outputs": []
    },
    {
      "cell_type": "markdown",
      "metadata": {
        "id": "forty-still"
      },
      "source": [
        "### Overview\n",
        "\n",
        "* Load the data and perform data pre-processing\n",
        "* Identify the features, target and split the data into train and test\n",
        "* Implement multiple Linear Regression by estimating the coefficients on the given data\n",
        "* Use MPI package to distribute the data and implement `communicator`\n",
        "* Define functions for each objective and make a script (.py) file to execute using MPI command\n",
        "* Use OpenMP component to predict the data and calculate the error on the predicted data\n",
        "* Implement the Linear Regression from `sklearn` and compare the results"
      ],
      "id": "forty-still"
    },
    {
      "cell_type": "markdown",
      "metadata": {
        "id": "early-peace"
      },
      "source": [
        "#### Exercise 1: Load data (1 point)\n",
        "\n",
        "Write a function that takes the filename as input and loads the data in a pandas dataframe with the column names as Ambient Temperature, Exhaust Vaccum, Ambient Pressure, Relative Humidity and Energy Output respectively.\n",
        "\n",
        "**Hint:** read_csv()\n"
      ],
      "id": "early-peace"
    },
    {
      "cell_type": "code",
      "metadata": {
        "id": "differential-vacation",
        "scrolled": true
      },
      "source": [
        "FILENAME = \"/content/PowerPlantData.csv\" # File path\n",
        "\n",
        "def load_data(path):\n",
        "  return pd.read_csv(path).rename(columns={'AT': 'Ambient Temperature', 'V': 'Exhaust Vaccum', 'AP': 'Ambient Pressure', \n",
        "                                           'RH': 'Relative Humidity', 'PE': 'Energy Output'})\n",
        "\n",
        "data_init = load_data(FILENAME)"
      ],
      "id": "differential-vacation",
      "execution_count": null,
      "outputs": []
    },
    {
      "cell_type": "markdown",
      "metadata": {
        "id": "italian-expense"
      },
      "source": [
        "#### Exercise 2: Explore data (1 point)\n",
        "\n",
        "Write a function that takes the data loaded using the above defined function as input and explore it.\n",
        "\n",
        "**Hint:** You can define and check for following things in the dataset inside a function\n",
        "\n",
        "- checking for the number of rows and columns\n",
        "- summary of the dataset\n",
        "- check for the null values \n",
        "- check for the duplicate values"
      ],
      "id": "italian-expense"
    },
    {
      "cell_type": "code",
      "metadata": {
        "id": "local-quarter",
        "scrolled": true,
        "colab": {
          "base_uri": "https://localhost:8080/"
        },
        "outputId": "34ef60b3-1f53-4a88-cf1b-e66a36ff188a"
      },
      "source": [
        "def data_explore(df):\n",
        "  print( 'No of rows - ', df.shape[0])\n",
        "  print( 'No of Columns -', df.shape[1])\n",
        "  print('---------------------')\n",
        "  print('Info')\n",
        "  print('---------------------')\n",
        "  print(df.info())\n",
        "  print('---------------------')\n",
        "  print(df.describe())\n",
        "  print('---------------------')\n",
        "  print('Null Values')\n",
        "  print(df.isnull().sum())\n",
        "  print('---------------------')\n",
        "  print('Duplicate Values')\n",
        "  print('---------------------')\n",
        "  print(df.duplicated(subset=None,keep='first').sum())\n",
        "\n",
        "\n",
        "data_explore(data_init)"
      ],
      "id": "local-quarter",
      "execution_count": null,
      "outputs": [
        {
          "output_type": "stream",
          "name": "stdout",
          "text": [
            "No of rows -  9568\n",
            "No of Columns - 5\n",
            "---------------------\n",
            "Info\n",
            "---------------------\n",
            "<class 'pandas.core.frame.DataFrame'>\n",
            "RangeIndex: 9568 entries, 0 to 9567\n",
            "Data columns (total 5 columns):\n",
            " #   Column               Non-Null Count  Dtype  \n",
            "---  ------               --------------  -----  \n",
            " 0   Ambient Temperature  9568 non-null   float64\n",
            " 1   Exhaust Vaccum       9568 non-null   float64\n",
            " 2   Ambient Pressure     9568 non-null   float64\n",
            " 3   Relative Humidity    9568 non-null   float64\n",
            " 4   Energy Output        9568 non-null   float64\n",
            "dtypes: float64(5)\n",
            "memory usage: 373.9 KB\n",
            "None\n",
            "---------------------\n",
            "       Ambient Temperature  Exhaust Vaccum  ...  Relative Humidity  Energy Output\n",
            "count          9568.000000     9568.000000  ...        9568.000000    9568.000000\n",
            "mean             19.651231       54.305804  ...          73.308978     454.365009\n",
            "std               7.452473       12.707893  ...          14.600269      17.066995\n",
            "min               1.810000       25.360000  ...          25.560000     420.260000\n",
            "25%              13.510000       41.740000  ...          63.327500     439.750000\n",
            "50%              20.345000       52.080000  ...          74.975000     451.550000\n",
            "75%              25.720000       66.540000  ...          84.830000     468.430000\n",
            "max              37.110000       81.560000  ...         100.160000     495.760000\n",
            "\n",
            "[8 rows x 5 columns]\n",
            "---------------------\n",
            "Null Values\n",
            "Ambient Temperature    0\n",
            "Exhaust Vaccum         0\n",
            "Ambient Pressure       0\n",
            "Relative Humidity      0\n",
            "Energy Output          0\n",
            "dtype: int64\n",
            "---------------------\n",
            "Duplicate Values\n",
            "---------------------\n",
            "41\n"
          ]
        }
      ]
    },
    {
      "cell_type": "markdown",
      "metadata": {
        "id": "whole-retailer"
      },
      "source": [
        "#### Exercise 3: Handle missing data (1 point)\n",
        "\n",
        "After exploring the dataset if there are any null values present in the dataset then define a function that takes data loaded using the above defined function as input and handle the null values accordingly.\n",
        "\n",
        "**Hint:** \n",
        "\n",
        "- Drop the records containing the null values - dropna()\n",
        "- Replace the null values with the mean/median/mode - fillna()"
      ],
      "id": "whole-retailer"
    },
    {
      "cell_type": "code",
      "metadata": {
        "id": "incorporated-child",
        "scrolled": true
      },
      "source": [
        "# Function to handle missing data\n",
        "\n",
        "def missing_datadrop(df):\n",
        "  return df.dropna()\n",
        "\n",
        "# we will not use this function as our data does not have any missing data"
      ],
      "id": "incorporated-child",
      "execution_count": null,
      "outputs": []
    },
    {
      "cell_type": "code",
      "metadata": {
        "colab": {
          "base_uri": "https://localhost:8080/",
          "height": 279
        },
        "id": "kQVG7XOBgBK5",
        "outputId": "d46362ee-360c-4d9d-a690-56e4a3211d92"
      },
      "source": [
        "import seaborn as sns\n",
        "import matplotlib.pyplot as plt\n",
        "#df = file_check(FILENAME,col_names)\n",
        "for i in range(0,data_init.shape[1]):\n",
        "  sns.boxplot(x=data_init.columns[i], data=data_init)\n"
      ],
      "id": "kQVG7XOBgBK5",
      "execution_count": null,
      "outputs": [
        {
          "output_type": "display_data",
          "data": {
            "image/png": "[encoded data removed]",
            "text/plain": [
              "<Figure size 432x288 with 1 Axes>"
            ]
          },
          "metadata": {
            "needs_background": "light"
          }
        }
      ]
    },
    {
      "cell_type": "markdown",
      "metadata": {
        "id": "loaded-arbitration"
      },
      "source": [
        "#### Exercise 4: Scale the data (1 point)\n",
        "\n",
        "Write a function that takes the data after handling the missing data as input and returns the standardized data.\n",
        "\n",
        "**Hint:**\n",
        "\n",
        "- standardization of the data  can be performed using the below formula\n",
        "\n",
        "$ (x - mean(x)) / std(x) $ "
      ],
      "id": "loaded-arbitration"
    },
    {
      "cell_type": "code",
      "metadata": {
        "id": "extraordinary-qatar",
        "scrolled": true,
        "colab": {
          "base_uri": "https://localhost:8080/",
          "height": 204
        },
        "outputId": "53c8b85d-d610-46eb-cd0c-98bd7d022d42"
      },
      "source": [
        "# Defining a function to standardize the data\n",
        "\n",
        "def scale_data(df):\n",
        "  df = (df- df.mean())/df.std()\n",
        "  return df\n",
        "\n",
        "data_scaled = scale_data(data_init)\n",
        "data_scaled.head()"
      ],
      "id": "extraordinary-qatar",
      "execution_count": null,
      "outputs": [
        {
          "output_type": "execute_result",
          "data": {
            "text/html": [
              "<div>\n",
              "<style scoped>\n",
              "    .dataframe tbody tr th:only-of-type {\n",
              "        vertical-align: middle;\n",
              "    }\n",
              "\n",
              "    .dataframe tbody tr th {\n",
              "        vertical-align: top;\n",
              "    }\n",
              "\n",
              "    .dataframe thead th {\n",
              "        text-align: right;\n",
              "    }\n",
              "</style>\n",
              "<table border=\"1\" class=\"dataframe\">\n",
              "  <thead>\n",
              "    <tr style=\"text-align: right;\">\n",
              "      <th></th>\n",
              "      <th>Ambient Temperature</th>\n",
              "      <th>Exhaust Vaccum</th>\n",
              "      <th>Ambient Pressure</th>\n",
              "      <th>Relative Humidity</th>\n",
              "      <th>Energy Output</th>\n",
              "    </tr>\n",
              "  </thead>\n",
              "  <tbody>\n",
              "    <tr>\n",
              "      <th>0</th>\n",
              "      <td>-1.517782</td>\n",
              "      <td>-1.065149</td>\n",
              "      <td>-0.407336</td>\n",
              "      <td>1.143885</td>\n",
              "      <td>1.530146</td>\n",
              "    </tr>\n",
              "    <tr>\n",
              "      <th>1</th>\n",
              "      <td>0.535228</td>\n",
              "      <td>0.329260</td>\n",
              "      <td>-0.313040</td>\n",
              "      <td>0.061028</td>\n",
              "      <td>-0.504776</td>\n",
              "    </tr>\n",
              "    <tr>\n",
              "      <th>2</th>\n",
              "      <td>1.353748</td>\n",
              "      <td>0.204141</td>\n",
              "      <td>-1.028675</td>\n",
              "      <td>-2.150575</td>\n",
              "      <td>-0.914338</td>\n",
              "    </tr>\n",
              "    <tr>\n",
              "      <th>3</th>\n",
              "      <td>-0.077992</td>\n",
              "      <td>-0.363223</td>\n",
              "      <td>-1.016888</td>\n",
              "      <td>0.238422</td>\n",
              "      <td>-0.074706</td>\n",
              "    </tr>\n",
              "    <tr>\n",
              "      <th>4</th>\n",
              "      <td>-1.053507</td>\n",
              "      <td>-1.073805</td>\n",
              "      <td>0.651804</td>\n",
              "      <td>1.636341</td>\n",
              "      <td>0.589734</td>\n",
              "    </tr>\n",
              "  </tbody>\n",
              "</table>\n",
              "</div>"
            ],
            "text/plain": [
              "   Ambient Temperature  Exhaust Vaccum  ...  Relative Humidity  Energy Output\n",
              "0            -1.517782       -1.065149  ...           1.143885       1.530146\n",
              "1             0.535228        0.329260  ...           0.061028      -0.504776\n",
              "2             1.353748        0.204141  ...          -2.150575      -0.914338\n",
              "3            -0.077992       -0.363223  ...           0.238422      -0.074706\n",
              "4            -1.053507       -1.073805  ...           1.636341       0.589734\n",
              "\n",
              "[5 rows x 5 columns]"
            ]
          },
          "metadata": {},
          "execution_count": 121
        }
      ]
    },
    {
      "cell_type": "markdown",
      "metadata": {
        "id": "thermal-rehabilitation"
      },
      "source": [
        "#### Exercise 5: Feature selection (1 point)\n",
        "\n",
        "Write a function that takes scaled data as input and returns the features and target variable values\n",
        "\n",
        "**Hint:**\n",
        "\n",
        "- Features: AmbientTemperature, ExhaustVaccum, AmbientPressure, RelativeHumidity \n",
        "- Target Variable: EnergyOutput"
      ],
      "id": "thermal-rehabilitation"
    },
    {
      "cell_type": "code",
      "metadata": {
        "id": "terminal-starter",
        "scrolled": true
      },
      "source": [
        "# Define a function\n",
        "\n",
        "def get_feature_target(df):\n",
        "  features = ['Ambient Temperature','Exhaust Vaccum', 'Ambient Pressure', 'Relative Humidity']\n",
        "  target = ['Energy Output']\n",
        "\n",
        "  X = df[features]\n",
        "  y = df[target]\n",
        "  return X,y\n",
        "\n",
        "X,y = get_feature_target(data_scaled)"
      ],
      "id": "terminal-starter",
      "execution_count": null,
      "outputs": []
    },
    {
      "cell_type": "code",
      "metadata": {
        "colab": {
          "base_uri": "https://localhost:8080/",
          "height": 204
        },
        "id": "UX3b5_IfpPSo",
        "outputId": "81b34fab-9db3-4e43-c5a4-cafcd768e7e0"
      },
      "source": [
        "X.head()"
      ],
      "id": "UX3b5_IfpPSo",
      "execution_count": null,
      "outputs": [
        {
          "output_type": "execute_result",
          "data": {
            "text/html": [
              "<div>\n",
              "<style scoped>\n",
              "    .dataframe tbody tr th:only-of-type {\n",
              "        vertical-align: middle;\n",
              "    }\n",
              "\n",
              "    .dataframe tbody tr th {\n",
              "        vertical-align: top;\n",
              "    }\n",
              "\n",
              "    .dataframe thead th {\n",
              "        text-align: right;\n",
              "    }\n",
              "</style>\n",
              "<table border=\"1\" class=\"dataframe\">\n",
              "  <thead>\n",
              "    <tr style=\"text-align: right;\">\n",
              "      <th></th>\n",
              "      <th>Ambient Temperature</th>\n",
              "      <th>Exhaust Vaccum</th>\n",
              "      <th>Ambient Pressure</th>\n",
              "      <th>Relative Humidity</th>\n",
              "    </tr>\n",
              "  </thead>\n",
              "  <tbody>\n",
              "    <tr>\n",
              "      <th>0</th>\n",
              "      <td>-1.517782</td>\n",
              "      <td>-1.065149</td>\n",
              "      <td>-0.407336</td>\n",
              "      <td>1.143885</td>\n",
              "    </tr>\n",
              "    <tr>\n",
              "      <th>1</th>\n",
              "      <td>0.535228</td>\n",
              "      <td>0.329260</td>\n",
              "      <td>-0.313040</td>\n",
              "      <td>0.061028</td>\n",
              "    </tr>\n",
              "    <tr>\n",
              "      <th>2</th>\n",
              "      <td>1.353748</td>\n",
              "      <td>0.204141</td>\n",
              "      <td>-1.028675</td>\n",
              "      <td>-2.150575</td>\n",
              "    </tr>\n",
              "    <tr>\n",
              "      <th>3</th>\n",
              "      <td>-0.077992</td>\n",
              "      <td>-0.363223</td>\n",
              "      <td>-1.016888</td>\n",
              "      <td>0.238422</td>\n",
              "    </tr>\n",
              "    <tr>\n",
              "      <th>4</th>\n",
              "      <td>-1.053507</td>\n",
              "      <td>-1.073805</td>\n",
              "      <td>0.651804</td>\n",
              "      <td>1.636341</td>\n",
              "    </tr>\n",
              "  </tbody>\n",
              "</table>\n",
              "</div>"
            ],
            "text/plain": [
              "   Ambient Temperature  Exhaust Vaccum  Ambient Pressure  Relative Humidity\n",
              "0            -1.517782       -1.065149         -0.407336           1.143885\n",
              "1             0.535228        0.329260         -0.313040           0.061028\n",
              "2             1.353748        0.204141         -1.028675          -2.150575\n",
              "3            -0.077992       -0.363223         -1.016888           0.238422\n",
              "4            -1.053507       -1.073805          0.651804           1.636341"
            ]
          },
          "metadata": {},
          "execution_count": 123
        }
      ]
    },
    {
      "cell_type": "markdown",
      "metadata": {
        "id": "timely-bruce"
      },
      "source": [
        "#### Exercise 6: Correlation (1 point)\n",
        "\n",
        "Calculate correlation between the variables"
      ],
      "id": "timely-bruce"
    },
    {
      "cell_type": "code",
      "metadata": {
        "id": "durable-making",
        "scrolled": true,
        "colab": {
          "base_uri": "https://localhost:8080/",
          "height": 173
        },
        "outputId": "47dbd443-a6b8-408a-cd06-35838a022d56"
      },
      "source": [
        "X.corr()"
      ],
      "id": "durable-making",
      "execution_count": null,
      "outputs": [
        {
          "output_type": "execute_result",
          "data": {
            "text/html": [
              "<div>\n",
              "<style scoped>\n",
              "    .dataframe tbody tr th:only-of-type {\n",
              "        vertical-align: middle;\n",
              "    }\n",
              "\n",
              "    .dataframe tbody tr th {\n",
              "        vertical-align: top;\n",
              "    }\n",
              "\n",
              "    .dataframe thead th {\n",
              "        text-align: right;\n",
              "    }\n",
              "</style>\n",
              "<table border=\"1\" class=\"dataframe\">\n",
              "  <thead>\n",
              "    <tr style=\"text-align: right;\">\n",
              "      <th></th>\n",
              "      <th>Ambient Temperature</th>\n",
              "      <th>Exhaust Vaccum</th>\n",
              "      <th>Ambient Pressure</th>\n",
              "      <th>Relative Humidity</th>\n",
              "    </tr>\n",
              "  </thead>\n",
              "  <tbody>\n",
              "    <tr>\n",
              "      <th>Ambient Temperature</th>\n",
              "      <td>1.000000</td>\n",
              "      <td>0.844107</td>\n",
              "      <td>-0.507549</td>\n",
              "      <td>-0.542535</td>\n",
              "    </tr>\n",
              "    <tr>\n",
              "      <th>Exhaust Vaccum</th>\n",
              "      <td>0.844107</td>\n",
              "      <td>1.000000</td>\n",
              "      <td>-0.413502</td>\n",
              "      <td>-0.312187</td>\n",
              "    </tr>\n",
              "    <tr>\n",
              "      <th>Ambient Pressure</th>\n",
              "      <td>-0.507549</td>\n",
              "      <td>-0.413502</td>\n",
              "      <td>1.000000</td>\n",
              "      <td>0.099574</td>\n",
              "    </tr>\n",
              "    <tr>\n",
              "      <th>Relative Humidity</th>\n",
              "      <td>-0.542535</td>\n",
              "      <td>-0.312187</td>\n",
              "      <td>0.099574</td>\n",
              "      <td>1.000000</td>\n",
              "    </tr>\n",
              "  </tbody>\n",
              "</table>\n",
              "</div>"
            ],
            "text/plain": [
              "                     Ambient Temperature  ...  Relative Humidity\n",
              "Ambient Temperature             1.000000  ...          -0.542535\n",
              "Exhaust Vaccum                  0.844107  ...          -0.312187\n",
              "Ambient Pressure               -0.507549  ...           0.099574\n",
              "Relative Humidity              -0.542535  ...           1.000000\n",
              "\n",
              "[4 rows x 4 columns]"
            ]
          },
          "metadata": {},
          "execution_count": 124
        }
      ]
    },
    {
      "cell_type": "code",
      "metadata": {
        "colab": {
          "base_uri": "https://localhost:8080/",
          "height": 369
        },
        "id": "dYviwrB5hWT9",
        "outputId": "09cfc4e0-f588-4629-a979-edde0cca3852"
      },
      "source": [
        "corr = data_scaled.corr()\n",
        "fig = plt.figure()\n",
        "ax = fig.add_subplot(111)\n",
        "cax = ax.matshow(corr,cmap = 'coolwarm',vmin = -1,vmax = 1)\n",
        "fig.colorbar(cax)\n",
        "ticks = np.arange(0,len(data_scaled.columns),1)\n",
        "ax.set_xticks(ticks)\n",
        "plt.xticks(rotation = 90)\n",
        "ax.set_yticks(ticks)\n",
        "ax.set_xticklabels(data_scaled.columns)\n",
        "ax.set_yticklabels(data_scaled.columns)\n",
        "plt.show()\n"
      ],
      "id": "dYviwrB5hWT9",
      "execution_count": null,
      "outputs": [
        {
          "output_type": "display_data",
          "data": {
            "image/png": "[encoded data removed]",
            "text/plain": [
              "<Figure size 432x288 with 2 Axes>"
            ]
          },
          "metadata": {
            "needs_background": "light"
          }
        }
      ]
    },
    {
      "cell_type": "markdown",
      "metadata": {
        "id": "honest-remainder"
      },
      "source": [
        "#### Exercise 7: Estimate the coefficients (2 points)\n",
        "\n",
        "Write a function that takes features and target as input and returns the estimated coefficient values\n",
        "\n",
        "**Hint:**\n",
        "\n",
        "- Calculate the estimated coefficients using the below formula\n",
        "\n",
        "$ β = (X^T X)^{-1} X^T y $ \n",
        "\n",
        "- transpose(), np.linalg.inv()"
      ],
      "id": "honest-remainder"
    },
    {
      "cell_type": "code",
      "metadata": {
        "id": "dimensional-victory",
        "scrolled": true,
        "colab": {
          "base_uri": "https://localhost:8080/"
        },
        "outputId": "cac682aa-f7fb-4dfc-cb59-02716e3f499f"
      },
      "source": [
        "# Calculating the coeffients\n",
        "\n",
        "def least_squares(X,y):\n",
        "    xtx = np.dot(X.T, X) ## x-transpose times x\n",
        "    inv_xtx = np.linalg.inv(xtx) ## inverse of x-transpose times x\n",
        "    xty = np.dot(X.T, y) ## x-transpose times y\n",
        "    return np.dot(inv_xtx, xty)\n",
        "\n",
        "params = least_squares(X,y)\n",
        "print(params)\n"
      ],
      "id": "dimensional-victory",
      "execution_count": null,
      "outputs": [
        {
          "output_type": "stream",
          "name": "stdout",
          "text": [
            "[[-0.86350078]\n",
            " [-0.17417154]\n",
            " [ 0.02160293]\n",
            " [-0.13521023]]\n"
          ]
        }
      ]
    },
    {
      "cell_type": "markdown",
      "metadata": {
        "id": "interior-bennett"
      },
      "source": [
        "#### Exercise 8: Fit the data to estimate the coefficients (2 points)\n",
        "\n",
        "Write a function named fit which takes features and targets as input and returns the intercept and coefficient values.\n",
        "\n",
        "**Hint:**\n",
        "\n",
        "- create a dummy column in the features dataframe which is made up of all ones\n",
        "- convert the features dataframe into numpy array\n",
        "- call the estimated coefficients function which is defined above\n",
        "- np.ones(), np.concatenate()"
      ],
      "id": "interior-bennett"
    },
    {
      "cell_type": "code",
      "metadata": {
        "id": "local-texas",
        "scrolled": true,
        "colab": {
          "base_uri": "https://localhost:8080/"
        },
        "outputId": "4b70e266-dcc1-4f88-d217-70102aa13511"
      },
      "source": [
        "# defining a fit function\n",
        "def fit(x, y):\n",
        "    array = x.to_numpy()\n",
        "    array_ones = np.ones((x.shape[0],1))\n",
        "    #print(array.shape)\n",
        "    #print(array_ones.shape)\n",
        "    array_new = np.concatenate((array_ones,array), axis=1)\n",
        "    #print(array_new.shape)\n",
        "    params = least_squares(array_new,y)\n",
        "    return params, pd.DataFrame(array_new)\n",
        "\n",
        "params,X_new = fit(X,y)\n",
        "print(params)\n"
      ],
      "id": "local-texas",
      "execution_count": null,
      "outputs": [
        {
          "output_type": "stream",
          "name": "stdout",
          "text": [
            "[[-5.22225116e-14]\n",
            " [-8.63500780e-01]\n",
            " [-1.74171544e-01]\n",
            " [ 2.16029345e-02]\n",
            " [-1.35210234e-01]]\n"
          ]
        }
      ]
    },
    {
      "cell_type": "markdown",
      "metadata": {
        "id": "hybrid-quick"
      },
      "source": [
        "#### Exercise 9: Predict the data on estimated coefficients (1 point)\n",
        "\n",
        "Write a function named predict which takes features, intercept and coefficient values as input and returns the predicted values.\n",
        "\n",
        "**Hint:**\n",
        "\n",
        "- Fit the intercept, coefficients values in the below equation\n",
        "\n",
        "  $y = b_0 + b_1*x + ... + b_i*x_i$"
      ],
      "id": "hybrid-quick"
    },
    {
      "cell_type": "code",
      "metadata": {
        "id": "buried-attention",
        "scrolled": true,
        "colab": {
          "base_uri": "https://localhost:8080/"
        },
        "outputId": "ffc7ea86-c9bd-4e29-e310-92dcda3cdce2"
      },
      "source": [
        " # fucntion to predict the values\n",
        "def predict(x, params):\n",
        "    '''\n",
        "    y = b_0 + b_1*x + ... + b_i*x_i\n",
        "    '''\n",
        "  \n",
        "    y_pred1 = np.dot(x,params)\n",
        "    \n",
        "    return y_pred1\n",
        "\n",
        "y_pred = predict(X_new,params)\n",
        "y_pred.shape"
      ],
      "id": "buried-attention",
      "execution_count": null,
      "outputs": [
        {
          "output_type": "execute_result",
          "data": {
            "text/plain": [
              "(9568, 1)"
            ]
          },
          "metadata": {},
          "execution_count": 128
        }
      ]
    },
    {
      "cell_type": "markdown",
      "metadata": {
        "id": "rolled-consultancy"
      },
      "source": [
        "#### Exercise 10: Root mean squared error (1 point)\n",
        "\n",
        "Write a function to calculate the RMSE error. \n",
        "\n",
        "**Hint:**\n",
        "\n",
        "- [How to calculate the RSME error](https://towardsdatascience.com/what-does-rmse-really-mean-806b65f2e48e)"
      ],
      "id": "rolled-consultancy"
    },
    {
      "cell_type": "code",
      "metadata": {
        "id": "phantom-alabama",
        "scrolled": true,
        "colab": {
          "base_uri": "https://localhost:8080/"
        },
        "outputId": "036c4f57-bf0a-406b-c7ae-fc0050364226"
      },
      "source": [
        "# Define a function to calculate the error\n",
        "\n",
        "def rmse(y,y_pred):\n",
        "  diff = (((y-y_pred)**2)/y.shape[0]).sum()\n",
        "  return diff**0.5\n",
        "\n",
        "error_rmse = rmse(y.to_numpy(),y_pred)\n",
        "print(error_rmse)"
      ],
      "id": "phantom-alabama",
      "execution_count": null,
      "outputs": [
        {
          "output_type": "stream",
          "name": "stdout",
          "text": [
            "0.26701396565722224\n"
          ]
        }
      ]
    },
    {
      "cell_type": "markdown",
      "metadata": {
        "id": "experimental-discrimination"
      },
      "source": [
        "#### Exercise 11: Split the data into train and test (1 point)\n",
        "\n",
        "Write a function named train_test_split which takes features and targets as input and returns the train and test sets respectively.\n",
        "\n",
        "**Hint:**\n",
        "\n",
        "- Shuffle the data\n",
        "- Consider 70 % of data as a train set and the rest of the data as a test set"
      ],
      "id": "experimental-discrimination"
    },
    {
      "cell_type": "code",
      "metadata": {
        "id": "dangerous-salmon",
        "scrolled": true,
        "colab": {
          "base_uri": "https://localhost:8080/"
        },
        "outputId": "e8573c0f-4ce3-4e51-fb80-beac14187dd4"
      },
      "source": [
        "def train_test_split_in(x,y,percent_split):\n",
        "  df = pd.concat([x,y],axis=1)\n",
        "  len_df = df.shape[0]\n",
        "  len_split1 = int(round(len_df * percent_split,0))\n",
        "\n",
        "  df_shuffled = df.sample(frac=1)\n",
        "  df_train = df.iloc[:len_split1,:]\n",
        "  df_test = df.iloc[len_split1:,:]\n",
        "\n",
        "  df_train_X = df_train.iloc[:,0:4]\n",
        "  df_train_y = df_train.iloc[:,4:5]\n",
        "  df_test_X = df_test.iloc[:,0:4]\n",
        "  df_test_y = df_test.iloc[:,4:5]\n",
        "  return df_train_X, df_train_y, df_test_X, df_test_y\n",
        "\n",
        "\n",
        "X_train, y_train, X_test, y_test = train_test_split_in(X,y,0.7)\n",
        "print(X_train.shape)\n",
        "print(y_train.shape)\n",
        "print(X_test.shape)\n",
        "print(y_test.shape)\n",
        "\n"
      ],
      "id": "dangerous-salmon",
      "execution_count": null,
      "outputs": [
        {
          "output_type": "stream",
          "name": "stdout",
          "text": [
            "(6698, 4)\n",
            "(6698, 1)\n",
            "(2870, 4)\n",
            "(2870, 1)\n"
          ]
        }
      ]
    },
    {
      "cell_type": "markdown",
      "metadata": {
        "id": "covered-canon"
      },
      "source": [
        "#### Exercise 12: Create a communicator (1 point)\n",
        "\n",
        "Create a comunicator and define the rank and size"
      ],
      "id": "covered-canon"
    },
    {
      "cell_type": "code",
      "metadata": {
        "id": "radio-origin",
        "scrolled": true,
        "colab": {
          "base_uri": "https://localhost:8080/"
        },
        "outputId": "8e38ae2c-a4cf-46b7-fdb0-4adf465626bb"
      },
      "source": [
        "%%writefile commfirst.py\n",
        "def main():\n",
        "  from mpi4py import MPI\n",
        "\n",
        "  comm = MPI.COMM_WORLD\n",
        "  size = comm.Get_size()\n",
        "  rank = comm.Get_rank()\n",
        "  name = MPI.Get_processor_name()\n",
        "  print(\"Hello, I am rank %d of %d\" %(rank,size))\n",
        "\n",
        "main()\n"
      ],
      "id": "radio-origin",
      "execution_count": null,
      "outputs": [
        {
          "output_type": "stream",
          "name": "stdout",
          "text": [
            "Overwriting commfirst.py\n"
          ]
        }
      ]
    },
    {
      "cell_type": "code",
      "metadata": {
        "colab": {
          "base_uri": "https://localhost:8080/"
        },
        "id": "aV_7wa83rfJv",
        "outputId": "8eb5a678-9c29-4bb3-f350-63ce47ab2a57"
      },
      "source": [
        "!mpirun --allow-run-as-root -np 2 python commfirst.py"
      ],
      "id": "aV_7wa83rfJv",
      "execution_count": null,
      "outputs": [
        {
          "output_type": "stream",
          "name": "stdout",
          "text": [
            "Hello, I am rank 0 of 2\n",
            "Hello, I am rank 1 of 2\n"
          ]
        }
      ]
    },
    {
      "cell_type": "markdown",
      "metadata": {
        "id": "miniature-plaza"
      },
      "source": [
        "#### Exercise 13: Divide the data into slices (1 point)\n",
        "\n",
        "Write a function named dividing_data which takes train features set, train target set, and size of workers as inputs and returns the sliced data for each worker.\n",
        "\n",
        "![img](https://cdn.iisc.talentsprint.com/CDS/Images/MiniProject_MPI_DataSlice.JPG)\n",
        "\n",
        "For Example, if there are 4 processes, slice the data into 4 equal parts with 25% ratio\n",
        "\n",
        "**Hint:**\n",
        "\n",
        "- Divide the Data equally among the workers\n",
        "  - Create an empty list\n",
        "  - Iterate over the size of workers\n",
        "  - Append each slice of data to the list"
      ],
      "id": "miniature-plaza"
    },
    {
      "cell_type": "code",
      "metadata": {
        "id": "signal-medicaid",
        "scrolled": true,
        "colab": {
          "base_uri": "https://localhost:8080/"
        },
        "outputId": "1f9a90a5-16b0-467c-f778-d2d5814a1348"
      },
      "source": [
        "def dividing_data(x_train, y_train, size_of_workers):\n",
        "    # Size of the slice\n",
        "    slice_for_each_worker = int(Decimal(x_train.shape[0]/size_of_workers).quantize(Decimal('1.'), rounding = ROUND_HALF_UP))      \n",
        "    print('Slice of data for each worker: {}'.format(slice_for_each_worker))\n",
        "    \n",
        "    listx = []\n",
        "    listy = []\n",
        "    start = 0\n",
        "    end = slice_for_each_worker\n",
        "    for i in range(size_of_workers):\n",
        "      data_slicex = 0\n",
        "      data_slicey = 0\n",
        "      if i == size_of_workers -1: \n",
        "        data_slicex = x_train.iloc[start:,:]\n",
        "        data_slicey = y_train.iloc[start:]\n",
        "      else:\n",
        "        data_slicex = x_train.iloc[start:end,:]\n",
        "        data_slicey = y_train.iloc[start:end]\n",
        "      listx.append(data_slicex.to_numpy())\n",
        "      listy.append(data_slicey.to_numpy())\n",
        "      start = end\n",
        "      end = end + slice_for_each_worker\n",
        "    return listx, listy\n",
        "\n",
        "list_dumx, list_dumy = dividing_data(X_train, y_train, 3)\n",
        "\n",
        "\n"
      ],
      "id": "signal-medicaid",
      "execution_count": null,
      "outputs": [
        {
          "output_type": "stream",
          "name": "stdout",
          "text": [
            "Slice of data for each worker: 2233\n"
          ]
        }
      ]
    },
    {
      "cell_type": "code",
      "metadata": {
        "colab": {
          "base_uri": "https://localhost:8080/"
        },
        "id": "Hzc4nHqssIS6",
        "outputId": "c692444e-22ca-452e-abb2-f3ae3956041f"
      },
      "source": [
        "#print(list_dumx[0].shape[0]*list_dumx[0].shape[1])\n",
        "print(list_dumy[0].shape)\n",
        "print(type(list_dumx))\n",
        "print(type(list_dumx[0]))\n",
        "print(type(list_dumy[0]))\n"
      ],
      "id": "Hzc4nHqssIS6",
      "execution_count": null,
      "outputs": [
        {
          "output_type": "stream",
          "name": "stdout",
          "text": [
            "(2233, 1)\n",
            "<class 'list'>\n",
            "<class 'numpy.ndarray'>\n",
            "<class 'numpy.ndarray'>\n"
          ]
        }
      ]
    },
    {
      "cell_type": "code",
      "metadata": {
        "colab": {
          "base_uri": "https://localhost:8080/"
        },
        "id": "WCKp2wq710IE",
        "outputId": "50354e35-fa02-4b95-f392-0a4feca00a65"
      },
      "source": [
        "print(type(list_dumx[0]))"
      ],
      "id": "WCKp2wq710IE",
      "execution_count": null,
      "outputs": [
        {
          "output_type": "stream",
          "name": "stdout",
          "text": [
            "<class 'numpy.ndarray'>\n"
          ]
        }
      ]
    },
    {
      "cell_type": "markdown",
      "metadata": {
        "id": "changing-conditioning"
      },
      "source": [
        "#### Exercise 14: Prepare the data in root worker to assign data for all the workers (1 point)\n",
        "\n",
        "- When it is the root worker, perform the below operation:\n",
        "    - Store the features and target values in separate variables\n",
        "    - Split the data into train and test sets using the train_test_split function defined above\n",
        "    - Divide the data among the workers using the dividing_data function above"
      ],
      "id": "changing-conditioning"
    },
    {
      "cell_type": "code",
      "metadata": {
        "colab": {
          "base_uri": "https://localhost:8080/"
        },
        "id": "I5FwKvzcE8Av",
        "outputId": "22336742-fb1a-4b9d-b3ef-704fc47484f3"
      },
      "source": [
        "%%writefile lrtestscatter.py\n",
        "\n",
        "def load_data(path):\n",
        "  return pd.read_csv(path).rename(columns={'AT': 'Ambient Temperature', 'V': 'Exhaust Vaccum', 'AP': 'Ambient Pressure', \n",
        "                                           'RH': 'Relative Humidity', 'PE': 'Energy Output'})\n",
        "\n",
        "def data_explore(df):\n",
        "  print( 'No of rows - ', df.shape[0])\n",
        "  print( 'No of Columns -', df.shape[1])\n",
        "  print('---------------------')\n",
        "  print('Info')\n",
        "  print('---------------------')\n",
        "  print(df.info())\n",
        "  print('---------------------')\n",
        "  print('Null Values')\n",
        "  print(df.isnull().sum())\n",
        "  print('---------------------')\n",
        "  print('Duplicate Values')\n",
        "  print('---------------------')\n",
        "  print(df.duplicated(subset=None,keep='first').sum())\n",
        "\n",
        "def scale_data(df):\n",
        "  df = (df- df.mean())/df.std()\n",
        "  return df\n",
        "\n",
        "def get_feature_target(df):\n",
        "  features = ['Ambient Temperature','Exhaust Vaccum', 'Ambient Pressure', 'Relative Humidity']\n",
        "  target = ['Energy Output']\n",
        "\n",
        "  X = df[features]\n",
        "  y = df[target]\n",
        "  return X,y\n",
        "\n",
        "def least_squares(X,y):\n",
        "    xtx = np.dot(X.T, X) ## x-transpose times x\n",
        "    inv_xtx = np.linalg.inv(xtx) ## inverse of x-transpose times x\n",
        "    xty = np.dot(X.T, y) ## x-transpose times y\n",
        "    return np.dot(inv_xtx, xty)\n",
        "\n",
        "def fit(x, y):\n",
        "    array = x\n",
        "    array_ones = np.ones((x.shape[0],1))\n",
        "    #print(array.shape)\n",
        "    #print(array_ones.shape)\n",
        "    array_new = np.concatenate((array_ones,array), axis=1)\n",
        "    #print(array_new.shape)\n",
        "    params = least_squares(array_new,y)\n",
        "    return params, pd.DataFrame(array_new)\n",
        "\n",
        "def predict(x, params):\n",
        "    '''\n",
        "    y = b_0 + b_1*x + ... + b_i*x_i\n",
        "    '''\n",
        "  \n",
        "    y_pred1 = np.dot(x,params)\n",
        "    \n",
        "    return y_pred1\n",
        "\n",
        "def rmse(y,y_pred):\n",
        "  diff = (((y-y_pred)**2)/y.shape[0]).sum()\n",
        "  return diff**0.5\n",
        "\n",
        "def train_test_split_in(x,y,percent_split):\n",
        "  df = pd.concat([x,y],axis=1)\n",
        "  len_df = df.shape[0]\n",
        "  len_split1 = int(round(len_df * percent_split,0))\n",
        "\n",
        "  df_shuffled = df.sample(frac=1)\n",
        "  df_train = df.iloc[:len_split1,:]\n",
        "  df_test = df.iloc[len_split1:,:]\n",
        "\n",
        "  df_train_X = df_train.iloc[:,0:4]\n",
        "  df_train_y = df_train.iloc[:,4:5]\n",
        "  df_test_X = df_test.iloc[:,0:4]\n",
        "  df_test_y = df_test.iloc[:,4:5]\n",
        "  return df_train_X, df_train_y, df_test_X, df_test_y\n",
        "\n",
        "def dividing_data(x_train, y_train, size_of_workers):\n",
        "    # Size of the slice\n",
        "    slice_for_each_worker = int(Decimal(x_train.shape[0]/size_of_workers).quantize(Decimal('1.'), rounding = ROUND_HALF_UP))      \n",
        "    print('Slice of data for each worker: {}'.format(slice_for_each_worker))\n",
        "    \n",
        "    listx = []\n",
        "    listy = []\n",
        "    start = 0\n",
        "    end = slice_for_each_worker\n",
        "    for i in range(size_of_workers):\n",
        "      data_slicex = 0\n",
        "      data_slicey = 0\n",
        "      if i == size_of_workers -1: \n",
        "        data_slicex = x_train.iloc[start:,:]\n",
        "        data_slicey = y_train.iloc[start:]\n",
        "      else:\n",
        "        data_slicex = x_train.iloc[start:end,:]\n",
        "        data_slicey = y_train.iloc[start:end]\n",
        "      listx.append(data_slicex.to_numpy())\n",
        "      listy.append(data_slicey.to_numpy())\n",
        "      start = end\n",
        "      end = end + slice_for_each_worker\n",
        "    return listx, listy\n",
        "\n",
        "def main():\n",
        "  #creating a communicator\n",
        "  comm = MPI.COMM_WORLD\n",
        "  #number of processes running the code\n",
        "  rank = comm.Get_rank()\n",
        "  size = comm.Get_size()\n",
        "  data_x = None\n",
        "  data_y = None\n",
        "  params = None\n",
        "  if rank == 0:\n",
        "    # Load Data\n",
        "    FILENAME = \"/content/PowerPlantData.csv\" # File path\n",
        "    data_init = load_data(FILENAME)\n",
        "    # Explore Data\n",
        "    print(data_explore(data_init))\n",
        "    # Scale Data\n",
        "    data_scaled = scale_data(data_init)\n",
        "    # Get Features\n",
        "    X,y = get_feature_target(data_scaled)\n",
        "    # Train Test Split\n",
        "    X_train, y_train, X_test, y_test = train_test_split_in(X,y,0.7)\n",
        "    # Divide the data \n",
        "    data_x, data_y = dividing_data(X_train, y_train, size)\n",
        " \n",
        "  data_x = comm.scatter(data_x, root=0)\n",
        "  data_y = comm.scatter(data_y, root=0)\n",
        "  # Calculate the coefficients for each slice of data\n",
        "  params,X_new = fit(data_x,data_y)\n",
        "  params = comm.gather(params,root=0)\n",
        "\n",
        "  if rank == 0:\n",
        "    print('Process {} has data:'.format(rank), params)\n",
        "    # Predict target for test data using mean of params from each process\n",
        "    params_train = np.mean(params,axis=0)\n",
        "    params_test, X_test_new = fit(X_test,y_test)\n",
        "    y_pred_new = predict(X_test_new,params_train)\n",
        "    error_rmse = rmse(y_test,y_pred_new)\n",
        "    print('Process{} has data:'.format(rank),params_train)\n",
        "    print('Process {} has data:'.format(rank), error_rmse)\n",
        "\n",
        "import pandas as pd \n",
        "# Importing Numpy\n",
        "import numpy as np \n",
        "# Importing MPI from mpi4py package\n",
        "from mpi4py import MPI \n",
        "# Importing sqrt function from the Math\n",
        "from math import sqrt \n",
        "# Importing Decimal, ROUND_HALF_UP functions from the decimal package\n",
        "from decimal import Decimal, ROUND_HALF_UP \n",
        "import time\n",
        "\n",
        "main()\n",
        "\n",
        "\n",
        "\n",
        "\n"
      ],
      "id": "I5FwKvzcE8Av",
      "execution_count": null,
      "outputs": [
        {
          "output_type": "stream",
          "name": "stdout",
          "text": [
            "Overwriting lrtestscatter.py\n"
          ]
        }
      ]
    },
    {
      "cell_type": "code",
      "metadata": {
        "colab": {
          "base_uri": "https://localhost:8080/"
        },
        "id": "2K33NoAry4ad",
        "outputId": "d4cf3bbd-b613-4a06-e027-3ffa378fbf8f"
      },
      "source": [
        "! mpirun --allow-run-as-root -np 3 python lrtestscatter.py"
      ],
      "id": "2K33NoAry4ad",
      "execution_count": null,
      "outputs": [
        {
          "output_type": "stream",
          "name": "stdout",
          "text": [
            "No of rows -  9568\n",
            "No of Columns - 5\n",
            "---------------------\n",
            "Info\n",
            "---------------------\n",
            "<class 'pandas.core.frame.DataFrame'>\n",
            "RangeIndex: 9568 entries, 0 to 9567\n",
            "Data columns (total 5 columns):\n",
            " #   Column               Non-Null Count  Dtype  \n",
            "---  ------               --------------  -----  \n",
            " 0   Ambient Temperature  9568 non-null   float64\n",
            " 1   Exhaust Vaccum       9568 non-null   float64\n",
            " 2   Ambient Pressure     9568 non-null   float64\n",
            " 3   Relative Humidity    9568 non-null   float64\n",
            " 4   Energy Output        9568 non-null   float64\n",
            "dtypes: float64(5)\n",
            "memory usage: 373.9 KB\n",
            "None\n",
            "---------------------\n",
            "Null Values\n",
            "Ambient Temperature    0\n",
            "Exhaust Vaccum         0\n",
            "Ambient Pressure       0\n",
            "Relative Humidity      0\n",
            "Energy Output          0\n",
            "dtype: int64\n",
            "---------------------\n",
            "Duplicate Values\n",
            "---------------------\n",
            "41\n",
            "None\n",
            "Slice of data for each worker: 2233\n",
            "Process 0 has data: [array([[ 0.00405002],\n",
            "       [-0.85879604],\n",
            "       [-0.16402858],\n",
            "       [ 0.02233545],\n",
            "       [-0.12673205]]), array([[-0.00903568],\n",
            "       [-0.85496661],\n",
            "       [-0.18046522],\n",
            "       [ 0.0187145 ],\n",
            "       [-0.128537  ]]), array([[-0.00212388],\n",
            "       [-0.86160808],\n",
            "       [-0.18537053],\n",
            "       [ 0.0242545 ],\n",
            "       [-0.14342514]])]\n",
            "Process0 has data: [[-0.00236985]\n",
            " [-0.85845691]\n",
            " [-0.17662144]\n",
            " [ 0.02176815]\n",
            " [-0.13289806]]\n",
            "Process 0 has data: Energy Output    0.264146\n",
            "dtype: float64\n"
          ]
        }
      ]
    },
    {
      "cell_type": "markdown",
      "metadata": {
        "id": "breathing-baking"
      },
      "source": [
        "#### Exercise 15: Scatter and gather the data (1 point)\n",
        "\n",
        "Perform the below operations:\n",
        "\n",
        "- Send slices of the training set(the features data X and the expected target data Y) to every worker including the root worker\n",
        "    - **Hint:** scatter()\n",
        "    - use `barrier()` to block workers until all workers in the group reach a Barrier, to scatter from root worker.\n",
        "- Every worker should get the predicted target Y(yhat) for each slice\n",
        "- Get the new coefficient of each instance in a slice\n",
        "    - **Hint:** fit function defined above\n",
        "- Gather the new coefficient from each worker\n",
        "    - **Hint:** gather()\n",
        "- Calculate the root mean square error for the test set\n",
        "\n",
        "To know more about `scatter`, `gather` and `barrier` click [here](https://nyu-cds.github.io/python-mpi/05-collectives/)"
      ],
      "id": "breathing-baking"
    },
    {
      "cell_type": "code",
      "metadata": {
        "id": "consistent-union",
        "scrolled": true
      },
      "source": [
        "# YOUR CODE HERE"
      ],
      "id": "consistent-union",
      "execution_count": null,
      "outputs": []
    },
    {
      "cell_type": "markdown",
      "metadata": {
        "id": "hired-uniform"
      },
      "source": [
        "#### Exercise 16: Make a script and execute everything in one place (1 point)\n",
        "\n",
        "Write a script(.py) file which contains the code of all the above exercises in it so that you can run the code on multiple processes using MPI.\n",
        "\n",
        "**Hint:**\n",
        "\n",
        "- magic commands\n",
        "- put MPI related code under main function\n",
        "- !mpirun --allow-run-as-root -np 4 python filename.py"
      ],
      "id": "hired-uniform"
    },
    {
      "cell_type": "code",
      "metadata": {
        "id": "motivated-national"
      },
      "source": [
        "# YOUR CODE HERE for scipt(.py) "
      ],
      "id": "motivated-national",
      "execution_count": null,
      "outputs": []
    },
    {
      "cell_type": "code",
      "metadata": {
        "id": "experimental-waterproof",
        "scrolled": true
      },
      "source": [
        "# YOUR CODE HERE for MPI command"
      ],
      "id": "experimental-waterproof",
      "execution_count": null,
      "outputs": []
    },
    {
      "cell_type": "markdown",
      "metadata": {
        "id": "living-operation"
      },
      "source": [
        "#### Exercise 17: Implement predict using OpenMP (1 point)\n",
        "\n",
        "Get the predictions for test data and calculate the test error(RMSE) by implementing the OpenMP (pymp)\n",
        "\n",
        "**Hints:**\n",
        "\n",
        "* Using the pymp.Parallel implement the predict function (use from above)\n",
        "\n",
        "* Call the predict function by passing test data as an argument\n",
        "\n",
        "* calculate the error (RMSE) by comparing the Actual test data and predicted test data"
      ],
      "id": "living-operation"
    },
    {
      "cell_type": "code",
      "metadata": {
        "id": "S65Oxt1swWdh",
        "colab": {
          "base_uri": "https://localhost:8080/"
        },
        "outputId": "008c9fc2-4d35-4ab8-fffd-1ef4e2a57dca"
      },
      "source": [
        "!pip install pymp-pypi"
      ],
      "id": "S65Oxt1swWdh",
      "execution_count": null,
      "outputs": [
        {
          "output_type": "stream",
          "name": "stdout",
          "text": [
            "Requirement already satisfied: pymp-pypi in /usr/local/lib/python3.7/dist-packages (0.4.5)\n"
          ]
        }
      ]
    },
    {
      "cell_type": "code",
      "metadata": {
        "id": "k9-VAy_TZBq7"
      },
      "source": [
        ""
      ],
      "id": "k9-VAy_TZBq7",
      "execution_count": null,
      "outputs": []
    },
    {
      "cell_type": "code",
      "metadata": {
        "id": "behavioral-tablet",
        "scrolled": true,
        "colab": {
          "base_uri": "https://localhost:8080/"
        },
        "outputId": "39743c99-627b-498f-fc63-6c522d1aa1bb"
      },
      "source": [
        "import pymp\n",
        "test_data_x = pymp.shared.array((X_test.shape), dtype='uint8')\n",
        "test_data_x = X_test # From Exercise 11 using custom test train split\n",
        "\n",
        "# Use OPEN MP for implementing predict function\n",
        "\n",
        "\n",
        "with pymp.Parallel(4) as p:\n",
        "  def parallel_predict(x, params):\n",
        "    '''\n",
        "    y = b_0 + b_1*x + ... + b_i*x_i\n",
        "    '''  \n",
        "    array = x\n",
        "\n",
        "    array_ones = np.ones((x.shape[0],1))\n",
        "\n",
        "    array_new = np.concatenate((array_ones,array), axis=1)\n",
        "\n",
        "    y_pred1 = np.dot(array_new,params)\n",
        "    \n",
        "    return y_pred1\n",
        "\n",
        "  # Calculate predicted values on test_data\n",
        "\n",
        "  start_time=time.perf_counter()\n",
        "  y_pred=parallel_predict(test_data_x,params)\n",
        "  end_time = time.perf_counter()\n",
        "\n",
        "print(\"Time Elapsed\", end_time - start_time)\n",
        "\n",
        "#p.close()\n",
        "\n",
        "\n",
        "# Calculate RMSE\n",
        "print(\"RMSE \",rmse(y_test,y_pred))"
      ],
      "id": "behavioral-tablet",
      "execution_count": null,
      "outputs": [
        {
          "output_type": "stream",
          "name": "stdout",
          "text": [
            "Time Elapsed 0.00046772300083830487\n",
            "RMSE  Energy Output    0.264012\n",
            "dtype: float64\n"
          ]
        }
      ]
    },
    {
      "cell_type": "code",
      "metadata": {
        "id": "anQGQvhaZwPX"
      },
      "source": [
        "def predict_pmp(x, params):\n",
        "    '''\n",
        "    y = b_0 + b_1*x + ... + b_i*x_i\n",
        "    '''\n",
        "    array = x\n",
        "\n",
        "    array_ones = np.ones((x.shape[0],1))\n",
        "\n",
        "    array_new = np.concatenate((array_ones,array), axis=1)\n",
        "\n",
        "    y_pred1 = np.dot(array_new,params)\n",
        "    \n",
        "    return y_pred1\n"
      ],
      "id": "anQGQvhaZwPX",
      "execution_count": null,
      "outputs": []
    },
    {
      "cell_type": "code",
      "metadata": {
        "colab": {
          "base_uri": "https://localhost:8080/"
        },
        "id": "WvSyXCdvY6zB",
        "outputId": "6264f55e-ba2b-4bc0-ea7f-5a19c81a7a4f"
      },
      "source": [
        "# Test using regular predict function\n",
        "\n",
        "start_time=time.perf_counter()\n",
        "y_pred=predict_pmp(X_test,params)\n",
        "end_time = time.perf_counter()\n",
        "\n",
        "print(\"Time Elapsed\", end_time - start_time)\n",
        "print(\"RMSE \",rmse(y_test,y_pred))"
      ],
      "id": "WvSyXCdvY6zB",
      "execution_count": null,
      "outputs": [
        {
          "output_type": "stream",
          "name": "stdout",
          "text": [
            "Time Elapsed 0.0065912190002563875\n",
            "RMSE  Energy Output    0.264012\n",
            "dtype: float64\n"
          ]
        }
      ]
    },
    {
      "cell_type": "markdown",
      "metadata": {
        "id": "protecting-assets"
      },
      "source": [
        "#### Exercise 18: Use Sklearn to compare (1 point)\n",
        "\n",
        "Apply the Linear regression on the given data using sklearn package and compare with the above results\n",
        "\n",
        "**Hint:**\n",
        "* Split the data into train and test\n",
        "* Fit the train data and predict the test data using `sklearn Linear Regression`\n",
        "* Compare the coefficients and intercept with above estimated coefficients\n",
        "* calculate loss (RMSE) on test data and predictions and compare"
      ],
      "id": "protecting-assets"
    },
    {
      "cell_type": "code",
      "metadata": {
        "id": "applicable-tyler",
        "colab": {
          "base_uri": "https://localhost:8080/"
        },
        "outputId": "bfb52954-b810-4d9e-fc82-f4b137b2c7fa"
      },
      "source": [
        "from sklearn.linear_model import LinearRegression\n",
        "from sklearn.model_selection import train_test_split\n",
        "from sklearn.metrics import mean_squared_error\n",
        "\n",
        "\n",
        "\n",
        "SKL1 = LinearRegression()\n",
        "\n",
        "\n",
        "\n",
        "data_scaled = scale_data(data_init)\n",
        "X,y = get_feature_target(data_scaled)\n",
        "\n",
        "X_train, X_test, y_train, y_test = train_test_split(X, y, test_size=0.70, random_state=42,shuffle=True)\n",
        "SKL1.fit(np.array(X_train),y_train)\n",
        "\n",
        "# Check the co-efficents from our LinearRegression Class and sklearns\n",
        "print('SKlearn  Linear Regression Co-efficient is : ',SKL1.coef_,SKL1.intercept_)\n",
        "\n",
        "y_pred = SKL1.predict(X_test)\n",
        "rmse = np.sqrt(mean_squared_error(y_test, y_pred))\n",
        "print(\"RMSE Error:\", rmse)\n",
        "\n"
      ],
      "id": "applicable-tyler",
      "execution_count": null,
      "outputs": [
        {
          "output_type": "stream",
          "name": "stdout",
          "text": [
            "SKlearn  Linear Regression Co-efficient is :  [[-0.87481436 -0.16774442  0.02299454 -0.13255654]] [-0.00826965]\n",
            "RMSE Error: 0.26839497882117186\n"
          ]
        }
      ]
    },
    {
      "cell_type": "code",
      "metadata": {
        "id": "ruLd6vDmaHoS"
      },
      "source": [
        ""
      ],
      "id": "ruLd6vDmaHoS",
      "execution_count": null,
      "outputs": []
    }
  ]
}